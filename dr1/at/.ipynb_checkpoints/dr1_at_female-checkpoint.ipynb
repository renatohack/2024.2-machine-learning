{
 "cells": [
  {
   "cell_type": "markdown",
   "metadata": {
    "id": "sKYowxKEJdev"
   },
   "source": [
    "# INITIALIZE"
   ]
  },
  {
   "cell_type": "code",
   "execution_count": 135,
   "metadata": {
    "colab": {
     "base_uri": "https://localhost:8080/"
    },
    "executionInfo": {
     "elapsed": 7146,
     "status": "ok",
     "timestamp": 1718108424611,
     "user": {
      "displayName": "Renato Noronha Hack",
      "userId": "16810341051324566567"
     },
     "user_tz": 180
    },
    "id": "R3b8UY18Irtc",
    "outputId": "d37ab389-1bda-4364-9e01-ba874fd4a1ee"
   },
   "outputs": [
    {
     "name": "stdout",
     "output_type": "stream",
     "text": [
      "Requirement already satisfied: factor_analyzer in /opt/conda/lib/python3.11/site-packages (0.5.1)\n",
      "Requirement already satisfied: pandas in /opt/conda/lib/python3.11/site-packages (from factor_analyzer) (2.2.2)\n",
      "Requirement already satisfied: scipy in /opt/conda/lib/python3.11/site-packages (from factor_analyzer) (1.13.0)\n",
      "Requirement already satisfied: numpy in /opt/conda/lib/python3.11/site-packages (from factor_analyzer) (1.26.4)\n",
      "Requirement already satisfied: scikit-learn in /opt/conda/lib/python3.11/site-packages (from factor_analyzer) (1.4.2)\n",
      "Requirement already satisfied: python-dateutil>=2.8.2 in /opt/conda/lib/python3.11/site-packages (from pandas->factor_analyzer) (2.9.0)\n",
      "Requirement already satisfied: pytz>=2020.1 in /opt/conda/lib/python3.11/site-packages (from pandas->factor_analyzer) (2024.1)\n",
      "Requirement already satisfied: tzdata>=2022.7 in /opt/conda/lib/python3.11/site-packages (from pandas->factor_analyzer) (2024.1)\n",
      "Requirement already satisfied: joblib>=1.2.0 in /opt/conda/lib/python3.11/site-packages (from scikit-learn->factor_analyzer) (1.4.0)\n",
      "Requirement already satisfied: threadpoolctl>=2.0.0 in /opt/conda/lib/python3.11/site-packages (from scikit-learn->factor_analyzer) (3.4.0)\n",
      "Requirement already satisfied: six>=1.5 in /opt/conda/lib/python3.11/site-packages (from python-dateutil>=2.8.2->pandas->factor_analyzer) (1.16.0)\n"
     ]
    }
   ],
   "source": [
    "!pip install factor_analyzer"
   ]
  },
  {
   "cell_type": "code",
   "execution_count": 136,
   "metadata": {
    "colab": {
     "base_uri": "https://localhost:8080/"
    },
    "executionInfo": {
     "elapsed": 10049,
     "status": "ok",
     "timestamp": 1718108434651,
     "user": {
      "displayName": "Renato Noronha Hack",
      "userId": "16810341051324566567"
     },
     "user_tz": 180
    },
    "id": "Dtr1dsEHN5im",
    "outputId": "359d9a2c-d3e4-4bf4-accd-48300544d361"
   },
   "outputs": [
    {
     "name": "stdout",
     "output_type": "stream",
     "text": [
      "Requirement already satisfied: plotly in /opt/conda/lib/python3.11/site-packages (5.22.0)\n",
      "Requirement already satisfied: tenacity>=6.2.0 in /opt/conda/lib/python3.11/site-packages (from plotly) (8.3.0)\n",
      "Requirement already satisfied: packaging in /opt/conda/lib/python3.11/site-packages (from plotly) (24.0)\n"
     ]
    }
   ],
   "source": [
    "!pip install plotly"
   ]
  },
  {
   "cell_type": "code",
   "execution_count": 137,
   "metadata": {
    "executionInfo": {
     "elapsed": 5,
     "status": "ok",
     "timestamp": 1718108434652,
     "user": {
      "displayName": "Renato Noronha Hack",
      "userId": "16810341051324566567"
     },
     "user_tz": 180
    },
    "id": "DNjMgS1X3RBa"
   },
   "outputs": [],
   "source": [
    "import pandas as pd\n",
    "import numpy as np\n",
    "import seaborn as sns\n",
    "import matplotlib.pyplot as plt\n",
    "import plotly.express as px"
   ]
  },
  {
   "cell_type": "code",
   "execution_count": 138,
   "metadata": {
    "executionInfo": {
     "elapsed": 4,
     "status": "ok",
     "timestamp": 1718108434652,
     "user": {
      "displayName": "Renato Noronha Hack",
      "userId": "16810341051324566567"
     },
     "user_tz": 180
    },
    "id": "DiX41fhPIjl9"
   },
   "outputs": [],
   "source": [
    "%matplotlib inline\n",
    "import plotly.io as pio\n",
    "pio.renderers.default = 'iframe'"
   ]
  },
  {
   "cell_type": "code",
   "execution_count": 139,
   "metadata": {
    "executionInfo": {
     "elapsed": 454,
     "status": "ok",
     "timestamp": 1718108435103,
     "user": {
      "displayName": "Renato Noronha Hack",
      "userId": "16810341051324566567"
     },
     "user_tz": 180
    },
    "id": "KM6LvAjJ6RJx"
   },
   "outputs": [
    {
     "data": {
      "text/html": [
       "<div>\n",
       "<style scoped>\n",
       "    .dataframe tbody tr th:only-of-type {\n",
       "        vertical-align: middle;\n",
       "    }\n",
       "\n",
       "    .dataframe tbody tr th {\n",
       "        vertical-align: top;\n",
       "    }\n",
       "\n",
       "    .dataframe thead th {\n",
       "        text-align: right;\n",
       "    }\n",
       "</style>\n",
       "<table border=\"1\" class=\"dataframe\">\n",
       "  <thead>\n",
       "    <tr style=\"text-align: right;\">\n",
       "      <th></th>\n",
       "      <th>player</th>\n",
       "      <th>age</th>\n",
       "      <th>elo</th>\n",
       "      <th>hardraw</th>\n",
       "      <th>clayraw</th>\n",
       "      <th>grassraw</th>\n",
       "      <th>hard-court-elo-rating</th>\n",
       "      <th>clay-court-elo-rating</th>\n",
       "      <th>grass-court-elo-rating</th>\n",
       "      <th>peak-age</th>\n",
       "      <th>peak-elo</th>\n",
       "      <th>gender</th>\n",
       "    </tr>\n",
       "  </thead>\n",
       "  <tbody>\n",
       "    <tr>\n",
       "      <th>0</th>\n",
       "      <td>Ashleigh Barty</td>\n",
       "      <td>25.3</td>\n",
       "      <td>2132.0</td>\n",
       "      <td>1994.1</td>\n",
       "      <td>1929.0</td>\n",
       "      <td>1817.9</td>\n",
       "      <td>2063.0</td>\n",
       "      <td>2030.5</td>\n",
       "      <td>1975.0</td>\n",
       "      <td>25.3</td>\n",
       "      <td>2148.9</td>\n",
       "      <td>Female</td>\n",
       "    </tr>\n",
       "    <tr>\n",
       "      <th>1</th>\n",
       "      <td>Naomi Osaka</td>\n",
       "      <td>23.9</td>\n",
       "      <td>2038.9</td>\n",
       "      <td>1986.8</td>\n",
       "      <td>1661.1</td>\n",
       "      <td>1546.2</td>\n",
       "      <td>2012.9</td>\n",
       "      <td>1850.0</td>\n",
       "      <td>1792.5</td>\n",
       "      <td>23.4</td>\n",
       "      <td>2114.3</td>\n",
       "      <td>Female</td>\n",
       "    </tr>\n",
       "    <tr>\n",
       "      <th>2</th>\n",
       "      <td>Simona Halep</td>\n",
       "      <td>30.1</td>\n",
       "      <td>2033.4</td>\n",
       "      <td>1910.2</td>\n",
       "      <td>1934.6</td>\n",
       "      <td>1757.4</td>\n",
       "      <td>1971.8</td>\n",
       "      <td>1984.0</td>\n",
       "      <td>1895.4</td>\n",
       "      <td>26.9</td>\n",
       "      <td>2096.2</td>\n",
       "      <td>Female</td>\n",
       "    </tr>\n",
       "    <tr>\n",
       "      <th>3</th>\n",
       "      <td>Anett Kontaveit</td>\n",
       "      <td>25.9</td>\n",
       "      <td>2010.6</td>\n",
       "      <td>1934.3</td>\n",
       "      <td>1743.7</td>\n",
       "      <td>1571.7</td>\n",
       "      <td>1972.5</td>\n",
       "      <td>1877.2</td>\n",
       "      <td>1791.2</td>\n",
       "      <td>25.9</td>\n",
       "      <td>2010.6</td>\n",
       "      <td>Female</td>\n",
       "    </tr>\n",
       "    <tr>\n",
       "      <th>4</th>\n",
       "      <td>Aryna Sabalenka</td>\n",
       "      <td>23.5</td>\n",
       "      <td>1990.5</td>\n",
       "      <td>1880.7</td>\n",
       "      <td>1771.7</td>\n",
       "      <td>1677.6</td>\n",
       "      <td>1935.6</td>\n",
       "      <td>1881.1</td>\n",
       "      <td>1834.1</td>\n",
       "      <td>23.0</td>\n",
       "      <td>2053.4</td>\n",
       "      <td>Female</td>\n",
       "    </tr>\n",
       "    <tr>\n",
       "      <th>...</th>\n",
       "      <td>...</td>\n",
       "      <td>...</td>\n",
       "      <td>...</td>\n",
       "      <td>...</td>\n",
       "      <td>...</td>\n",
       "      <td>...</td>\n",
       "      <td>...</td>\n",
       "      <td>...</td>\n",
       "      <td>...</td>\n",
       "      <td>...</td>\n",
       "      <td>...</td>\n",
       "      <td>...</td>\n",
       "    </tr>\n",
       "    <tr>\n",
       "      <th>391</th>\n",
       "      <td>Olivia Tjandramulia</td>\n",
       "      <td>24.6</td>\n",
       "      <td>1112.5</td>\n",
       "      <td>1038.9</td>\n",
       "      <td>1070.2</td>\n",
       "      <td>1305.8</td>\n",
       "      <td>1075.7</td>\n",
       "      <td>1091.3</td>\n",
       "      <td>1209.2</td>\n",
       "      <td>18.5</td>\n",
       "      <td>1265.3</td>\n",
       "      <td>Female</td>\n",
       "    </tr>\n",
       "    <tr>\n",
       "      <th>392</th>\n",
       "      <td>Eden Silva</td>\n",
       "      <td>25.5</td>\n",
       "      <td>1094.4</td>\n",
       "      <td>926.2</td>\n",
       "      <td>1072.1</td>\n",
       "      <td>1153.7</td>\n",
       "      <td>1010.3</td>\n",
       "      <td>1083.3</td>\n",
       "      <td>1124.1</td>\n",
       "      <td>21.2</td>\n",
       "      <td>1228.7</td>\n",
       "      <td>Female</td>\n",
       "    </tr>\n",
       "    <tr>\n",
       "      <th>393</th>\n",
       "      <td>Riya Bhatia</td>\n",
       "      <td>24.2</td>\n",
       "      <td>1058.4</td>\n",
       "      <td>1028.8</td>\n",
       "      <td>1150.1</td>\n",
       "      <td>1245.3</td>\n",
       "      <td>1043.6</td>\n",
       "      <td>1104.3</td>\n",
       "      <td>1151.9</td>\n",
       "      <td>20.2</td>\n",
       "      <td>1196.3</td>\n",
       "      <td>Female</td>\n",
       "    </tr>\n",
       "    <tr>\n",
       "      <th>394</th>\n",
       "      <td>Anna Siskova</td>\n",
       "      <td>20.4</td>\n",
       "      <td>1035.9</td>\n",
       "      <td>1227.6</td>\n",
       "      <td>972.5</td>\n",
       "      <td>0.0</td>\n",
       "      <td>1131.8</td>\n",
       "      <td>1004.2</td>\n",
       "      <td>1193.0</td>\n",
       "      <td>15.0</td>\n",
       "      <td>1169.0</td>\n",
       "      <td>Female</td>\n",
       "    </tr>\n",
       "    <tr>\n",
       "      <th>395</th>\n",
       "      <td>Ekaterina Yashina</td>\n",
       "      <td>28.2</td>\n",
       "      <td>1032.1</td>\n",
       "      <td>1057.5</td>\n",
       "      <td>908.5</td>\n",
       "      <td>1325.5</td>\n",
       "      <td>1044.8</td>\n",
       "      <td>970.3</td>\n",
       "      <td>1178.8</td>\n",
       "      <td>18.0</td>\n",
       "      <td>1229.3</td>\n",
       "      <td>Female</td>\n",
       "    </tr>\n",
       "  </tbody>\n",
       "</table>\n",
       "<p>396 rows × 12 columns</p>\n",
       "</div>"
      ],
      "text/plain": [
       "                  player   age     elo  hardraw  clayraw  grassraw  \\\n",
       "0         Ashleigh Barty  25.3  2132.0   1994.1   1929.0    1817.9   \n",
       "1            Naomi Osaka  23.9  2038.9   1986.8   1661.1    1546.2   \n",
       "2           Simona Halep  30.1  2033.4   1910.2   1934.6    1757.4   \n",
       "3        Anett Kontaveit  25.9  2010.6   1934.3   1743.7    1571.7   \n",
       "4        Aryna Sabalenka  23.5  1990.5   1880.7   1771.7    1677.6   \n",
       "..                   ...   ...     ...      ...      ...       ...   \n",
       "391  Olivia Tjandramulia  24.6  1112.5   1038.9   1070.2    1305.8   \n",
       "392           Eden Silva  25.5  1094.4    926.2   1072.1    1153.7   \n",
       "393          Riya Bhatia  24.2  1058.4   1028.8   1150.1    1245.3   \n",
       "394         Anna Siskova  20.4  1035.9   1227.6    972.5       0.0   \n",
       "395    Ekaterina Yashina  28.2  1032.1   1057.5    908.5    1325.5   \n",
       "\n",
       "     hard-court-elo-rating  clay-court-elo-rating  grass-court-elo-rating  \\\n",
       "0                   2063.0                 2030.5                  1975.0   \n",
       "1                   2012.9                 1850.0                  1792.5   \n",
       "2                   1971.8                 1984.0                  1895.4   \n",
       "3                   1972.5                 1877.2                  1791.2   \n",
       "4                   1935.6                 1881.1                  1834.1   \n",
       "..                     ...                    ...                     ...   \n",
       "391                 1075.7                 1091.3                  1209.2   \n",
       "392                 1010.3                 1083.3                  1124.1   \n",
       "393                 1043.6                 1104.3                  1151.9   \n",
       "394                 1131.8                 1004.2                  1193.0   \n",
       "395                 1044.8                  970.3                  1178.8   \n",
       "\n",
       "     peak-age  peak-elo  gender  \n",
       "0        25.3    2148.9  Female  \n",
       "1        23.4    2114.3  Female  \n",
       "2        26.9    2096.2  Female  \n",
       "3        25.9    2010.6  Female  \n",
       "4        23.0    2053.4  Female  \n",
       "..        ...       ...     ...  \n",
       "391      18.5    1265.3  Female  \n",
       "392      21.2    1228.7  Female  \n",
       "393      20.2    1196.3  Female  \n",
       "394      15.0    1169.0  Female  \n",
       "395      18.0    1229.3  Female  \n",
       "\n",
       "[396 rows x 12 columns]"
      ]
     },
     "execution_count": 139,
     "metadata": {},
     "output_type": "execute_result"
    }
   ],
   "source": [
    "df = pd.read_csv('tenis.csv')\n",
    "\n",
    "# Considerando que '-' significa que o individuo não possui ranking,\n",
    "# podemos considerar que possui rank 0\n",
    "df = df.replace(\"-\", 0)\n",
    "df = df.astype({'hardraw':float, 'clayraw':float, 'grassraw':float})\n",
    "\n",
    "# Separa os datasets de homens e mulheres\n",
    "df_female = df[df['gender'] == 'Female'].copy().reset_index(drop=True)\n",
    "df_female"
   ]
  },
  {
   "cell_type": "code",
   "execution_count": 140,
   "metadata": {},
   "outputs": [],
   "source": [
    "# Incluir coluna com numero do ranking real\n",
    "\n",
    "lista_rankings = list()\n",
    "for i in range(1, len(df_female.index) + 1):\n",
    "    lista_rankings.append(i)\n",
    "\n",
    "df_female['ranking-real'] = lista_rankings"
   ]
  },
  {
   "cell_type": "markdown",
   "metadata": {
    "id": "s_UKEeQbJkB8"
   },
   "source": [
    "### Faça a matriz de Correlação dos campos. Plote a matriz de correlação com heatmap."
   ]
  },
  {
   "cell_type": "code",
   "execution_count": 141,
   "metadata": {
    "executionInfo": {
     "elapsed": 9,
     "status": "ok",
     "timestamp": 1718108435106,
     "user": {
      "displayName": "Renato Noronha Hack",
      "userId": "16810341051324566567"
     },
     "user_tz": 180
    },
    "id": "f8XZANGoFR3N"
   },
   "outputs": [],
   "source": [
    "# Exclui colunas que não contribuem para o ranking\n",
    "# e também a coluna Elo, que é diretamente proporcional ao ranking (não podemos roubar rs)\n",
    "variaveis_numericas = df_female.drop(['player', 'age', 'elo', 'peak-age', 'peak-elo', 'gender', 'ranking-real'], axis=1)"
   ]
  },
  {
   "cell_type": "code",
   "execution_count": 142,
   "metadata": {
    "colab": {
     "base_uri": "https://localhost:8080/",
     "height": 0
    },
    "executionInfo": {
     "elapsed": 10,
     "status": "ok",
     "timestamp": 1718108435107,
     "user": {
      "displayName": "Renato Noronha Hack",
      "userId": "16810341051324566567"
     },
     "user_tz": 180
    },
    "id": "I_mOkP3mFspI",
    "outputId": "d591098a-48f4-44b2-b20b-040e6e10f4e1"
   },
   "outputs": [
    {
     "data": {
      "text/html": [
       "<div>\n",
       "<style scoped>\n",
       "    .dataframe tbody tr th:only-of-type {\n",
       "        vertical-align: middle;\n",
       "    }\n",
       "\n",
       "    .dataframe tbody tr th {\n",
       "        vertical-align: top;\n",
       "    }\n",
       "\n",
       "    .dataframe thead th {\n",
       "        text-align: right;\n",
       "    }\n",
       "</style>\n",
       "<table border=\"1\" class=\"dataframe\">\n",
       "  <thead>\n",
       "    <tr style=\"text-align: right;\">\n",
       "      <th></th>\n",
       "      <th>hardraw</th>\n",
       "      <th>clayraw</th>\n",
       "      <th>grassraw</th>\n",
       "      <th>hard-court-elo-rating</th>\n",
       "      <th>clay-court-elo-rating</th>\n",
       "      <th>grass-court-elo-rating</th>\n",
       "    </tr>\n",
       "  </thead>\n",
       "  <tbody>\n",
       "    <tr>\n",
       "      <th>hardraw</th>\n",
       "      <td>1.000000</td>\n",
       "      <td>0.701188</td>\n",
       "      <td>0.597374</td>\n",
       "      <td>0.984320</td>\n",
       "      <td>0.856724</td>\n",
       "      <td>0.861759</td>\n",
       "    </tr>\n",
       "    <tr>\n",
       "      <th>clayraw</th>\n",
       "      <td>0.701188</td>\n",
       "      <td>1.000000</td>\n",
       "      <td>0.519700</td>\n",
       "      <td>0.786676</td>\n",
       "      <td>0.958130</td>\n",
       "      <td>0.785838</td>\n",
       "    </tr>\n",
       "    <tr>\n",
       "      <th>grassraw</th>\n",
       "      <td>0.597374</td>\n",
       "      <td>0.519700</td>\n",
       "      <td>1.000000</td>\n",
       "      <td>0.602306</td>\n",
       "      <td>0.577490</td>\n",
       "      <td>0.563358</td>\n",
       "    </tr>\n",
       "    <tr>\n",
       "      <th>hard-court-elo-rating</th>\n",
       "      <td>0.984320</td>\n",
       "      <td>0.786676</td>\n",
       "      <td>0.602306</td>\n",
       "      <td>1.000000</td>\n",
       "      <td>0.924861</td>\n",
       "      <td>0.908174</td>\n",
       "    </tr>\n",
       "    <tr>\n",
       "      <th>clay-court-elo-rating</th>\n",
       "      <td>0.856724</td>\n",
       "      <td>0.958130</td>\n",
       "      <td>0.577490</td>\n",
       "      <td>0.924861</td>\n",
       "      <td>1.000000</td>\n",
       "      <td>0.893286</td>\n",
       "    </tr>\n",
       "    <tr>\n",
       "      <th>grass-court-elo-rating</th>\n",
       "      <td>0.861759</td>\n",
       "      <td>0.785838</td>\n",
       "      <td>0.563358</td>\n",
       "      <td>0.908174</td>\n",
       "      <td>0.893286</td>\n",
       "      <td>1.000000</td>\n",
       "    </tr>\n",
       "  </tbody>\n",
       "</table>\n",
       "</div>"
      ],
      "text/plain": [
       "                         hardraw   clayraw  grassraw  hard-court-elo-rating  \\\n",
       "hardraw                 1.000000  0.701188  0.597374               0.984320   \n",
       "clayraw                 0.701188  1.000000  0.519700               0.786676   \n",
       "grassraw                0.597374  0.519700  1.000000               0.602306   \n",
       "hard-court-elo-rating   0.984320  0.786676  0.602306               1.000000   \n",
       "clay-court-elo-rating   0.856724  0.958130  0.577490               0.924861   \n",
       "grass-court-elo-rating  0.861759  0.785838  0.563358               0.908174   \n",
       "\n",
       "                        clay-court-elo-rating  grass-court-elo-rating  \n",
       "hardraw                              0.856724                0.861759  \n",
       "clayraw                              0.958130                0.785838  \n",
       "grassraw                             0.577490                0.563358  \n",
       "hard-court-elo-rating                0.924861                0.908174  \n",
       "clay-court-elo-rating                1.000000                0.893286  \n",
       "grass-court-elo-rating               0.893286                1.000000  "
      ]
     },
     "execution_count": 142,
     "metadata": {},
     "output_type": "execute_result"
    }
   ],
   "source": [
    "# Matriz de correlação\n",
    "\n",
    "variaveis_numericas.corr()"
   ]
  },
  {
   "cell_type": "code",
   "execution_count": 143,
   "metadata": {
    "colab": {
     "base_uri": "https://localhost:8080/",
     "height": 0
    },
    "executionInfo": {
     "elapsed": 1581,
     "status": "ok",
     "timestamp": 1718108436680,
     "user": {
      "displayName": "Renato Noronha Hack",
      "userId": "16810341051324566567"
     },
     "user_tz": 180
    },
    "id": "Z-1SDCI4GU1R",
    "outputId": "c5011106-0c75-4a38-e4a4-75a95ca29b3f"
   },
   "outputs": [
    {
     "data": {
      "text/plain": [
       "Text(0.5, 1.0, 'Matriz de Correlações')"
      ]
     },
     "execution_count": 143,
     "metadata": {},
     "output_type": "execute_result"
    },
    {
     "data": {
      "image/png": "[encoded data removed]",
      "text/plain": [
       "<Figure size 1600x600 with 2 Axes>"
      ]
     },
     "metadata": {},
     "output_type": "display_data"
    }
   ],
   "source": [
    "# Plot matriz de correlação\n",
    "\n",
    "plt.figure(figsize=(16,6))\n",
    "heatmap = sns.heatmap(variaveis_numericas.corr(),annot=True)\n",
    "heatmap.set_title(\"Matriz de Correlações\", fontdict={'fontsize': 12}, pad=12)"
   ]
  },
  {
   "cell_type": "markdown",
   "metadata": {
    "id": "XrRdrDrXJ1OQ"
   },
   "source": [
    "### Calcule o KMO do dataset. Calcule o Bartlett Sphericity do Dataset."
   ]
  },
  {
   "cell_type": "code",
   "execution_count": 144,
   "metadata": {
    "colab": {
     "base_uri": "https://localhost:8080/"
    },
    "executionInfo": {
     "elapsed": 19,
     "status": "ok",
     "timestamp": 1718108436680,
     "user": {
      "displayName": "Renato Noronha Hack",
      "userId": "16810341051324566567"
     },
     "user_tz": 180
    },
    "id": "H122min1H7ps",
    "outputId": "251a667b-4e4f-4a0a-b1ea-69759301b88c"
   },
   "outputs": [
    {
     "name": "stdout",
     "output_type": "stream",
     "text": [
      "[0.52237612 0.49191086 0.99618756 0.54658085 0.54711625 0.98444756]\n",
      "0.6034223593473248\n"
     ]
    }
   ],
   "source": [
    "# Calcular KMO\n",
    "\n",
    "from factor_analyzer.factor_analyzer import calculate_kmo\n",
    "\n",
    "kmo_variaveis, kmo = calculate_kmo(variaveis_numericas)\n",
    "print(kmo_variaveis)\n",
    "print(kmo)"
   ]
  },
  {
   "cell_type": "code",
   "execution_count": 145,
   "metadata": {
    "colab": {
     "base_uri": "https://localhost:8080/"
    },
    "executionInfo": {
     "elapsed": 17,
     "status": "ok",
     "timestamp": 1718108436681,
     "user": {
      "displayName": "Renato Noronha Hack",
      "userId": "16810341051324566567"
     },
     "user_tz": 180
    },
    "id": "tkHN3s3AJ-7t",
    "outputId": "1308ce13-4f5c-4419-d378-1028d2743c01"
   },
   "outputs": [
    {
     "name": "stdout",
     "output_type": "stream",
     "text": [
      "0.0\n",
      "True\n"
     ]
    }
   ],
   "source": [
    "# Calcular teste de esfericidade\n",
    "\n",
    "from factor_analyzer.factor_analyzer import calculate_bartlett_sphericity\n",
    "\n",
    "qui_quadrado, pvalor =  calculate_bartlett_sphericity(variaveis_numericas)\n",
    "print(pvalor)\n",
    "print(pvalor < 0.05)"
   ]
  },
  {
   "cell_type": "markdown",
   "metadata": {
    "id": "iaowPqzqKTsu"
   },
   "source": [
    "### Normalize as colunas."
   ]
  },
  {
   "cell_type": "code",
   "execution_count": 146,
   "metadata": {
    "colab": {
     "base_uri": "https://localhost:8080/"
    },
    "executionInfo": {
     "elapsed": 33,
     "status": "ok",
     "timestamp": 1718108436698,
     "user": {
      "displayName": "Renato Noronha Hack",
      "userId": "16810341051324566567"
     },
     "user_tz": 180
    },
    "id": "S5KqyMTlKL8M",
    "outputId": "4cb320c5-c2dc-402a-b6c5-def884c559f1"
   },
   "outputs": [
    {
     "data": {
      "text/plain": [
       "array([[ 2.63102146,  2.65776437,  1.20439232,  2.8105671 ,  2.89719395,\n",
       "         3.2876929 ],\n",
       "       [ 2.59528183,  1.21503853,  0.74052839,  2.55931207,  1.92614035,\n",
       "         2.09903487],\n",
       "       [ 2.22026056,  2.68792213,  1.10110278,  2.35319267,  2.64703333,\n",
       "         2.7692426 ],\n",
       "       ...,\n",
       "       [-2.09493202, -1.53685733,  0.22681232, -2.30179579, -2.08557529,\n",
       "        -2.07331762],\n",
       "       [-1.12163921, -2.49328924, -1.8992449 , -1.85946657, -2.62409311,\n",
       "        -1.80562532],\n",
       "       [-1.95442144, -2.83794939,  0.36373498, -2.29577771, -2.80646827,\n",
       "        -1.89811269]])"
      ]
     },
     "execution_count": 146,
     "metadata": {},
     "output_type": "execute_result"
    }
   ],
   "source": [
    "# Normalizar colunas\n",
    "\n",
    "from sklearn.preprocessing import StandardScaler\n",
    "\n",
    "colunas_numericas = variaveis_numericas.columns\n",
    "colunas_numericas\n",
    "\n",
    "padronizar = StandardScaler()\n",
    "variaveis_numericas =  padronizar.fit_transform(variaveis_numericas)\n",
    "\n",
    "# np array\n",
    "variaveis_numericas"
   ]
  },
  {
   "cell_type": "code",
   "execution_count": 147,
   "metadata": {
    "colab": {
     "base_uri": "https://localhost:8080/",
     "height": 0
    },
    "executionInfo": {
     "elapsed": 34,
     "status": "ok",
     "timestamp": 1718108436699,
     "user": {
      "displayName": "Renato Noronha Hack",
      "userId": "16810341051324566567"
     },
     "user_tz": 180
    },
    "id": "VydUXB7CKiY1",
    "outputId": "bcf7cb9a-261c-4139-9fe2-4e2d677c77f6"
   },
   "outputs": [
    {
     "data": {
      "text/html": [
       "<div>\n",
       "<style scoped>\n",
       "    .dataframe tbody tr th:only-of-type {\n",
       "        vertical-align: middle;\n",
       "    }\n",
       "\n",
       "    .dataframe tbody tr th {\n",
       "        vertical-align: top;\n",
       "    }\n",
       "\n",
       "    .dataframe thead th {\n",
       "        text-align: right;\n",
       "    }\n",
       "</style>\n",
       "<table border=\"1\" class=\"dataframe\">\n",
       "  <thead>\n",
       "    <tr style=\"text-align: right;\">\n",
       "      <th></th>\n",
       "      <th>hardraw</th>\n",
       "      <th>clayraw</th>\n",
       "      <th>grassraw</th>\n",
       "      <th>hard-court-elo-rating</th>\n",
       "      <th>clay-court-elo-rating</th>\n",
       "      <th>grass-court-elo-rating</th>\n",
       "    </tr>\n",
       "  </thead>\n",
       "  <tbody>\n",
       "    <tr>\n",
       "      <th>0</th>\n",
       "      <td>2.631021</td>\n",
       "      <td>2.657764</td>\n",
       "      <td>1.204392</td>\n",
       "      <td>2.810567</td>\n",
       "      <td>2.897194</td>\n",
       "      <td>3.287693</td>\n",
       "    </tr>\n",
       "    <tr>\n",
       "      <th>1</th>\n",
       "      <td>2.595282</td>\n",
       "      <td>1.215039</td>\n",
       "      <td>0.740528</td>\n",
       "      <td>2.559312</td>\n",
       "      <td>1.926140</td>\n",
       "      <td>2.099035</td>\n",
       "    </tr>\n",
       "    <tr>\n",
       "      <th>2</th>\n",
       "      <td>2.220261</td>\n",
       "      <td>2.687922</td>\n",
       "      <td>1.101103</td>\n",
       "      <td>2.353193</td>\n",
       "      <td>2.647033</td>\n",
       "      <td>2.769243</td>\n",
       "    </tr>\n",
       "    <tr>\n",
       "      <th>3</th>\n",
       "      <td>2.338250</td>\n",
       "      <td>1.659866</td>\n",
       "      <td>0.784064</td>\n",
       "      <td>2.356703</td>\n",
       "      <td>2.072471</td>\n",
       "      <td>2.090568</td>\n",
       "    </tr>\n",
       "    <tr>\n",
       "      <th>4</th>\n",
       "      <td>2.075833</td>\n",
       "      <td>1.810654</td>\n",
       "      <td>0.964863</td>\n",
       "      <td>2.171647</td>\n",
       "      <td>2.093452</td>\n",
       "      <td>2.369984</td>\n",
       "    </tr>\n",
       "    <tr>\n",
       "      <th>...</th>\n",
       "      <td>...</td>\n",
       "      <td>...</td>\n",
       "      <td>...</td>\n",
       "      <td>...</td>\n",
       "      <td>...</td>\n",
       "      <td>...</td>\n",
       "    </tr>\n",
       "    <tr>\n",
       "      <th>391</th>\n",
       "      <td>-2.045484</td>\n",
       "      <td>-1.967144</td>\n",
       "      <td>0.330102</td>\n",
       "      <td>-2.140812</td>\n",
       "      <td>-2.155513</td>\n",
       "      <td>-1.700112</td>\n",
       "    </tr>\n",
       "    <tr>\n",
       "      <th>392</th>\n",
       "      <td>-2.597245</td>\n",
       "      <td>-1.956912</td>\n",
       "      <td>0.070427</td>\n",
       "      <td>-2.468798</td>\n",
       "      <td>-2.198551</td>\n",
       "      <td>-2.254384</td>\n",
       "    </tr>\n",
       "    <tr>\n",
       "      <th>393</th>\n",
       "      <td>-2.094932</td>\n",
       "      <td>-1.536857</td>\n",
       "      <td>0.226812</td>\n",
       "      <td>-2.301796</td>\n",
       "      <td>-2.085575</td>\n",
       "      <td>-2.073318</td>\n",
       "    </tr>\n",
       "    <tr>\n",
       "      <th>394</th>\n",
       "      <td>-1.121639</td>\n",
       "      <td>-2.493289</td>\n",
       "      <td>-1.899245</td>\n",
       "      <td>-1.859467</td>\n",
       "      <td>-2.624093</td>\n",
       "      <td>-1.805625</td>\n",
       "    </tr>\n",
       "    <tr>\n",
       "      <th>395</th>\n",
       "      <td>-1.954421</td>\n",
       "      <td>-2.837949</td>\n",
       "      <td>0.363735</td>\n",
       "      <td>-2.295778</td>\n",
       "      <td>-2.806468</td>\n",
       "      <td>-1.898113</td>\n",
       "    </tr>\n",
       "  </tbody>\n",
       "</table>\n",
       "<p>396 rows × 6 columns</p>\n",
       "</div>"
      ],
      "text/plain": [
       "      hardraw   clayraw  grassraw  hard-court-elo-rating  \\\n",
       "0    2.631021  2.657764  1.204392               2.810567   \n",
       "1    2.595282  1.215039  0.740528               2.559312   \n",
       "2    2.220261  2.687922  1.101103               2.353193   \n",
       "3    2.338250  1.659866  0.784064               2.356703   \n",
       "4    2.075833  1.810654  0.964863               2.171647   \n",
       "..        ...       ...       ...                    ...   \n",
       "391 -2.045484 -1.967144  0.330102              -2.140812   \n",
       "392 -2.597245 -1.956912  0.070427              -2.468798   \n",
       "393 -2.094932 -1.536857  0.226812              -2.301796   \n",
       "394 -1.121639 -2.493289 -1.899245              -1.859467   \n",
       "395 -1.954421 -2.837949  0.363735              -2.295778   \n",
       "\n",
       "     clay-court-elo-rating  grass-court-elo-rating  \n",
       "0                 2.897194                3.287693  \n",
       "1                 1.926140                2.099035  \n",
       "2                 2.647033                2.769243  \n",
       "3                 2.072471                2.090568  \n",
       "4                 2.093452                2.369984  \n",
       "..                     ...                     ...  \n",
       "391              -2.155513               -1.700112  \n",
       "392              -2.198551               -2.254384  \n",
       "393              -2.085575               -2.073318  \n",
       "394              -2.624093               -1.805625  \n",
       "395              -2.806468               -1.898113  \n",
       "\n",
       "[396 rows x 6 columns]"
      ]
     },
     "execution_count": 147,
     "metadata": {},
     "output_type": "execute_result"
    }
   ],
   "source": [
    "# Gera novo dataframe padronizado a partir do np array gerado acima\n",
    "\n",
    "dados_padronizados = pd.DataFrame(variaveis_numericas, columns=colunas_numericas)\n",
    "dados_padronizados"
   ]
  },
  {
   "cell_type": "markdown",
   "metadata": {
    "id": "AUqMhUdZMOFo"
   },
   "source": [
    "### Utilize o PCA com a mesma quantidade de dimensões do Dataset."
   ]
  },
  {
   "cell_type": "code",
   "execution_count": 148,
   "metadata": {
    "colab": {
     "base_uri": "https://localhost:8080/"
    },
    "executionInfo": {
     "elapsed": 33,
     "status": "ok",
     "timestamp": 1718108436699,
     "user": {
      "displayName": "Renato Noronha Hack",
      "userId": "16810341051324566567"
     },
     "user_tz": 180
    },
    "id": "wIPRdkBtMNe4",
    "outputId": "b4db860b-b381-4195-d3d4-afd1660e2a11"
   },
   "outputs": [
    {
     "data": {
      "text/plain": [
       "6"
      ]
     },
     "execution_count": 148,
     "metadata": {},
     "output_type": "execute_result"
    }
   ],
   "source": [
    "from sklearn.decomposition import PCA\n",
    "\n",
    "# Numero de colunas em dados_padronizados\n",
    "n_fatores = dados_padronizados.shape[1]\n",
    "n_fatores"
   ]
  },
  {
   "cell_type": "code",
   "execution_count": 149,
   "metadata": {
    "colab": {
     "base_uri": "https://localhost:8080/",
     "height": 75
    },
    "executionInfo": {
     "elapsed": 33,
     "status": "ok",
     "timestamp": 1718108436700,
     "user": {
      "displayName": "Renato Noronha Hack",
      "userId": "16810341051324566567"
     },
     "user_tz": 180
    },
    "id": "TGlAzbt3Ntb8",
    "outputId": "40d66856-c854-42d4-920c-177471eaf55e"
   },
   "outputs": [
    {
     "data": {
      "text/html": [
       "<style>#sk-container-id-4 {\n",
       "  /* Definition of color scheme common for light and dark mode */\n",
       "  --sklearn-color-text: black;\n",
       "  --sklearn-color-line: gray;\n",
       "  /* Definition of color scheme for unfitted estimators */\n",
       "  --sklearn-color-unfitted-level-0: #fff5e6;\n",
       "  --sklearn-color-unfitted-level-1: #f6e4d2;\n",
       "  --sklearn-color-unfitted-level-2: #ffe0b3;\n",
       "  --sklearn-color-unfitted-level-3: chocolate;\n",
       "  /* Definition of color scheme for fitted estimators */\n",
       "  --sklearn-color-fitted-level-0: #f0f8ff;\n",
       "  --sklearn-color-fitted-level-1: #d4ebff;\n",
       "  --sklearn-color-fitted-level-2: #b3dbfd;\n",
       "  --sklearn-color-fitted-level-3: cornflowerblue;\n",
       "\n",
       "  /* Specific color for light theme */\n",
       "  --sklearn-color-text-on-default-background: var(--sg-text-color, var(--theme-code-foreground, var(--jp-content-font-color1, black)));\n",
       "  --sklearn-color-background: var(--sg-background-color, var(--theme-background, var(--jp-layout-color0, white)));\n",
       "  --sklearn-color-border-box: var(--sg-text-color, var(--theme-code-foreground, var(--jp-content-font-color1, black)));\n",
       "  --sklearn-color-icon: #696969;\n",
       "\n",
       "  @media (prefers-color-scheme: dark) {\n",
       "    /* Redefinition of color scheme for dark theme */\n",
       "    --sklearn-color-text-on-default-background: var(--sg-text-color, var(--theme-code-foreground, var(--jp-content-font-color1, white)));\n",
       "    --sklearn-color-background: var(--sg-background-color, var(--theme-background, var(--jp-layout-color0, #111)));\n",
       "    --sklearn-color-border-box: var(--sg-text-color, var(--theme-code-foreground, var(--jp-content-font-color1, white)));\n",
       "    --sklearn-color-icon: #878787;\n",
       "  }\n",
       "}\n",
       "\n",
       "#sk-container-id-4 {\n",
       "  color: var(--sklearn-color-text);\n",
       "}\n",
       "\n",
       "#sk-container-id-4 pre {\n",
       "  padding: 0;\n",
       "}\n",
       "\n",
       "#sk-container-id-4 input.sk-hidden--visually {\n",
       "  border: 0;\n",
       "  clip: rect(1px 1px 1px 1px);\n",
       "  clip: rect(1px, 1px, 1px, 1px);\n",
       "  height: 1px;\n",
       "  margin: -1px;\n",
       "  overflow: hidden;\n",
       "  padding: 0;\n",
       "  position: absolute;\n",
       "  width: 1px;\n",
       "}\n",
       "\n",
       "#sk-container-id-4 div.sk-dashed-wrapped {\n",
       "  border: 1px dashed var(--sklearn-color-line);\n",
       "  margin: 0 0.4em 0.5em 0.4em;\n",
       "  box-sizing: border-box;\n",
       "  padding-bottom: 0.4em;\n",
       "  background-color: var(--sklearn-color-background);\n",
       "}\n",
       "\n",
       "#sk-container-id-4 div.sk-container {\n",
       "  /* jupyter's `normalize.less` sets `[hidden] { display: none; }`\n",
       "     but bootstrap.min.css set `[hidden] { display: none !important; }`\n",
       "     so we also need the `!important` here to be able to override the\n",
       "     default hidden behavior on the sphinx rendered scikit-learn.org.\n",
       "     See: https://github.com/scikit-learn/scikit-learn/issues/21755 */\n",
       "  display: inline-block !important;\n",
       "  position: relative;\n",
       "}\n",
       "\n",
       "#sk-container-id-4 div.sk-text-repr-fallback {\n",
       "  display: none;\n",
       "}\n",
       "\n",
       "div.sk-parallel-item,\n",
       "div.sk-serial,\n",
       "div.sk-item {\n",
       "  /* draw centered vertical line to link estimators */\n",
       "  background-image: linear-gradient(var(--sklearn-color-text-on-default-background), var(--sklearn-color-text-on-default-background));\n",
       "  background-size: 2px 100%;\n",
       "  background-repeat: no-repeat;\n",
       "  background-position: center center;\n",
       "}\n",
       "\n",
       "/* Parallel-specific style estimator block */\n",
       "\n",
       "#sk-container-id-4 div.sk-parallel-item::after {\n",
       "  content: \"\";\n",
       "  width: 100%;\n",
       "  border-bottom: 2px solid var(--sklearn-color-text-on-default-background);\n",
       "  flex-grow: 1;\n",
       "}\n",
       "\n",
       "#sk-container-id-4 div.sk-parallel {\n",
       "  display: flex;\n",
       "  align-items: stretch;\n",
       "  justify-content: center;\n",
       "  background-color: var(--sklearn-color-background);\n",
       "  position: relative;\n",
       "}\n",
       "\n",
       "#sk-container-id-4 div.sk-parallel-item {\n",
       "  display: flex;\n",
       "  flex-direction: column;\n",
       "}\n",
       "\n",
       "#sk-container-id-4 div.sk-parallel-item:first-child::after {\n",
       "  align-self: flex-end;\n",
       "  width: 50%;\n",
       "}\n",
       "\n",
       "#sk-container-id-4 div.sk-parallel-item:last-child::after {\n",
       "  align-self: flex-start;\n",
       "  width: 50%;\n",
       "}\n",
       "\n",
       "#sk-container-id-4 div.sk-parallel-item:only-child::after {\n",
       "  width: 0;\n",
       "}\n",
       "\n",
       "/* Serial-specific style estimator block */\n",
       "\n",
       "#sk-container-id-4 div.sk-serial {\n",
       "  display: flex;\n",
       "  flex-direction: column;\n",
       "  align-items: center;\n",
       "  background-color: var(--sklearn-color-background);\n",
       "  padding-right: 1em;\n",
       "  padding-left: 1em;\n",
       "}\n",
       "\n",
       "\n",
       "/* Toggleable style: style used for estimator/Pipeline/ColumnTransformer box that is\n",
       "clickable and can be expanded/collapsed.\n",
       "- Pipeline and ColumnTransformer use this feature and define the default style\n",
       "- Estimators will overwrite some part of the style using the `sk-estimator` class\n",
       "*/\n",
       "\n",
       "/* Pipeline and ColumnTransformer style (default) */\n",
       "\n",
       "#sk-container-id-4 div.sk-toggleable {\n",
       "  /* Default theme specific background. It is overwritten whether we have a\n",
       "  specific estimator or a Pipeline/ColumnTransformer */\n",
       "  background-color: var(--sklearn-color-background);\n",
       "}\n",
       "\n",
       "/* Toggleable label */\n",
       "#sk-container-id-4 label.sk-toggleable__label {\n",
       "  cursor: pointer;\n",
       "  display: block;\n",
       "  width: 100%;\n",
       "  margin-bottom: 0;\n",
       "  padding: 0.5em;\n",
       "  box-sizing: border-box;\n",
       "  text-align: center;\n",
       "}\n",
       "\n",
       "#sk-container-id-4 label.sk-toggleable__label-arrow:before {\n",
       "  /* Arrow on the left of the label */\n",
       "  content: \"▸\";\n",
       "  float: left;\n",
       "  margin-right: 0.25em;\n",
       "  color: var(--sklearn-color-icon);\n",
       "}\n",
       "\n",
       "#sk-container-id-4 label.sk-toggleable__label-arrow:hover:before {\n",
       "  color: var(--sklearn-color-text);\n",
       "}\n",
       "\n",
       "/* Toggleable content - dropdown */\n",
       "\n",
       "#sk-container-id-4 div.sk-toggleable__content {\n",
       "  max-height: 0;\n",
       "  max-width: 0;\n",
       "  overflow: hidden;\n",
       "  text-align: left;\n",
       "  /* unfitted */\n",
       "  background-color: var(--sklearn-color-unfitted-level-0);\n",
       "}\n",
       "\n",
       "#sk-container-id-4 div.sk-toggleable__content.fitted {\n",
       "  /* fitted */\n",
       "  background-color: var(--sklearn-color-fitted-level-0);\n",
       "}\n",
       "\n",
       "#sk-container-id-4 div.sk-toggleable__content pre {\n",
       "  margin: 0.2em;\n",
       "  border-radius: 0.25em;\n",
       "  color: var(--sklearn-color-text);\n",
       "  /* unfitted */\n",
       "  background-color: var(--sklearn-color-unfitted-level-0);\n",
       "}\n",
       "\n",
       "#sk-container-id-4 div.sk-toggleable__content.fitted pre {\n",
       "  /* unfitted */\n",
       "  background-color: var(--sklearn-color-fitted-level-0);\n",
       "}\n",
       "\n",
       "#sk-container-id-4 input.sk-toggleable__control:checked~div.sk-toggleable__content {\n",
       "  /* Expand drop-down */\n",
       "  max-height: 200px;\n",
       "  max-width: 100%;\n",
       "  overflow: auto;\n",
       "}\n",
       "\n",
       "#sk-container-id-4 input.sk-toggleable__control:checked~label.sk-toggleable__label-arrow:before {\n",
       "  content: \"▾\";\n",
       "}\n",
       "\n",
       "/* Pipeline/ColumnTransformer-specific style */\n",
       "\n",
       "#sk-container-id-4 div.sk-label input.sk-toggleable__control:checked~label.sk-toggleable__label {\n",
       "  color: var(--sklearn-color-text);\n",
       "  background-color: var(--sklearn-color-unfitted-level-2);\n",
       "}\n",
       "\n",
       "#sk-container-id-4 div.sk-label.fitted input.sk-toggleable__control:checked~label.sk-toggleable__label {\n",
       "  background-color: var(--sklearn-color-fitted-level-2);\n",
       "}\n",
       "\n",
       "/* Estimator-specific style */\n",
       "\n",
       "/* Colorize estimator box */\n",
       "#sk-container-id-4 div.sk-estimator input.sk-toggleable__control:checked~label.sk-toggleable__label {\n",
       "  /* unfitted */\n",
       "  background-color: var(--sklearn-color-unfitted-level-2);\n",
       "}\n",
       "\n",
       "#sk-container-id-4 div.sk-estimator.fitted input.sk-toggleable__control:checked~label.sk-toggleable__label {\n",
       "  /* fitted */\n",
       "  background-color: var(--sklearn-color-fitted-level-2);\n",
       "}\n",
       "\n",
       "#sk-container-id-4 div.sk-label label.sk-toggleable__label,\n",
       "#sk-container-id-4 div.sk-label label {\n",
       "  /* The background is the default theme color */\n",
       "  color: var(--sklearn-color-text-on-default-background);\n",
       "}\n",
       "\n",
       "/* On hover, darken the color of the background */\n",
       "#sk-container-id-4 div.sk-label:hover label.sk-toggleable__label {\n",
       "  color: var(--sklearn-color-text);\n",
       "  background-color: var(--sklearn-color-unfitted-level-2);\n",
       "}\n",
       "\n",
       "/* Label box, darken color on hover, fitted */\n",
       "#sk-container-id-4 div.sk-label.fitted:hover label.sk-toggleable__label.fitted {\n",
       "  color: var(--sklearn-color-text);\n",
       "  background-color: var(--sklearn-color-fitted-level-2);\n",
       "}\n",
       "\n",
       "/* Estimator label */\n",
       "\n",
       "#sk-container-id-4 div.sk-label label {\n",
       "  font-family: monospace;\n",
       "  font-weight: bold;\n",
       "  display: inline-block;\n",
       "  line-height: 1.2em;\n",
       "}\n",
       "\n",
       "#sk-container-id-4 div.sk-label-container {\n",
       "  text-align: center;\n",
       "}\n",
       "\n",
       "/* Estimator-specific */\n",
       "#sk-container-id-4 div.sk-estimator {\n",
       "  font-family: monospace;\n",
       "  border: 1px dotted var(--sklearn-color-border-box);\n",
       "  border-radius: 0.25em;\n",
       "  box-sizing: border-box;\n",
       "  margin-bottom: 0.5em;\n",
       "  /* unfitted */\n",
       "  background-color: var(--sklearn-color-unfitted-level-0);\n",
       "}\n",
       "\n",
       "#sk-container-id-4 div.sk-estimator.fitted {\n",
       "  /* fitted */\n",
       "  background-color: var(--sklearn-color-fitted-level-0);\n",
       "}\n",
       "\n",
       "/* on hover */\n",
       "#sk-container-id-4 div.sk-estimator:hover {\n",
       "  /* unfitted */\n",
       "  background-color: var(--sklearn-color-unfitted-level-2);\n",
       "}\n",
       "\n",
       "#sk-container-id-4 div.sk-estimator.fitted:hover {\n",
       "  /* fitted */\n",
       "  background-color: var(--sklearn-color-fitted-level-2);\n",
       "}\n",
       "\n",
       "/* Specification for estimator info (e.g. \"i\" and \"?\") */\n",
       "\n",
       "/* Common style for \"i\" and \"?\" */\n",
       "\n",
       ".sk-estimator-doc-link,\n",
       "a:link.sk-estimator-doc-link,\n",
       "a:visited.sk-estimator-doc-link {\n",
       "  float: right;\n",
       "  font-size: smaller;\n",
       "  line-height: 1em;\n",
       "  font-family: monospace;\n",
       "  background-color: var(--sklearn-color-background);\n",
       "  border-radius: 1em;\n",
       "  height: 1em;\n",
       "  width: 1em;\n",
       "  text-decoration: none !important;\n",
       "  margin-left: 1ex;\n",
       "  /* unfitted */\n",
       "  border: var(--sklearn-color-unfitted-level-1) 1pt solid;\n",
       "  color: var(--sklearn-color-unfitted-level-1);\n",
       "}\n",
       "\n",
       ".sk-estimator-doc-link.fitted,\n",
       "a:link.sk-estimator-doc-link.fitted,\n",
       "a:visited.sk-estimator-doc-link.fitted {\n",
       "  /* fitted */\n",
       "  border: var(--sklearn-color-fitted-level-1) 1pt solid;\n",
       "  color: var(--sklearn-color-fitted-level-1);\n",
       "}\n",
       "\n",
       "/* On hover */\n",
       "div.sk-estimator:hover .sk-estimator-doc-link:hover,\n",
       ".sk-estimator-doc-link:hover,\n",
       "div.sk-label-container:hover .sk-estimator-doc-link:hover,\n",
       ".sk-estimator-doc-link:hover {\n",
       "  /* unfitted */\n",
       "  background-color: var(--sklearn-color-unfitted-level-3);\n",
       "  color: var(--sklearn-color-background);\n",
       "  text-decoration: none;\n",
       "}\n",
       "\n",
       "div.sk-estimator.fitted:hover .sk-estimator-doc-link.fitted:hover,\n",
       ".sk-estimator-doc-link.fitted:hover,\n",
       "div.sk-label-container:hover .sk-estimator-doc-link.fitted:hover,\n",
       ".sk-estimator-doc-link.fitted:hover {\n",
       "  /* fitted */\n",
       "  background-color: var(--sklearn-color-fitted-level-3);\n",
       "  color: var(--sklearn-color-background);\n",
       "  text-decoration: none;\n",
       "}\n",
       "\n",
       "/* Span, style for the box shown on hovering the info icon */\n",
       ".sk-estimator-doc-link span {\n",
       "  display: none;\n",
       "  z-index: 9999;\n",
       "  position: relative;\n",
       "  font-weight: normal;\n",
       "  right: .2ex;\n",
       "  padding: .5ex;\n",
       "  margin: .5ex;\n",
       "  width: min-content;\n",
       "  min-width: 20ex;\n",
       "  max-width: 50ex;\n",
       "  color: var(--sklearn-color-text);\n",
       "  box-shadow: 2pt 2pt 4pt #999;\n",
       "  /* unfitted */\n",
       "  background: var(--sklearn-color-unfitted-level-0);\n",
       "  border: .5pt solid var(--sklearn-color-unfitted-level-3);\n",
       "}\n",
       "\n",
       ".sk-estimator-doc-link.fitted span {\n",
       "  /* fitted */\n",
       "  background: var(--sklearn-color-fitted-level-0);\n",
       "  border: var(--sklearn-color-fitted-level-3);\n",
       "}\n",
       "\n",
       ".sk-estimator-doc-link:hover span {\n",
       "  display: block;\n",
       "}\n",
       "\n",
       "/* \"?\"-specific style due to the `<a>` HTML tag */\n",
       "\n",
       "#sk-container-id-4 a.estimator_doc_link {\n",
       "  float: right;\n",
       "  font-size: 1rem;\n",
       "  line-height: 1em;\n",
       "  font-family: monospace;\n",
       "  background-color: var(--sklearn-color-background);\n",
       "  border-radius: 1rem;\n",
       "  height: 1rem;\n",
       "  width: 1rem;\n",
       "  text-decoration: none;\n",
       "  /* unfitted */\n",
       "  color: var(--sklearn-color-unfitted-level-1);\n",
       "  border: var(--sklearn-color-unfitted-level-1) 1pt solid;\n",
       "}\n",
       "\n",
       "#sk-container-id-4 a.estimator_doc_link.fitted {\n",
       "  /* fitted */\n",
       "  border: var(--sklearn-color-fitted-level-1) 1pt solid;\n",
       "  color: var(--sklearn-color-fitted-level-1);\n",
       "}\n",
       "\n",
       "/* On hover */\n",
       "#sk-container-id-4 a.estimator_doc_link:hover {\n",
       "  /* unfitted */\n",
       "  background-color: var(--sklearn-color-unfitted-level-3);\n",
       "  color: var(--sklearn-color-background);\n",
       "  text-decoration: none;\n",
       "}\n",
       "\n",
       "#sk-container-id-4 a.estimator_doc_link.fitted:hover {\n",
       "  /* fitted */\n",
       "  background-color: var(--sklearn-color-fitted-level-3);\n",
       "}\n",
       "</style><div id=\"sk-container-id-4\" class=\"sk-top-container\"><div class=\"sk-text-repr-fallback\"><pre>PCA(n_components=6)</pre><b>In a Jupyter environment, please rerun this cell to show the HTML representation or trust the notebook. <br />On GitHub, the HTML representation is unable to render, please try loading this page with nbviewer.org.</b></div><div class=\"sk-container\" hidden><div class=\"sk-item\"><div class=\"sk-estimator fitted sk-toggleable\"><input class=\"sk-toggleable__control sk-hidden--visually\" id=\"sk-estimator-id-4\" type=\"checkbox\" checked><label for=\"sk-estimator-id-4\" class=\"sk-toggleable__label fitted sk-toggleable__label-arrow fitted\">&nbsp;&nbsp;PCA<a class=\"sk-estimator-doc-link fitted\" rel=\"noreferrer\" target=\"_blank\" href=\"https://scikit-learn.org/1.4/modules/generated/sklearn.decomposition.PCA.html\">?<span>Documentation for PCA</span></a><span class=\"sk-estimator-doc-link fitted\">i<span>Fitted</span></span></label><div class=\"sk-toggleable__content fitted\"><pre>PCA(n_components=6)</pre></div> </div></div></div></div>"
      ],
      "text/plain": [
       "PCA(n_components=6)"
      ]
     },
     "execution_count": 149,
     "metadata": {},
     "output_type": "execute_result"
    }
   ],
   "source": [
    "# implementa pca passando como parametro o numero de componentes = numero de colunas\n",
    "pca = PCA(n_components=n_fatores)\n",
    "pca.fit(dados_padronizados)"
   ]
  },
  {
   "cell_type": "code",
   "execution_count": 150,
   "metadata": {
    "colab": {
     "base_uri": "https://localhost:8080/"
    },
    "executionInfo": {
     "elapsed": 33,
     "status": "ok",
     "timestamp": 1718108437121,
     "user": {
      "displayName": "Renato Noronha Hack",
      "userId": "16810341051324566567"
     },
     "user_tz": 180
    },
    "id": "gOlCqcAQNwAb",
    "outputId": "a63d3dfa-9f17-440c-b39c-164a7c660d32"
   },
   "outputs": [
    {
     "data": {
      "text/plain": [
       "array([8.15074322e-01, 9.77521700e-02, 6.26382816e-02, 2.27926743e-02,\n",
       "       1.74254912e-03, 3.44385437e-09])"
      ]
     },
     "execution_count": 150,
     "metadata": {},
     "output_type": "execute_result"
    }
   ],
   "source": [
    "# ratio da variancia de cada componente\n",
    "pca.explained_variance_ratio_"
   ]
  },
  {
   "cell_type": "markdown",
   "metadata": {
    "id": "0phXEUgiOC7V"
   },
   "source": [
    "### Imprima um Screenplot com a variância de cada fator."
   ]
  },
  {
   "cell_type": "code",
   "execution_count": 151,
   "metadata": {
    "colab": {
     "base_uri": "https://localhost:8080/"
    },
    "executionInfo": {
     "elapsed": 30,
     "status": "ok",
     "timestamp": 1718108437123,
     "user": {
      "displayName": "Renato Noronha Hack",
      "userId": "16810341051324566567"
     },
     "user_tz": 180
    },
    "id": "eNZ4c4SNNya7",
    "outputId": "c8f08f6a-8a3d-48df-fc32-d0082cac4a50"
   },
   "outputs": [
    {
     "data": {
      "text/plain": [
       "['F1', 'F2', 'F3', 'F4', 'F5', 'F6']"
      ]
     },
     "execution_count": 151,
     "metadata": {},
     "output_type": "execute_result"
    }
   ],
   "source": [
    "fatores = [f'F{i+1}' for i in range(n_fatores) ]\n",
    "fatores"
   ]
  },
  {
   "cell_type": "code",
   "execution_count": 152,
   "metadata": {
    "colab": {
     "base_uri": "https://localhost:8080/",
     "height": 566
    },
    "executionInfo": {
     "elapsed": 27,
     "status": "ok",
     "timestamp": 1718108437124,
     "user": {
      "displayName": "Renato Noronha Hack",
      "userId": "16810341051324566567"
     },
     "user_tz": 180
    },
    "id": "VFSytUDSN_R6",
    "outputId": "1b9bd8ab-d549-4de2-8034-7d010284c038"
   },
   "outputs": [
    {
     "data": {
      "text/html": [
       "<iframe\n",
       "    scrolling=\"no\"\n",
       "    width=\"100%\"\n",
       "    height=\"545px\"\n",
       "    src=\"iframe_figures/figure_152.html\"\n",
       "    frameborder=\"0\"\n",
       "    allowfullscreen\n",
       "></iframe>\n"
      ]
     },
     "metadata": {},
     "output_type": "display_data"
    }
   ],
   "source": [
    "# plot da variancia por fator\n",
    "fig = px.bar(x=fatores, y=pca.explained_variance_ratio_, text=np.around(pca.explained_variance_ratio_, decimals=2),\n",
    "            title= \"Scree Plot\")\n",
    "fig.update_layout(yaxis={'title': 'Procentagem de variância explicada','tickfont':{'size':15}},\n",
    "                 xaxis={'title': 'Fatores','tickfont':{'size':15}},\n",
    "                 title={'font':{'size': 25}})\n",
    "fig.show()"
   ]
  },
  {
   "cell_type": "markdown",
   "metadata": {
    "id": "8HplfOxdOg3o"
   },
   "source": [
    "### Imprima um Screenplot com a variância acumulada."
   ]
  },
  {
   "cell_type": "code",
   "execution_count": 153,
   "metadata": {
    "colab": {
     "base_uri": "https://localhost:8080/"
    },
    "executionInfo": {
     "elapsed": 25,
     "status": "ok",
     "timestamp": 1718108437124,
     "user": {
      "displayName": "Renato Noronha Hack",
      "userId": "16810341051324566567"
     },
     "user_tz": 180
    },
    "id": "6RJ0wa-kOGhZ",
    "outputId": "00e92942-a2a4-4f4f-8e50-4182f06538c1"
   },
   "outputs": [
    {
     "data": {
      "text/plain": [
       "[0.8150743215394057,\n",
       " 0.9128264915561688,\n",
       " 0.9754647731475903,\n",
       " 0.9982574474358793,\n",
       " 0.9999999965561455,\n",
       " 0.9999999999999999]"
      ]
     },
     "execution_count": 153,
     "metadata": {},
     "output_type": "execute_result"
    }
   ],
   "source": [
    "varianca_acumulada = [sum(pca.explained_variance_ratio_[0:i+1]) for i in range(n_fatores)]\n",
    "varianca_acumulada"
   ]
  },
  {
   "cell_type": "code",
   "execution_count": 154,
   "metadata": {
    "colab": {
     "base_uri": "https://localhost:8080/",
     "height": 566
    },
    "executionInfo": {
     "elapsed": 22,
     "status": "ok",
     "timestamp": 1718108437124,
     "user": {
      "displayName": "Renato Noronha Hack",
      "userId": "16810341051324566567"
     },
     "user_tz": 180
    },
    "id": "T_dFIM92Opkx",
    "outputId": "c54aa408-e467-426d-b078-ba11548e365c"
   },
   "outputs": [
    {
     "data": {
      "text/html": [
       "<iframe\n",
       "    scrolling=\"no\"\n",
       "    width=\"100%\"\n",
       "    height=\"545px\"\n",
       "    src=\"iframe_figures/figure_154.html\"\n",
       "    frameborder=\"0\"\n",
       "    allowfullscreen\n",
       "></iframe>\n"
      ]
     },
     "metadata": {},
     "output_type": "display_data"
    }
   ],
   "source": [
    "# plot da varianca acumulada por fator\n",
    "# idealmente, a variancia acumulada deve ser igual a 1\n",
    "fig = px.bar(x=fatores, y=varianca_acumulada, text=np.around(varianca_acumulada, decimals=2),\n",
    "            title= \"Scree Plot\")\n",
    "fig.update_layout(yaxis={'title': 'Procentagem de variância explicada','tickfont':{'size':15}},\n",
    "                 xaxis={'title': 'Fatores','tickfont':{'size':15}},\n",
    "                 title={'font':{'size': 25}})\n",
    "fig.show()"
   ]
  },
  {
   "cell_type": "markdown",
   "metadata": {},
   "source": [
    "### Calcule os autovalores."
   ]
  },
  {
   "cell_type": "code",
   "execution_count": 155,
   "metadata": {
    "executionInfo": {
     "elapsed": 21,
     "status": "ok",
     "timestamp": 1718108437125,
     "user": {
      "displayName": "Renato Noronha Hack",
      "userId": "16810341051324566567"
     },
     "user_tz": 180
    },
    "id": "EzLrM45zOteH"
   },
   "outputs": [
    {
     "name": "stdout",
     "output_type": "stream",
     "text": [
      "6.015189873417726\n",
      "5.999999999999999\n"
     ]
    }
   ],
   "source": [
    "print(sum(pca.explained_variance_))\n",
    "print(sum(pca.explained_variance_ratio_ * n_fatores))"
   ]
  },
  {
   "cell_type": "code",
   "execution_count": 156,
   "metadata": {},
   "outputs": [
    {
     "data": {
      "text/plain": [
       "array([4.89044593e+00, 5.86513020e-01, 3.75829690e-01, 1.36756046e-01,\n",
       "       1.04552947e-02, 2.06631262e-08])"
      ]
     },
     "execution_count": 156,
     "metadata": {},
     "output_type": "execute_result"
    }
   ],
   "source": [
    "# Por motivos de precisão, usaremos o produto de ratio * n_fatores\n",
    "autovalores = pca.explained_variance_ratio_ * n_fatores\n",
    "\n",
    "autovalores"
   ]
  },
  {
   "cell_type": "markdown",
   "metadata": {},
   "source": [
    "### Com o método de raízes latentes, defina quantos fatores serão utilizados para criar o ranking e imprima o Screenplot.\n",
    "\n",
    "http://www.leg.ufpr.br/lib/exe/fetch.php/disciplinas:ppgea2012:pca_teoria.pdf\n",
    "\n",
    "Seleção do número de componentes\n",
    "\n",
    "* Kaiser ou Método da Raiz Latente: autovalores maiores que 1 (Johnson = 0,7);\n",
    "\n"
   ]
  },
  {
   "cell_type": "code",
   "execution_count": 157,
   "metadata": {},
   "outputs": [
    {
     "data": {
      "text/plain": [
       "['Fator selecionado',\n",
       " 'Fator não selecionado',\n",
       " 'Fator não selecionado',\n",
       " 'Fator não selecionado',\n",
       " 'Fator não selecionado',\n",
       " 'Fator não selecionado']"
      ]
     },
     "execution_count": 157,
     "metadata": {},
     "output_type": "execute_result"
    }
   ],
   "source": [
    "# Selecionamos apenas fatores que possuem autovalor > 1\n",
    "# O primeiro fator já é responsável por explicar 4.89/6 = 82% das variáveis originais;\n",
    "# Por esse motivo, usaremos um ponto de corte de 1\n",
    "\n",
    "fatores_selecionados = ['Fator selecionado' if autovalor > 1 else 'Fator não selecionado' for autovalor in autovalores]\n",
    "fatores_selecionados"
   ]
  },
  {
   "cell_type": "code",
   "execution_count": 158,
   "metadata": {},
   "outputs": [
    {
     "data": {
      "text/html": [
       "<iframe\n",
       "    scrolling=\"no\"\n",
       "    width=\"100%\"\n",
       "    height=\"545px\"\n",
       "    src=\"iframe_figures/figure_158.html\"\n",
       "    frameborder=\"0\"\n",
       "    allowfullscreen\n",
       "></iframe>\n"
      ]
     },
     "metadata": {},
     "output_type": "display_data"
    }
   ],
   "source": [
    "fig = px.bar(x = range(1,7), y = autovalores, text = np.around(autovalores, decimals = 2),\n",
    "             title = 'Scree Plot', color = fatores_selecionados)\n",
    "fig.update_layout(yaxis = {'title': 'Quantidade de variáveis explicadas', 'tickfont':{'size':15}},\n",
    "                  xaxis = {'title': 'Autovalor', 'tickfont': {'size': 15}},\n",
    "                  title = {'font':{'size':25}})\n",
    "fig.show()"
   ]
  },
  {
   "cell_type": "code",
   "execution_count": 159,
   "metadata": {},
   "outputs": [
    {
     "data": {
      "text/html": [
       "<div>\n",
       "<style scoped>\n",
       "    .dataframe tbody tr th:only-of-type {\n",
       "        vertical-align: middle;\n",
       "    }\n",
       "\n",
       "    .dataframe tbody tr th {\n",
       "        vertical-align: top;\n",
       "    }\n",
       "\n",
       "    .dataframe thead th {\n",
       "        text-align: right;\n",
       "    }\n",
       "</style>\n",
       "<table border=\"1\" class=\"dataframe\">\n",
       "  <thead>\n",
       "    <tr style=\"text-align: right;\">\n",
       "      <th></th>\n",
       "      <th>Fator</th>\n",
       "      <th>Autovalor</th>\n",
       "      <th>Variância explicada</th>\n",
       "      <th>Variância acumulada</th>\n",
       "    </tr>\n",
       "  </thead>\n",
       "  <tbody>\n",
       "    <tr>\n",
       "      <th>0</th>\n",
       "      <td>F1</td>\n",
       "      <td>4.890446e+00</td>\n",
       "      <td>8.150743e-01</td>\n",
       "      <td>0.815074</td>\n",
       "    </tr>\n",
       "    <tr>\n",
       "      <th>1</th>\n",
       "      <td>F2</td>\n",
       "      <td>5.865130e-01</td>\n",
       "      <td>9.775217e-02</td>\n",
       "      <td>0.912826</td>\n",
       "    </tr>\n",
       "    <tr>\n",
       "      <th>2</th>\n",
       "      <td>F3</td>\n",
       "      <td>3.758297e-01</td>\n",
       "      <td>6.263828e-02</td>\n",
       "      <td>0.975465</td>\n",
       "    </tr>\n",
       "    <tr>\n",
       "      <th>3</th>\n",
       "      <td>F4</td>\n",
       "      <td>1.367560e-01</td>\n",
       "      <td>2.279267e-02</td>\n",
       "      <td>0.998257</td>\n",
       "    </tr>\n",
       "    <tr>\n",
       "      <th>4</th>\n",
       "      <td>F5</td>\n",
       "      <td>1.045529e-02</td>\n",
       "      <td>1.742549e-03</td>\n",
       "      <td>1.000000</td>\n",
       "    </tr>\n",
       "    <tr>\n",
       "      <th>5</th>\n",
       "      <td>F6</td>\n",
       "      <td>2.066313e-08</td>\n",
       "      <td>3.443854e-09</td>\n",
       "      <td>1.000000</td>\n",
       "    </tr>\n",
       "  </tbody>\n",
       "</table>\n",
       "</div>"
      ],
      "text/plain": [
       "  Fator     Autovalor  Variância explicada  Variância acumulada\n",
       "0    F1  4.890446e+00         8.150743e-01             0.815074\n",
       "1    F2  5.865130e-01         9.775217e-02             0.912826\n",
       "2    F3  3.758297e-01         6.263828e-02             0.975465\n",
       "3    F4  1.367560e-01         2.279267e-02             0.998257\n",
       "4    F5  1.045529e-02         1.742549e-03             1.000000\n",
       "5    F6  2.066313e-08         3.443854e-09             1.000000"
      ]
     },
     "execution_count": 159,
     "metadata": {},
     "output_type": "execute_result"
    }
   ],
   "source": [
    "resumo = pd.DataFrame({'Fator': fatores, 'Autovalor': autovalores, 'Variância explicada': pca.explained_variance_ratio_, 'Variância acumulada': varianca_acumulada})\n",
    "resumo"
   ]
  },
  {
   "cell_type": "markdown",
   "metadata": {},
   "source": [
    "### Calcule a carga fatorial dos fatores."
   ]
  },
  {
   "cell_type": "code",
   "execution_count": 160,
   "metadata": {},
   "outputs": [
    {
     "data": {
      "text/html": [
       "<div>\n",
       "<style scoped>\n",
       "    .dataframe tbody tr th:only-of-type {\n",
       "        vertical-align: middle;\n",
       "    }\n",
       "\n",
       "    .dataframe tbody tr th {\n",
       "        vertical-align: top;\n",
       "    }\n",
       "\n",
       "    .dataframe thead th {\n",
       "        text-align: right;\n",
       "    }\n",
       "</style>\n",
       "<table border=\"1\" class=\"dataframe\">\n",
       "  <thead>\n",
       "    <tr style=\"text-align: right;\">\n",
       "      <th></th>\n",
       "      <th>hardraw</th>\n",
       "      <th>clayraw</th>\n",
       "      <th>grassraw</th>\n",
       "      <th>hard-court-elo-rating</th>\n",
       "      <th>clay-court-elo-rating</th>\n",
       "      <th>grass-court-elo-rating</th>\n",
       "    </tr>\n",
       "  </thead>\n",
       "  <tbody>\n",
       "    <tr>\n",
       "      <th>Autovetor 1</th>\n",
       "      <td>0.421579</td>\n",
       "      <td>0.400101</td>\n",
       "      <td>0.312581</td>\n",
       "      <td>0.439077</td>\n",
       "      <td>0.439234</td>\n",
       "      <td>0.422812</td>\n",
       "    </tr>\n",
       "    <tr>\n",
       "      <th>Autovetor 2</th>\n",
       "      <td>0.018631</td>\n",
       "      <td>0.248304</td>\n",
       "      <td>-0.933035</td>\n",
       "      <td>0.083282</td>\n",
       "      <td>0.203124</td>\n",
       "      <td>0.138740</td>\n",
       "    </tr>\n",
       "    <tr>\n",
       "      <th>Autovetor 3</th>\n",
       "      <td>0.535389</td>\n",
       "      <td>-0.682916</td>\n",
       "      <td>-0.174417</td>\n",
       "      <td>0.341430</td>\n",
       "      <td>-0.268992</td>\n",
       "      <td>0.166227</td>\n",
       "    </tr>\n",
       "    <tr>\n",
       "      <th>Autovetor 4</th>\n",
       "      <td>0.382385</td>\n",
       "      <td>0.164090</td>\n",
       "      <td>-0.032412</td>\n",
       "      <td>0.228660</td>\n",
       "      <td>0.117084</td>\n",
       "      <td>-0.871672</td>\n",
       "    </tr>\n",
       "    <tr>\n",
       "      <th>Autovetor 5</th>\n",
       "      <td>-0.526630</td>\n",
       "      <td>-0.438908</td>\n",
       "      <td>0.016364</td>\n",
       "      <td>0.453382</td>\n",
       "      <td>0.556470</td>\n",
       "      <td>-0.120576</td>\n",
       "    </tr>\n",
       "    <tr>\n",
       "      <th>Autovetor 6</th>\n",
       "      <td>-0.334252</td>\n",
       "      <td>0.303849</td>\n",
       "      <td>0.000003</td>\n",
       "      <td>0.652581</td>\n",
       "      <td>-0.608350</td>\n",
       "      <td>0.000042</td>\n",
       "    </tr>\n",
       "  </tbody>\n",
       "</table>\n",
       "</div>"
      ],
      "text/plain": [
       "              hardraw   clayraw  grassraw  hard-court-elo-rating  \\\n",
       "Autovetor 1  0.421579  0.400101  0.312581               0.439077   \n",
       "Autovetor 2  0.018631  0.248304 -0.933035               0.083282   \n",
       "Autovetor 3  0.535389 -0.682916 -0.174417               0.341430   \n",
       "Autovetor 4  0.382385  0.164090 -0.032412               0.228660   \n",
       "Autovetor 5 -0.526630 -0.438908  0.016364               0.453382   \n",
       "Autovetor 6 -0.334252  0.303849  0.000003               0.652581   \n",
       "\n",
       "             clay-court-elo-rating  grass-court-elo-rating  \n",
       "Autovetor 1               0.439234                0.422812  \n",
       "Autovetor 2               0.203124                0.138740  \n",
       "Autovetor 3              -0.268992                0.166227  \n",
       "Autovetor 4               0.117084               -0.871672  \n",
       "Autovetor 5               0.556470               -0.120576  \n",
       "Autovetor 6              -0.608350                0.000042  "
      ]
     },
     "execution_count": 160,
     "metadata": {},
     "output_type": "execute_result"
    }
   ],
   "source": [
    "pd.DataFrame(pca.components_, columns = colunas_numericas, index = [f'Autovetor {i+1}' for i in range(n_fatores)])"
   ]
  },
  {
   "cell_type": "code",
   "execution_count": 161,
   "metadata": {},
   "outputs": [
    {
     "data": {
      "text/plain": [
       "array([2.21143526e+00, 7.65841381e-01, 6.13049500e-01, 3.69805416e-01,\n",
       "       1.02251136e-01, 1.43746743e-04])"
      ]
     },
     "execution_count": 161,
     "metadata": {},
     "output_type": "execute_result"
    }
   ],
   "source": [
    "raiz_autovalores = np.sqrt(autovalores)\n",
    "raiz_autovalores"
   ]
  },
  {
   "cell_type": "code",
   "execution_count": 162,
   "metadata": {},
   "outputs": [
    {
     "data": {
      "text/html": [
       "<div>\n",
       "<style scoped>\n",
       "    .dataframe tbody tr th:only-of-type {\n",
       "        vertical-align: middle;\n",
       "    }\n",
       "\n",
       "    .dataframe tbody tr th {\n",
       "        vertical-align: top;\n",
       "    }\n",
       "\n",
       "    .dataframe thead th {\n",
       "        text-align: right;\n",
       "    }\n",
       "</style>\n",
       "<table border=\"1\" class=\"dataframe\">\n",
       "  <thead>\n",
       "    <tr style=\"text-align: right;\">\n",
       "      <th></th>\n",
       "      <th>F1</th>\n",
       "      <th>F2</th>\n",
       "      <th>F3</th>\n",
       "      <th>F4</th>\n",
       "      <th>F5</th>\n",
       "      <th>F6</th>\n",
       "    </tr>\n",
       "  </thead>\n",
       "  <tbody>\n",
       "    <tr>\n",
       "      <th>hardraw</th>\n",
       "      <td>0.932294</td>\n",
       "      <td>0.014269</td>\n",
       "      <td>0.328220</td>\n",
       "      <td>0.141408</td>\n",
       "      <td>-0.053849</td>\n",
       "      <td>-4.804766e-05</td>\n",
       "    </tr>\n",
       "    <tr>\n",
       "      <th>clayraw</th>\n",
       "      <td>0.884796</td>\n",
       "      <td>0.190161</td>\n",
       "      <td>-0.418662</td>\n",
       "      <td>0.060681</td>\n",
       "      <td>-0.044879</td>\n",
       "      <td>4.367727e-05</td>\n",
       "    </tr>\n",
       "    <tr>\n",
       "      <th>grassraw</th>\n",
       "      <td>0.691252</td>\n",
       "      <td>-0.714557</td>\n",
       "      <td>-0.106926</td>\n",
       "      <td>-0.011986</td>\n",
       "      <td>0.001673</td>\n",
       "      <td>4.199484e-10</td>\n",
       "    </tr>\n",
       "    <tr>\n",
       "      <th>hard-court-elo-rating</th>\n",
       "      <td>0.970989</td>\n",
       "      <td>0.063781</td>\n",
       "      <td>0.209313</td>\n",
       "      <td>0.084560</td>\n",
       "      <td>0.046359</td>\n",
       "      <td>9.380633e-05</td>\n",
       "    </tr>\n",
       "    <tr>\n",
       "      <th>clay-court-elo-rating</th>\n",
       "      <td>0.971336</td>\n",
       "      <td>0.155561</td>\n",
       "      <td>-0.164906</td>\n",
       "      <td>0.043298</td>\n",
       "      <td>0.056900</td>\n",
       "      <td>-8.744837e-05</td>\n",
       "    </tr>\n",
       "    <tr>\n",
       "      <th>grass-court-elo-rating</th>\n",
       "      <td>0.935021</td>\n",
       "      <td>0.106253</td>\n",
       "      <td>0.101905</td>\n",
       "      <td>-0.322349</td>\n",
       "      <td>-0.012329</td>\n",
       "      <td>5.989347e-09</td>\n",
       "    </tr>\n",
       "  </tbody>\n",
       "</table>\n",
       "</div>"
      ],
      "text/plain": [
       "                              F1        F2        F3        F4        F5  \\\n",
       "hardraw                 0.932294  0.014269  0.328220  0.141408 -0.053849   \n",
       "clayraw                 0.884796  0.190161 -0.418662  0.060681 -0.044879   \n",
       "grassraw                0.691252 -0.714557 -0.106926 -0.011986  0.001673   \n",
       "hard-court-elo-rating   0.970989  0.063781  0.209313  0.084560  0.046359   \n",
       "clay-court-elo-rating   0.971336  0.155561 -0.164906  0.043298  0.056900   \n",
       "grass-court-elo-rating  0.935021  0.106253  0.101905 -0.322349 -0.012329   \n",
       "\n",
       "                                  F6  \n",
       "hardraw                -4.804766e-05  \n",
       "clayraw                 4.367727e-05  \n",
       "grassraw                4.199484e-10  \n",
       "hard-court-elo-rating   9.380633e-05  \n",
       "clay-court-elo-rating  -8.744837e-05  \n",
       "grass-court-elo-rating  5.989347e-09  "
      ]
     },
     "execution_count": 162,
     "metadata": {},
     "output_type": "execute_result"
    }
   ],
   "source": [
    "# As cargas fatoriais se dão pelo produto matricial da matriz transposta dos autovetores com a raiz dos autovalores\n",
    "\n",
    "cargas_fatorias = pd.DataFrame(pca.components_.T * raiz_autovalores, columns=fatores, index=colunas_numericas)\n",
    "cargas_fatorias"
   ]
  },
  {
   "cell_type": "code",
   "execution_count": 163,
   "metadata": {},
   "outputs": [
    {
     "data": {
      "text/html": [
       "<div>\n",
       "<style scoped>\n",
       "    .dataframe tbody tr th:only-of-type {\n",
       "        vertical-align: middle;\n",
       "    }\n",
       "\n",
       "    .dataframe tbody tr th {\n",
       "        vertical-align: top;\n",
       "    }\n",
       "\n",
       "    .dataframe thead th {\n",
       "        text-align: right;\n",
       "    }\n",
       "</style>\n",
       "<table border=\"1\" class=\"dataframe\">\n",
       "  <thead>\n",
       "    <tr style=\"text-align: right;\">\n",
       "      <th></th>\n",
       "      <th>F1</th>\n",
       "    </tr>\n",
       "  </thead>\n",
       "  <tbody>\n",
       "    <tr>\n",
       "      <th>hardraw</th>\n",
       "      <td>0.932294</td>\n",
       "    </tr>\n",
       "    <tr>\n",
       "      <th>clayraw</th>\n",
       "      <td>0.884796</td>\n",
       "    </tr>\n",
       "    <tr>\n",
       "      <th>grassraw</th>\n",
       "      <td>0.691252</td>\n",
       "    </tr>\n",
       "    <tr>\n",
       "      <th>hard-court-elo-rating</th>\n",
       "      <td>0.970989</td>\n",
       "    </tr>\n",
       "    <tr>\n",
       "      <th>clay-court-elo-rating</th>\n",
       "      <td>0.971336</td>\n",
       "    </tr>\n",
       "    <tr>\n",
       "      <th>grass-court-elo-rating</th>\n",
       "      <td>0.935021</td>\n",
       "    </tr>\n",
       "  </tbody>\n",
       "</table>\n",
       "</div>"
      ],
      "text/plain": [
       "                              F1\n",
       "hardraw                 0.932294\n",
       "clayraw                 0.884796\n",
       "grassraw                0.691252\n",
       "hard-court-elo-rating   0.970989\n",
       "clay-court-elo-rating   0.971336\n",
       "grass-court-elo-rating  0.935021"
      ]
     },
     "execution_count": 163,
     "metadata": {},
     "output_type": "execute_result"
    }
   ],
   "source": [
    "# Como usaremos apenas os dois primeiros fatores, temos\n",
    "\n",
    "resumo_cargas_fatorias = cargas_fatorias[['F1']].copy()\n",
    "resumo_cargas_fatorias"
   ]
  },
  {
   "cell_type": "code",
   "execution_count": 164,
   "metadata": {},
   "outputs": [
    {
     "data": {
      "text/html": [
       "<iframe\n",
       "    scrolling=\"no\"\n",
       "    width=\"100%\"\n",
       "    height=\"545px\"\n",
       "    src=\"iframe_figures/figure_164.html\"\n",
       "    frameborder=\"0\"\n",
       "    allowfullscreen\n",
       "></iframe>\n"
      ]
     },
     "metadata": {},
     "output_type": "display_data"
    }
   ],
   "source": [
    "fig = px.scatter(cargas_fatorias,x = 'F1', y='F2', text=cargas_fatorias.index )\n",
    "fig.update_traces(textposition='top center')\n",
    "fig.show()"
   ]
  },
  {
   "cell_type": "markdown",
   "metadata": {},
   "source": [
    "### Calcule os scores fatoriais."
   ]
  },
  {
   "cell_type": "code",
   "execution_count": 165,
   "metadata": {},
   "outputs": [
    {
     "data": {
      "text/html": [
       "<div>\n",
       "<style scoped>\n",
       "    .dataframe tbody tr th:only-of-type {\n",
       "        vertical-align: middle;\n",
       "    }\n",
       "\n",
       "    .dataframe tbody tr th {\n",
       "        vertical-align: top;\n",
       "    }\n",
       "\n",
       "    .dataframe thead th {\n",
       "        text-align: right;\n",
       "    }\n",
       "</style>\n",
       "<table border=\"1\" class=\"dataframe\">\n",
       "  <thead>\n",
       "    <tr style=\"text-align: right;\">\n",
       "      <th></th>\n",
       "      <th>F1</th>\n",
       "      <th>Comunalidade</th>\n",
       "    </tr>\n",
       "  </thead>\n",
       "  <tbody>\n",
       "    <tr>\n",
       "      <th>hardraw</th>\n",
       "      <td>0.932294</td>\n",
       "      <td>0.869172</td>\n",
       "    </tr>\n",
       "    <tr>\n",
       "      <th>clayraw</th>\n",
       "      <td>0.884796</td>\n",
       "      <td>0.782865</td>\n",
       "    </tr>\n",
       "    <tr>\n",
       "      <th>grassraw</th>\n",
       "      <td>0.691252</td>\n",
       "      <td>0.477829</td>\n",
       "    </tr>\n",
       "    <tr>\n",
       "      <th>hard-court-elo-rating</th>\n",
       "      <td>0.970989</td>\n",
       "      <td>0.942820</td>\n",
       "    </tr>\n",
       "    <tr>\n",
       "      <th>clay-court-elo-rating</th>\n",
       "      <td>0.971336</td>\n",
       "      <td>0.943495</td>\n",
       "    </tr>\n",
       "    <tr>\n",
       "      <th>grass-court-elo-rating</th>\n",
       "      <td>0.935021</td>\n",
       "      <td>0.874265</td>\n",
       "    </tr>\n",
       "  </tbody>\n",
       "</table>\n",
       "</div>"
      ],
      "text/plain": [
       "                              F1  Comunalidade\n",
       "hardraw                 0.932294      0.869172\n",
       "clayraw                 0.884796      0.782865\n",
       "grassraw                0.691252      0.477829\n",
       "hard-court-elo-rating   0.970989      0.942820\n",
       "clay-court-elo-rating   0.971336      0.943495\n",
       "grass-court-elo-rating  0.935021      0.874265"
      ]
     },
     "execution_count": 165,
     "metadata": {},
     "output_type": "execute_result"
    }
   ],
   "source": [
    "resumo_cargas_fatorias['Comunalidade'] = (resumo_cargas_fatorias ** 2).sum(axis = 1)\n",
    "resumo_cargas_fatorias"
   ]
  },
  {
   "cell_type": "code",
   "execution_count": 166,
   "metadata": {},
   "outputs": [
    {
     "data": {
      "text/plain": [
       "array([[ 1.90635781e-01,  1.80923478e-01,  1.41347424e-01,\n",
       "         1.98548235e-01,  1.98619205e-01,  1.91193462e-01],\n",
       "       [ 2.43278261e-02,  3.24223604e-01, -1.21831318e+00,\n",
       "         1.08746319e-01,  2.65230487e-01,  1.81160770e-01],\n",
       "       [ 8.73321200e-01, -1.11396611e+00, -2.84507453e-01,\n",
       "         5.56936540e-01, -4.38777373e-01,  2.71147333e-01],\n",
       "       [ 1.03401809e+00,  4.43719993e-01, -8.76462682e-02,\n",
       "         6.18325186e-01,  3.16609525e-01, -2.35710854e+00],\n",
       "       [-5.15036240e+00, -4.29245249e+00,  1.60038067e-01,\n",
       "         4.43399997e+00,  5.44218897e+00, -1.17921549e+00],\n",
       "       [-2.32528530e+03,  2.11377840e+03,  2.03235639e-02,\n",
       "         4.53979364e+03, -4.23209762e+03,  2.89856769e-01]])"
      ]
     },
     "execution_count": 166,
     "metadata": {},
     "output_type": "execute_result"
    }
   ],
   "source": [
    "scores_fatoriais = np.zeros(pca.components_.shape)\n",
    "for i in range (len(pca.components_)):\n",
    "    scores_fatoriais[i] = pca.components_[i] / raiz_autovalores[i]\n",
    "scores_fatoriais"
   ]
  },
  {
   "cell_type": "markdown",
   "metadata": {},
   "source": [
    "### Imprima o ranking"
   ]
  },
  {
   "cell_type": "code",
   "execution_count": 167,
   "metadata": {},
   "outputs": [
    {
     "data": {
      "text/plain": [
       "0      2.914713\n",
       "1      2.111291\n",
       "2      2.587642\n",
       "3      2.136143\n",
       "4      2.159801\n",
       "         ...   \n",
       "391   -1.877417\n",
       "392   -2.197098\n",
       "393   -1.913021\n",
       "394   -2.168985\n",
       "395   -2.210769\n",
       "Name: hardraw, Length: 396, dtype: float64"
      ]
     },
     "execution_count": 167,
     "metadata": {},
     "output_type": "execute_result"
    }
   ],
   "source": [
    "F1 = np.zeros(dados_padronizados.shape[0])\n",
    "for indice, variavel in enumerate(pca.feature_names_in_):\n",
    "    F1 += scores_fatoriais[0][indice] * dados_padronizados[variavel]\n",
    "\n",
    "F1"
   ]
  },
  {
   "cell_type": "code",
   "execution_count": 168,
   "metadata": {},
   "outputs": [
    {
     "data": {
      "text/html": [
       "<div>\n",
       "<style scoped>\n",
       "    .dataframe tbody tr th:only-of-type {\n",
       "        vertical-align: middle;\n",
       "    }\n",
       "\n",
       "    .dataframe tbody tr th {\n",
       "        vertical-align: top;\n",
       "    }\n",
       "\n",
       "    .dataframe thead th {\n",
       "        text-align: right;\n",
       "    }\n",
       "</style>\n",
       "<table border=\"1\" class=\"dataframe\">\n",
       "  <thead>\n",
       "    <tr style=\"text-align: right;\">\n",
       "      <th></th>\n",
       "      <th>player</th>\n",
       "      <th>F1</th>\n",
       "    </tr>\n",
       "  </thead>\n",
       "  <tbody>\n",
       "    <tr>\n",
       "      <th>0</th>\n",
       "      <td>Ashleigh Barty</td>\n",
       "      <td>2.914713</td>\n",
       "    </tr>\n",
       "    <tr>\n",
       "      <th>1</th>\n",
       "      <td>Naomi Osaka</td>\n",
       "      <td>2.111291</td>\n",
       "    </tr>\n",
       "    <tr>\n",
       "      <th>2</th>\n",
       "      <td>Simona Halep</td>\n",
       "      <td>2.587642</td>\n",
       "    </tr>\n",
       "    <tr>\n",
       "      <th>3</th>\n",
       "      <td>Anett Kontaveit</td>\n",
       "      <td>2.136143</td>\n",
       "    </tr>\n",
       "    <tr>\n",
       "      <th>4</th>\n",
       "      <td>Aryna Sabalenka</td>\n",
       "      <td>2.159801</td>\n",
       "    </tr>\n",
       "    <tr>\n",
       "      <th>...</th>\n",
       "      <td>...</td>\n",
       "      <td>...</td>\n",
       "    </tr>\n",
       "    <tr>\n",
       "      <th>391</th>\n",
       "      <td>Olivia Tjandramulia</td>\n",
       "      <td>-1.877417</td>\n",
       "    </tr>\n",
       "    <tr>\n",
       "      <th>392</th>\n",
       "      <td>Eden Silva</td>\n",
       "      <td>-2.197098</td>\n",
       "    </tr>\n",
       "    <tr>\n",
       "      <th>393</th>\n",
       "      <td>Riya Bhatia</td>\n",
       "      <td>-1.913021</td>\n",
       "    </tr>\n",
       "    <tr>\n",
       "      <th>394</th>\n",
       "      <td>Anna Siskova</td>\n",
       "      <td>-2.168985</td>\n",
       "    </tr>\n",
       "    <tr>\n",
       "      <th>395</th>\n",
       "      <td>Ekaterina Yashina</td>\n",
       "      <td>-2.210769</td>\n",
       "    </tr>\n",
       "  </tbody>\n",
       "</table>\n",
       "<p>396 rows × 2 columns</p>\n",
       "</div>"
      ],
      "text/plain": [
       "                  player        F1\n",
       "0         Ashleigh Barty  2.914713\n",
       "1            Naomi Osaka  2.111291\n",
       "2           Simona Halep  2.587642\n",
       "3        Anett Kontaveit  2.136143\n",
       "4        Aryna Sabalenka  2.159801\n",
       "..                   ...       ...\n",
       "391  Olivia Tjandramulia -1.877417\n",
       "392           Eden Silva -2.197098\n",
       "393          Riya Bhatia -1.913021\n",
       "394         Anna Siskova -2.168985\n",
       "395    Ekaterina Yashina -2.210769\n",
       "\n",
       "[396 rows x 2 columns]"
      ]
     },
     "execution_count": 168,
     "metadata": {},
     "output_type": "execute_result"
    }
   ],
   "source": [
    "dados_fatorias = df_female[['player']].copy()\n",
    "dados_fatorias['F1'] = F1\n",
    "dados_fatorias"
   ]
  },
  {
   "cell_type": "code",
   "execution_count": 169,
   "metadata": {},
   "outputs": [
    {
     "data": {
      "text/html": [
       "<div>\n",
       "<style scoped>\n",
       "    .dataframe tbody tr th:only-of-type {\n",
       "        vertical-align: middle;\n",
       "    }\n",
       "\n",
       "    .dataframe tbody tr th {\n",
       "        vertical-align: top;\n",
       "    }\n",
       "\n",
       "    .dataframe thead th {\n",
       "        text-align: right;\n",
       "    }\n",
       "</style>\n",
       "<table border=\"1\" class=\"dataframe\">\n",
       "  <thead>\n",
       "    <tr style=\"text-align: right;\">\n",
       "      <th></th>\n",
       "      <th>player</th>\n",
       "      <th>F1</th>\n",
       "      <th>rankings</th>\n",
       "    </tr>\n",
       "  </thead>\n",
       "  <tbody>\n",
       "    <tr>\n",
       "      <th>0</th>\n",
       "      <td>Ashleigh Barty</td>\n",
       "      <td>2.914713</td>\n",
       "      <td>2.375708</td>\n",
       "    </tr>\n",
       "    <tr>\n",
       "      <th>1</th>\n",
       "      <td>Naomi Osaka</td>\n",
       "      <td>2.111291</td>\n",
       "      <td>1.720859</td>\n",
       "    </tr>\n",
       "    <tr>\n",
       "      <th>2</th>\n",
       "      <td>Simona Halep</td>\n",
       "      <td>2.587642</td>\n",
       "      <td>2.109121</td>\n",
       "    </tr>\n",
       "    <tr>\n",
       "      <th>3</th>\n",
       "      <td>Anett Kontaveit</td>\n",
       "      <td>2.136143</td>\n",
       "      <td>1.741115</td>\n",
       "    </tr>\n",
       "    <tr>\n",
       "      <th>4</th>\n",
       "      <td>Aryna Sabalenka</td>\n",
       "      <td>2.159801</td>\n",
       "      <td>1.760398</td>\n",
       "    </tr>\n",
       "    <tr>\n",
       "      <th>...</th>\n",
       "      <td>...</td>\n",
       "      <td>...</td>\n",
       "      <td>...</td>\n",
       "    </tr>\n",
       "    <tr>\n",
       "      <th>391</th>\n",
       "      <td>Olivia Tjandramulia</td>\n",
       "      <td>-1.877417</td>\n",
       "      <td>-1.530234</td>\n",
       "    </tr>\n",
       "    <tr>\n",
       "      <th>392</th>\n",
       "      <td>Eden Silva</td>\n",
       "      <td>-2.197098</td>\n",
       "      <td>-1.790798</td>\n",
       "    </tr>\n",
       "    <tr>\n",
       "      <th>393</th>\n",
       "      <td>Riya Bhatia</td>\n",
       "      <td>-1.913021</td>\n",
       "      <td>-1.559254</td>\n",
       "    </tr>\n",
       "    <tr>\n",
       "      <th>394</th>\n",
       "      <td>Anna Siskova</td>\n",
       "      <td>-2.168985</td>\n",
       "      <td>-1.767884</td>\n",
       "    </tr>\n",
       "    <tr>\n",
       "      <th>395</th>\n",
       "      <td>Ekaterina Yashina</td>\n",
       "      <td>-2.210769</td>\n",
       "      <td>-1.801941</td>\n",
       "    </tr>\n",
       "  </tbody>\n",
       "</table>\n",
       "<p>396 rows × 3 columns</p>\n",
       "</div>"
      ],
      "text/plain": [
       "                  player        F1  rankings\n",
       "0         Ashleigh Barty  2.914713  2.375708\n",
       "1            Naomi Osaka  2.111291  1.720859\n",
       "2           Simona Halep  2.587642  2.109121\n",
       "3        Anett Kontaveit  2.136143  1.741115\n",
       "4        Aryna Sabalenka  2.159801  1.760398\n",
       "..                   ...       ...       ...\n",
       "391  Olivia Tjandramulia -1.877417 -1.530234\n",
       "392           Eden Silva -2.197098 -1.790798\n",
       "393          Riya Bhatia -1.913021 -1.559254\n",
       "394         Anna Siskova -2.168985 -1.767884\n",
       "395    Ekaterina Yashina -2.210769 -1.801941\n",
       "\n",
       "[396 rows x 3 columns]"
      ]
     },
     "execution_count": 169,
     "metadata": {},
     "output_type": "execute_result"
    }
   ],
   "source": [
    "dados_fatorias['rankings'] = dados_fatorias['F1'] *  pca.explained_variance_ratio_[0]\n",
    "dados_fatorias"
   ]
  },
  {
   "cell_type": "code",
   "execution_count": 170,
   "metadata": {},
   "outputs": [
    {
     "data": {
      "text/html": [
       "<div>\n",
       "<style scoped>\n",
       "    .dataframe tbody tr th:only-of-type {\n",
       "        vertical-align: middle;\n",
       "    }\n",
       "\n",
       "    .dataframe tbody tr th {\n",
       "        vertical-align: top;\n",
       "    }\n",
       "\n",
       "    .dataframe thead th {\n",
       "        text-align: right;\n",
       "    }\n",
       "</style>\n",
       "<table border=\"1\" class=\"dataframe\">\n",
       "  <thead>\n",
       "    <tr style=\"text-align: right;\">\n",
       "      <th></th>\n",
       "      <th>player</th>\n",
       "      <th>F1</th>\n",
       "      <th>rankings</th>\n",
       "    </tr>\n",
       "  </thead>\n",
       "  <tbody>\n",
       "    <tr>\n",
       "      <th>0</th>\n",
       "      <td>Ashleigh Barty</td>\n",
       "      <td>2.914713</td>\n",
       "      <td>2.375708</td>\n",
       "    </tr>\n",
       "    <tr>\n",
       "      <th>2</th>\n",
       "      <td>Simona Halep</td>\n",
       "      <td>2.587642</td>\n",
       "      <td>2.109121</td>\n",
       "    </tr>\n",
       "    <tr>\n",
       "      <th>5</th>\n",
       "      <td>Garbine Muguruza</td>\n",
       "      <td>2.270004</td>\n",
       "      <td>1.850222</td>\n",
       "    </tr>\n",
       "    <tr>\n",
       "      <th>10</th>\n",
       "      <td>Petra Kvitova</td>\n",
       "      <td>2.209049</td>\n",
       "      <td>1.800539</td>\n",
       "    </tr>\n",
       "    <tr>\n",
       "      <th>7</th>\n",
       "      <td>Karolina Pliskova</td>\n",
       "      <td>2.187939</td>\n",
       "      <td>1.783333</td>\n",
       "    </tr>\n",
       "    <tr>\n",
       "      <th>...</th>\n",
       "      <td>...</td>\n",
       "      <td>...</td>\n",
       "      <td>...</td>\n",
       "    </tr>\n",
       "    <tr>\n",
       "      <th>391</th>\n",
       "      <td>Olivia Tjandramulia</td>\n",
       "      <td>-1.877417</td>\n",
       "      <td>-1.530234</td>\n",
       "    </tr>\n",
       "    <tr>\n",
       "      <th>393</th>\n",
       "      <td>Riya Bhatia</td>\n",
       "      <td>-1.913021</td>\n",
       "      <td>-1.559254</td>\n",
       "    </tr>\n",
       "    <tr>\n",
       "      <th>394</th>\n",
       "      <td>Anna Siskova</td>\n",
       "      <td>-2.168985</td>\n",
       "      <td>-1.767884</td>\n",
       "    </tr>\n",
       "    <tr>\n",
       "      <th>392</th>\n",
       "      <td>Eden Silva</td>\n",
       "      <td>-2.197098</td>\n",
       "      <td>-1.790798</td>\n",
       "    </tr>\n",
       "    <tr>\n",
       "      <th>395</th>\n",
       "      <td>Ekaterina Yashina</td>\n",
       "      <td>-2.210769</td>\n",
       "      <td>-1.801941</td>\n",
       "    </tr>\n",
       "  </tbody>\n",
       "</table>\n",
       "<p>396 rows × 3 columns</p>\n",
       "</div>"
      ],
      "text/plain": [
       "                  player        F1  rankings\n",
       "0         Ashleigh Barty  2.914713  2.375708\n",
       "2           Simona Halep  2.587642  2.109121\n",
       "5       Garbine Muguruza  2.270004  1.850222\n",
       "10         Petra Kvitova  2.209049  1.800539\n",
       "7      Karolina Pliskova  2.187939  1.783333\n",
       "..                   ...       ...       ...\n",
       "391  Olivia Tjandramulia -1.877417 -1.530234\n",
       "393          Riya Bhatia -1.913021 -1.559254\n",
       "394         Anna Siskova -2.168985 -1.767884\n",
       "392           Eden Silva -2.197098 -1.790798\n",
       "395    Ekaterina Yashina -2.210769 -1.801941\n",
       "\n",
       "[396 rows x 3 columns]"
      ]
     },
     "execution_count": 170,
     "metadata": {},
     "output_type": "execute_result"
    }
   ],
   "source": [
    "dados_fatorias.sort_values('rankings', ascending = False)"
   ]
  },
  {
   "cell_type": "code",
   "execution_count": 171,
   "metadata": {},
   "outputs": [
    {
     "data": {
      "text/html": [
       "<div>\n",
       "<style scoped>\n",
       "    .dataframe tbody tr th:only-of-type {\n",
       "        vertical-align: middle;\n",
       "    }\n",
       "\n",
       "    .dataframe tbody tr th {\n",
       "        vertical-align: top;\n",
       "    }\n",
       "\n",
       "    .dataframe thead th {\n",
       "        text-align: right;\n",
       "    }\n",
       "</style>\n",
       "<table border=\"1\" class=\"dataframe\">\n",
       "  <thead>\n",
       "    <tr style=\"text-align: right;\">\n",
       "      <th></th>\n",
       "      <th>player</th>\n",
       "      <th>age</th>\n",
       "      <th>elo</th>\n",
       "      <th>hardraw</th>\n",
       "      <th>clayraw</th>\n",
       "      <th>grassraw</th>\n",
       "      <th>hard-court-elo-rating</th>\n",
       "      <th>clay-court-elo-rating</th>\n",
       "      <th>grass-court-elo-rating</th>\n",
       "      <th>peak-age</th>\n",
       "      <th>peak-elo</th>\n",
       "      <th>gender</th>\n",
       "      <th>ranking-real</th>\n",
       "      <th>rankings</th>\n",
       "      <th>F1</th>\n",
       "    </tr>\n",
       "  </thead>\n",
       "  <tbody>\n",
       "    <tr>\n",
       "      <th>0</th>\n",
       "      <td>Ashleigh Barty</td>\n",
       "      <td>25.3</td>\n",
       "      <td>2132.0</td>\n",
       "      <td>1994.1</td>\n",
       "      <td>1929.0</td>\n",
       "      <td>1817.9</td>\n",
       "      <td>2063.0</td>\n",
       "      <td>2030.5</td>\n",
       "      <td>1975.0</td>\n",
       "      <td>25.3</td>\n",
       "      <td>2148.9</td>\n",
       "      <td>Female</td>\n",
       "      <td>1</td>\n",
       "      <td>2.375708</td>\n",
       "      <td>2.914713</td>\n",
       "    </tr>\n",
       "    <tr>\n",
       "      <th>1</th>\n",
       "      <td>Naomi Osaka</td>\n",
       "      <td>23.9</td>\n",
       "      <td>2038.9</td>\n",
       "      <td>1986.8</td>\n",
       "      <td>1661.1</td>\n",
       "      <td>1546.2</td>\n",
       "      <td>2012.9</td>\n",
       "      <td>1850.0</td>\n",
       "      <td>1792.5</td>\n",
       "      <td>23.4</td>\n",
       "      <td>2114.3</td>\n",
       "      <td>Female</td>\n",
       "      <td>2</td>\n",
       "      <td>1.720859</td>\n",
       "      <td>2.111291</td>\n",
       "    </tr>\n",
       "    <tr>\n",
       "      <th>2</th>\n",
       "      <td>Simona Halep</td>\n",
       "      <td>30.1</td>\n",
       "      <td>2033.4</td>\n",
       "      <td>1910.2</td>\n",
       "      <td>1934.6</td>\n",
       "      <td>1757.4</td>\n",
       "      <td>1971.8</td>\n",
       "      <td>1984.0</td>\n",
       "      <td>1895.4</td>\n",
       "      <td>26.9</td>\n",
       "      <td>2096.2</td>\n",
       "      <td>Female</td>\n",
       "      <td>3</td>\n",
       "      <td>2.109121</td>\n",
       "      <td>2.587642</td>\n",
       "    </tr>\n",
       "    <tr>\n",
       "      <th>3</th>\n",
       "      <td>Anett Kontaveit</td>\n",
       "      <td>25.9</td>\n",
       "      <td>2010.6</td>\n",
       "      <td>1934.3</td>\n",
       "      <td>1743.7</td>\n",
       "      <td>1571.7</td>\n",
       "      <td>1972.5</td>\n",
       "      <td>1877.2</td>\n",
       "      <td>1791.2</td>\n",
       "      <td>25.9</td>\n",
       "      <td>2010.6</td>\n",
       "      <td>Female</td>\n",
       "      <td>4</td>\n",
       "      <td>1.741115</td>\n",
       "      <td>2.136143</td>\n",
       "    </tr>\n",
       "    <tr>\n",
       "      <th>4</th>\n",
       "      <td>Aryna Sabalenka</td>\n",
       "      <td>23.5</td>\n",
       "      <td>1990.5</td>\n",
       "      <td>1880.7</td>\n",
       "      <td>1771.7</td>\n",
       "      <td>1677.6</td>\n",
       "      <td>1935.6</td>\n",
       "      <td>1881.1</td>\n",
       "      <td>1834.1</td>\n",
       "      <td>23.0</td>\n",
       "      <td>2053.4</td>\n",
       "      <td>Female</td>\n",
       "      <td>5</td>\n",
       "      <td>1.760398</td>\n",
       "      <td>2.159801</td>\n",
       "    </tr>\n",
       "    <tr>\n",
       "      <th>...</th>\n",
       "      <td>...</td>\n",
       "      <td>...</td>\n",
       "      <td>...</td>\n",
       "      <td>...</td>\n",
       "      <td>...</td>\n",
       "      <td>...</td>\n",
       "      <td>...</td>\n",
       "      <td>...</td>\n",
       "      <td>...</td>\n",
       "      <td>...</td>\n",
       "      <td>...</td>\n",
       "      <td>...</td>\n",
       "      <td>...</td>\n",
       "      <td>...</td>\n",
       "      <td>...</td>\n",
       "    </tr>\n",
       "    <tr>\n",
       "      <th>391</th>\n",
       "      <td>Olivia Tjandramulia</td>\n",
       "      <td>24.6</td>\n",
       "      <td>1112.5</td>\n",
       "      <td>1038.9</td>\n",
       "      <td>1070.2</td>\n",
       "      <td>1305.8</td>\n",
       "      <td>1075.7</td>\n",
       "      <td>1091.3</td>\n",
       "      <td>1209.2</td>\n",
       "      <td>18.5</td>\n",
       "      <td>1265.3</td>\n",
       "      <td>Female</td>\n",
       "      <td>392</td>\n",
       "      <td>-1.530234</td>\n",
       "      <td>-1.877417</td>\n",
       "    </tr>\n",
       "    <tr>\n",
       "      <th>392</th>\n",
       "      <td>Eden Silva</td>\n",
       "      <td>25.5</td>\n",
       "      <td>1094.4</td>\n",
       "      <td>926.2</td>\n",
       "      <td>1072.1</td>\n",
       "      <td>1153.7</td>\n",
       "      <td>1010.3</td>\n",
       "      <td>1083.3</td>\n",
       "      <td>1124.1</td>\n",
       "      <td>21.2</td>\n",
       "      <td>1228.7</td>\n",
       "      <td>Female</td>\n",
       "      <td>393</td>\n",
       "      <td>-1.790798</td>\n",
       "      <td>-2.197098</td>\n",
       "    </tr>\n",
       "    <tr>\n",
       "      <th>393</th>\n",
       "      <td>Riya Bhatia</td>\n",
       "      <td>24.2</td>\n",
       "      <td>1058.4</td>\n",
       "      <td>1028.8</td>\n",
       "      <td>1150.1</td>\n",
       "      <td>1245.3</td>\n",
       "      <td>1043.6</td>\n",
       "      <td>1104.3</td>\n",
       "      <td>1151.9</td>\n",
       "      <td>20.2</td>\n",
       "      <td>1196.3</td>\n",
       "      <td>Female</td>\n",
       "      <td>394</td>\n",
       "      <td>-1.559254</td>\n",
       "      <td>-1.913021</td>\n",
       "    </tr>\n",
       "    <tr>\n",
       "      <th>394</th>\n",
       "      <td>Anna Siskova</td>\n",
       "      <td>20.4</td>\n",
       "      <td>1035.9</td>\n",
       "      <td>1227.6</td>\n",
       "      <td>972.5</td>\n",
       "      <td>0.0</td>\n",
       "      <td>1131.8</td>\n",
       "      <td>1004.2</td>\n",
       "      <td>1193.0</td>\n",
       "      <td>15.0</td>\n",
       "      <td>1169.0</td>\n",
       "      <td>Female</td>\n",
       "      <td>395</td>\n",
       "      <td>-1.767884</td>\n",
       "      <td>-2.168985</td>\n",
       "    </tr>\n",
       "    <tr>\n",
       "      <th>395</th>\n",
       "      <td>Ekaterina Yashina</td>\n",
       "      <td>28.2</td>\n",
       "      <td>1032.1</td>\n",
       "      <td>1057.5</td>\n",
       "      <td>908.5</td>\n",
       "      <td>1325.5</td>\n",
       "      <td>1044.8</td>\n",
       "      <td>970.3</td>\n",
       "      <td>1178.8</td>\n",
       "      <td>18.0</td>\n",
       "      <td>1229.3</td>\n",
       "      <td>Female</td>\n",
       "      <td>396</td>\n",
       "      <td>-1.801941</td>\n",
       "      <td>-2.210769</td>\n",
       "    </tr>\n",
       "  </tbody>\n",
       "</table>\n",
       "<p>396 rows × 15 columns</p>\n",
       "</div>"
      ],
      "text/plain": [
       "                  player   age     elo  hardraw  clayraw  grassraw  \\\n",
       "0         Ashleigh Barty  25.3  2132.0   1994.1   1929.0    1817.9   \n",
       "1            Naomi Osaka  23.9  2038.9   1986.8   1661.1    1546.2   \n",
       "2           Simona Halep  30.1  2033.4   1910.2   1934.6    1757.4   \n",
       "3        Anett Kontaveit  25.9  2010.6   1934.3   1743.7    1571.7   \n",
       "4        Aryna Sabalenka  23.5  1990.5   1880.7   1771.7    1677.6   \n",
       "..                   ...   ...     ...      ...      ...       ...   \n",
       "391  Olivia Tjandramulia  24.6  1112.5   1038.9   1070.2    1305.8   \n",
       "392           Eden Silva  25.5  1094.4    926.2   1072.1    1153.7   \n",
       "393          Riya Bhatia  24.2  1058.4   1028.8   1150.1    1245.3   \n",
       "394         Anna Siskova  20.4  1035.9   1227.6    972.5       0.0   \n",
       "395    Ekaterina Yashina  28.2  1032.1   1057.5    908.5    1325.5   \n",
       "\n",
       "     hard-court-elo-rating  clay-court-elo-rating  grass-court-elo-rating  \\\n",
       "0                   2063.0                 2030.5                  1975.0   \n",
       "1                   2012.9                 1850.0                  1792.5   \n",
       "2                   1971.8                 1984.0                  1895.4   \n",
       "3                   1972.5                 1877.2                  1791.2   \n",
       "4                   1935.6                 1881.1                  1834.1   \n",
       "..                     ...                    ...                     ...   \n",
       "391                 1075.7                 1091.3                  1209.2   \n",
       "392                 1010.3                 1083.3                  1124.1   \n",
       "393                 1043.6                 1104.3                  1151.9   \n",
       "394                 1131.8                 1004.2                  1193.0   \n",
       "395                 1044.8                  970.3                  1178.8   \n",
       "\n",
       "     peak-age  peak-elo  gender  ranking-real  rankings        F1  \n",
       "0        25.3    2148.9  Female             1  2.375708  2.914713  \n",
       "1        23.4    2114.3  Female             2  1.720859  2.111291  \n",
       "2        26.9    2096.2  Female             3  2.109121  2.587642  \n",
       "3        25.9    2010.6  Female             4  1.741115  2.136143  \n",
       "4        23.0    2053.4  Female             5  1.760398  2.159801  \n",
       "..        ...       ...     ...           ...       ...       ...  \n",
       "391      18.5    1265.3  Female           392 -1.530234 -1.877417  \n",
       "392      21.2    1228.7  Female           393 -1.790798 -2.197098  \n",
       "393      20.2    1196.3  Female           394 -1.559254 -1.913021  \n",
       "394      15.0    1169.0  Female           395 -1.767884 -2.168985  \n",
       "395      18.0    1229.3  Female           396 -1.801941 -2.210769  \n",
       "\n",
       "[396 rows x 15 columns]"
      ]
     },
     "execution_count": 171,
     "metadata": {},
     "output_type": "execute_result"
    }
   ],
   "source": [
    "df_female['rankings'] = dados_fatorias['rankings'] \n",
    "df_female['F1'] = F1\n",
    "df_female"
   ]
  },
  {
   "cell_type": "code",
   "execution_count": null,
   "metadata": {},
   "outputs": [],
   "source": []
  }
 ],
 "metadata": {
  "colab": {
   "authorship_tag": "ABX9TyOLL/Llrm8lRnV+wt6KzudJ",
   "provenance": []
  },
  "kernelspec": {
   "display_name": "Python 3 (ipykernel)",
   "language": "python",
   "name": "python3"
  },
  "language_info": {
   "codemirror_mode": {
    "name": "ipython",
    "version": 3
   },
   "file_extension": ".py",
   "mimetype": "text/x-python",
   "name": "python",
   "nbconvert_exporter": "python",
   "pygments_lexer": "ipython3",
   "version": "3.11.9"
  }
 },
 "nbformat": 4,
 "nbformat_minor": 4
}
