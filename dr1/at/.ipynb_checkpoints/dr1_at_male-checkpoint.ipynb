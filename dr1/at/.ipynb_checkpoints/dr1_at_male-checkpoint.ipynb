{
 "cells": [
  {
   "cell_type": "markdown",
   "metadata": {
    "id": "sKYowxKEJdev"
   },
   "source": [
    "# INITIALIZE"
   ]
  },
  {
   "cell_type": "code",
   "execution_count": 459,
   "metadata": {
    "colab": {
     "base_uri": "https://localhost:8080/"
    },
    "executionInfo": {
     "elapsed": 7146,
     "status": "ok",
     "timestamp": 1718108424611,
     "user": {
      "displayName": "Renato Noronha Hack",
      "userId": "16810341051324566567"
     },
     "user_tz": 180
    },
    "id": "R3b8UY18Irtc",
    "outputId": "d37ab389-1bda-4364-9e01-ba874fd4a1ee"
   },
   "outputs": [
    {
     "name": "stdout",
     "output_type": "stream",
     "text": [
      "Requirement already satisfied: factor_analyzer in /opt/conda/lib/python3.11/site-packages (0.5.1)\n",
      "Requirement already satisfied: pandas in /opt/conda/lib/python3.11/site-packages (from factor_analyzer) (2.2.2)\n",
      "Requirement already satisfied: scipy in /opt/conda/lib/python3.11/site-packages (from factor_analyzer) (1.13.0)\n",
      "Requirement already satisfied: numpy in /opt/conda/lib/python3.11/site-packages (from factor_analyzer) (1.26.4)\n",
      "Requirement already satisfied: scikit-learn in /opt/conda/lib/python3.11/site-packages (from factor_analyzer) (1.4.2)\n",
      "Requirement already satisfied: python-dateutil>=2.8.2 in /opt/conda/lib/python3.11/site-packages (from pandas->factor_analyzer) (2.9.0)\n",
      "Requirement already satisfied: pytz>=2020.1 in /opt/conda/lib/python3.11/site-packages (from pandas->factor_analyzer) (2024.1)\n",
      "Requirement already satisfied: tzdata>=2022.7 in /opt/conda/lib/python3.11/site-packages (from pandas->factor_analyzer) (2024.1)\n",
      "Requirement already satisfied: joblib>=1.2.0 in /opt/conda/lib/python3.11/site-packages (from scikit-learn->factor_analyzer) (1.4.0)\n",
      "Requirement already satisfied: threadpoolctl>=2.0.0 in /opt/conda/lib/python3.11/site-packages (from scikit-learn->factor_analyzer) (3.4.0)\n",
      "Requirement already satisfied: six>=1.5 in /opt/conda/lib/python3.11/site-packages (from python-dateutil>=2.8.2->pandas->factor_analyzer) (1.16.0)\n"
     ]
    }
   ],
   "source": [
    "!pip install factor_analyzer"
   ]
  },
  {
   "cell_type": "code",
   "execution_count": 460,
   "metadata": {
    "colab": {
     "base_uri": "https://localhost:8080/"
    },
    "executionInfo": {
     "elapsed": 10049,
     "status": "ok",
     "timestamp": 1718108434651,
     "user": {
      "displayName": "Renato Noronha Hack",
      "userId": "16810341051324566567"
     },
     "user_tz": 180
    },
    "id": "Dtr1dsEHN5im",
    "outputId": "359d9a2c-d3e4-4bf4-accd-48300544d361"
   },
   "outputs": [
    {
     "name": "stdout",
     "output_type": "stream",
     "text": [
      "Requirement already satisfied: plotly in /opt/conda/lib/python3.11/site-packages (5.22.0)\n",
      "Requirement already satisfied: tenacity>=6.2.0 in /opt/conda/lib/python3.11/site-packages (from plotly) (8.3.0)\n",
      "Requirement already satisfied: packaging in /opt/conda/lib/python3.11/site-packages (from plotly) (24.0)\n"
     ]
    }
   ],
   "source": [
    "!pip install plotly"
   ]
  },
  {
   "cell_type": "code",
   "execution_count": 461,
   "metadata": {
    "executionInfo": {
     "elapsed": 5,
     "status": "ok",
     "timestamp": 1718108434652,
     "user": {
      "displayName": "Renato Noronha Hack",
      "userId": "16810341051324566567"
     },
     "user_tz": 180
    },
    "id": "DNjMgS1X3RBa"
   },
   "outputs": [],
   "source": [
    "import pandas as pd\n",
    "import numpy as np\n",
    "import seaborn as sns\n",
    "import matplotlib.pyplot as plt\n",
    "import plotly.express as px"
   ]
  },
  {
   "cell_type": "code",
   "execution_count": 462,
   "metadata": {
    "executionInfo": {
     "elapsed": 4,
     "status": "ok",
     "timestamp": 1718108434652,
     "user": {
      "displayName": "Renato Noronha Hack",
      "userId": "16810341051324566567"
     },
     "user_tz": 180
    },
    "id": "DiX41fhPIjl9"
   },
   "outputs": [],
   "source": [
    "%matplotlib inline\n",
    "import plotly.io as pio\n",
    "pio.renderers.default = 'iframe'"
   ]
  },
  {
   "cell_type": "code",
   "execution_count": 463,
   "metadata": {
    "executionInfo": {
     "elapsed": 454,
     "status": "ok",
     "timestamp": 1718108435103,
     "user": {
      "displayName": "Renato Noronha Hack",
      "userId": "16810341051324566567"
     },
     "user_tz": 180
    },
    "id": "KM6LvAjJ6RJx"
   },
   "outputs": [],
   "source": [
    "df = pd.read_csv('tenis.csv')\n",
    "\n",
    "# Considerando que '-' significa que o individuo não possui ranking,\n",
    "# podemos considerar que possui rank 0\n",
    "df = df.replace(\"-\", 0)\n",
    "df = df.astype({'hardraw':float, 'clayraw':float, 'grassraw':float})\n",
    "\n",
    "# Separa os datasets de homens e mulheres\n",
    "df_male = df[df['gender'] == 'Male'].copy().reset_index(drop=True)"
   ]
  },
  {
   "cell_type": "code",
   "execution_count": 464,
   "metadata": {},
   "outputs": [],
   "source": [
    "# Incluir coluna com numero do ranking real\n",
    "\n",
    "lista_rankings = list()\n",
    "for i in range(1, len(df_male.index) + 1):\n",
    "    lista_rankings.append(i)\n",
    "\n",
    "df_male['ranking-real'] = lista_rankings"
   ]
  },
  {
   "cell_type": "markdown",
   "metadata": {
    "id": "s_UKEeQbJkB8"
   },
   "source": [
    "### Faça a matriz de Correlação dos campos. Plote a matriz de correlação com heatmap."
   ]
  },
  {
   "cell_type": "code",
   "execution_count": 465,
   "metadata": {
    "executionInfo": {
     "elapsed": 9,
     "status": "ok",
     "timestamp": 1718108435106,
     "user": {
      "displayName": "Renato Noronha Hack",
      "userId": "16810341051324566567"
     },
     "user_tz": 180
    },
    "id": "f8XZANGoFR3N"
   },
   "outputs": [],
   "source": [
    "# Exclui colunas que não contribuem para o ranking\n",
    "# e também a coluna Elo, que é diretamente proporcional ao ranking (não podemos roubar rs)\n",
    "variaveis_numericas = df_male.drop(['player', 'age', 'elo', 'peak-age', 'peak-elo', 'gender', 'ranking-real'], axis=1)"
   ]
  },
  {
   "cell_type": "code",
   "execution_count": 466,
   "metadata": {
    "colab": {
     "base_uri": "https://localhost:8080/",
     "height": 0
    },
    "executionInfo": {
     "elapsed": 10,
     "status": "ok",
     "timestamp": 1718108435107,
     "user": {
      "displayName": "Renato Noronha Hack",
      "userId": "16810341051324566567"
     },
     "user_tz": 180
    },
    "id": "I_mOkP3mFspI",
    "outputId": "d591098a-48f4-44b2-b20b-040e6e10f4e1"
   },
   "outputs": [
    {
     "data": {
      "text/html": [
       "<div>\n",
       "<style scoped>\n",
       "    .dataframe tbody tr th:only-of-type {\n",
       "        vertical-align: middle;\n",
       "    }\n",
       "\n",
       "    .dataframe tbody tr th {\n",
       "        vertical-align: top;\n",
       "    }\n",
       "\n",
       "    .dataframe thead th {\n",
       "        text-align: right;\n",
       "    }\n",
       "</style>\n",
       "<table border=\"1\" class=\"dataframe\">\n",
       "  <thead>\n",
       "    <tr style=\"text-align: right;\">\n",
       "      <th></th>\n",
       "      <th>hardraw</th>\n",
       "      <th>clayraw</th>\n",
       "      <th>grassraw</th>\n",
       "      <th>hard-court-elo-rating</th>\n",
       "      <th>clay-court-elo-rating</th>\n",
       "      <th>grass-court-elo-rating</th>\n",
       "    </tr>\n",
       "  </thead>\n",
       "  <tbody>\n",
       "    <tr>\n",
       "      <th>hardraw</th>\n",
       "      <td>1.000000</td>\n",
       "      <td>0.445581</td>\n",
       "      <td>0.534371</td>\n",
       "      <td>0.813358</td>\n",
       "      <td>0.664605</td>\n",
       "      <td>0.713979</td>\n",
       "    </tr>\n",
       "    <tr>\n",
       "      <th>clayraw</th>\n",
       "      <td>0.445581</td>\n",
       "      <td>1.000000</td>\n",
       "      <td>0.379136</td>\n",
       "      <td>0.649627</td>\n",
       "      <td>0.832931</td>\n",
       "      <td>0.648688</td>\n",
       "    </tr>\n",
       "    <tr>\n",
       "      <th>grassraw</th>\n",
       "      <td>0.534371</td>\n",
       "      <td>0.379136</td>\n",
       "      <td>1.000000</td>\n",
       "      <td>0.527114</td>\n",
       "      <td>0.460841</td>\n",
       "      <td>0.485638</td>\n",
       "    </tr>\n",
       "    <tr>\n",
       "      <th>hard-court-elo-rating</th>\n",
       "      <td>0.813358</td>\n",
       "      <td>0.649627</td>\n",
       "      <td>0.527114</td>\n",
       "      <td>1.000000</td>\n",
       "      <td>0.904944</td>\n",
       "      <td>0.927029</td>\n",
       "    </tr>\n",
       "    <tr>\n",
       "      <th>clay-court-elo-rating</th>\n",
       "      <td>0.664605</td>\n",
       "      <td>0.832931</td>\n",
       "      <td>0.460841</td>\n",
       "      <td>0.904944</td>\n",
       "      <td>1.000000</td>\n",
       "      <td>0.878085</td>\n",
       "    </tr>\n",
       "    <tr>\n",
       "      <th>grass-court-elo-rating</th>\n",
       "      <td>0.713979</td>\n",
       "      <td>0.648688</td>\n",
       "      <td>0.485638</td>\n",
       "      <td>0.927029</td>\n",
       "      <td>0.878085</td>\n",
       "      <td>1.000000</td>\n",
       "    </tr>\n",
       "  </tbody>\n",
       "</table>\n",
       "</div>"
      ],
      "text/plain": [
       "                         hardraw   clayraw  grassraw  hard-court-elo-rating  \\\n",
       "hardraw                 1.000000  0.445581  0.534371               0.813358   \n",
       "clayraw                 0.445581  1.000000  0.379136               0.649627   \n",
       "grassraw                0.534371  0.379136  1.000000               0.527114   \n",
       "hard-court-elo-rating   0.813358  0.649627  0.527114               1.000000   \n",
       "clay-court-elo-rating   0.664605  0.832931  0.460841               0.904944   \n",
       "grass-court-elo-rating  0.713979  0.648688  0.485638               0.927029   \n",
       "\n",
       "                        clay-court-elo-rating  grass-court-elo-rating  \n",
       "hardraw                              0.664605                0.713979  \n",
       "clayraw                              0.832931                0.648688  \n",
       "grassraw                             0.460841                0.485638  \n",
       "hard-court-elo-rating                0.904944                0.927029  \n",
       "clay-court-elo-rating                1.000000                0.878085  \n",
       "grass-court-elo-rating               0.878085                1.000000  "
      ]
     },
     "execution_count": 466,
     "metadata": {},
     "output_type": "execute_result"
    }
   ],
   "source": [
    "# Matriz de correlação\n",
    "\n",
    "variaveis_numericas.corr()"
   ]
  },
  {
   "cell_type": "code",
   "execution_count": 467,
   "metadata": {
    "colab": {
     "base_uri": "https://localhost:8080/",
     "height": 0
    },
    "executionInfo": {
     "elapsed": 1581,
     "status": "ok",
     "timestamp": 1718108436680,
     "user": {
      "displayName": "Renato Noronha Hack",
      "userId": "16810341051324566567"
     },
     "user_tz": 180
    },
    "id": "Z-1SDCI4GU1R",
    "outputId": "c5011106-0c75-4a38-e4a4-75a95ca29b3f"
   },
   "outputs": [
    {
     "data": {
      "text/plain": [
       "Text(0.5, 1.0, 'Matriz de Correlações')"
      ]
     },
     "execution_count": 467,
     "metadata": {},
     "output_type": "execute_result"
    },
    {
     "data": {
      "image/png": "[encoded data removed]",
      "text/plain": [
       "<Figure size 1600x600 with 2 Axes>"
      ]
     },
     "metadata": {},
     "output_type": "display_data"
    }
   ],
   "source": [
    "# Plot matriz de correlação\n",
    "\n",
    "plt.figure(figsize=(16,6))\n",
    "heatmap = sns.heatmap(variaveis_numericas.corr(),annot=True)\n",
    "heatmap.set_title(\"Matriz de Correlações\", fontdict={'fontsize': 12}, pad=12)"
   ]
  },
  {
   "cell_type": "markdown",
   "metadata": {
    "id": "XrRdrDrXJ1OQ"
   },
   "source": [
    "### Calcule o KMO do dataset. Calcule o Bartlett Sphericity do Dataset."
   ]
  },
  {
   "cell_type": "code",
   "execution_count": 468,
   "metadata": {
    "colab": {
     "base_uri": "https://localhost:8080/"
    },
    "executionInfo": {
     "elapsed": 19,
     "status": "ok",
     "timestamp": 1718108436680,
     "user": {
      "displayName": "Renato Noronha Hack",
      "userId": "16810341051324566567"
     },
     "user_tz": 180
    },
    "id": "H122min1H7ps",
    "outputId": "251a667b-4e4f-4a0a-b1ea-69759301b88c"
   },
   "outputs": [
    {
     "name": "stdout",
     "output_type": "stream",
     "text": [
      "[0.83869572 0.73831119 0.9363587  0.74596746 0.75603752 0.89113916]\n",
      "0.8001757812033752\n"
     ]
    }
   ],
   "source": [
    "# Calcular KMO\n",
    "\n",
    "from factor_analyzer.factor_analyzer import calculate_kmo\n",
    "\n",
    "kmo_variaveis, kmo = calculate_kmo(variaveis_numericas)\n",
    "print(kmo_variaveis)\n",
    "print(kmo)"
   ]
  },
  {
   "cell_type": "code",
   "execution_count": 469,
   "metadata": {
    "colab": {
     "base_uri": "https://localhost:8080/"
    },
    "executionInfo": {
     "elapsed": 17,
     "status": "ok",
     "timestamp": 1718108436681,
     "user": {
      "displayName": "Renato Noronha Hack",
      "userId": "16810341051324566567"
     },
     "user_tz": 180
    },
    "id": "tkHN3s3AJ-7t",
    "outputId": "1308ce13-4f5c-4419-d378-1028d2743c01"
   },
   "outputs": [
    {
     "name": "stdout",
     "output_type": "stream",
     "text": [
      "0.0\n",
      "True\n"
     ]
    }
   ],
   "source": [
    "# Calcular teste de esfericidade\n",
    "\n",
    "from factor_analyzer.factor_analyzer import calculate_bartlett_sphericity\n",
    "\n",
    "qui_quadrado, pvalor =  calculate_bartlett_sphericity(variaveis_numericas)\n",
    "print(pvalor)\n",
    "print(pvalor < 0.05)"
   ]
  },
  {
   "cell_type": "markdown",
   "metadata": {
    "id": "iaowPqzqKTsu"
   },
   "source": [
    "### Normalize as colunas."
   ]
  },
  {
   "cell_type": "code",
   "execution_count": 470,
   "metadata": {
    "colab": {
     "base_uri": "https://localhost:8080/"
    },
    "executionInfo": {
     "elapsed": 33,
     "status": "ok",
     "timestamp": 1718108436698,
     "user": {
      "displayName": "Renato Noronha Hack",
      "userId": "16810341051324566567"
     },
     "user_tz": 180
    },
    "id": "S5KqyMTlKL8M",
    "outputId": "4cb320c5-c2dc-402a-b6c5-def884c559f1"
   },
   "outputs": [
    {
     "data": {
      "text/plain": [
       "array([[ 2.41906505,  2.47985046,  1.32904488,  3.26073888,  3.24417123,\n",
       "         4.06833526],\n",
       "       [ 2.52780229,  1.12055125,  0.95578462,  3.28306314,  2.33599195,\n",
       "         3.19678921],\n",
       "       [ 2.3740566 ,  2.40248465,  0.86715661,  3.1104585 ,  3.07123852,\n",
       "         2.91555082],\n",
       "       ...,\n",
       "       [-0.98803488, -1.74018436,  0.32823015, -1.82102469, -2.2648092 ,\n",
       "        -1.78493873],\n",
       "       [-1.66316164, -1.07043038, -1.98155207, -2.38838755, -1.9534173 ,\n",
       "        -1.76296698],\n",
       "       [-1.4966702 , -1.71589509, -1.98155207, -2.40472238, -2.49425586,\n",
       "        -1.93874097]])"
      ]
     },
     "execution_count": 470,
     "metadata": {},
     "output_type": "execute_result"
    }
   ],
   "source": [
    "# Normalizar colunas\n",
    "\n",
    "from sklearn.preprocessing import StandardScaler\n",
    "\n",
    "colunas_numericas = variaveis_numericas.columns\n",
    "colunas_numericas\n",
    "\n",
    "padronizar = StandardScaler()\n",
    "variaveis_numericas =  padronizar.fit_transform(variaveis_numericas)\n",
    "\n",
    "# np array\n",
    "variaveis_numericas"
   ]
  },
  {
   "cell_type": "code",
   "execution_count": 471,
   "metadata": {
    "colab": {
     "base_uri": "https://localhost:8080/",
     "height": 0
    },
    "executionInfo": {
     "elapsed": 34,
     "status": "ok",
     "timestamp": 1718108436699,
     "user": {
      "displayName": "Renato Noronha Hack",
      "userId": "16810341051324566567"
     },
     "user_tz": 180
    },
    "id": "VydUXB7CKiY1",
    "outputId": "bcf7cb9a-261c-4139-9fe2-4e2d677c77f6"
   },
   "outputs": [
    {
     "data": {
      "text/html": [
       "<div>\n",
       "<style scoped>\n",
       "    .dataframe tbody tr th:only-of-type {\n",
       "        vertical-align: middle;\n",
       "    }\n",
       "\n",
       "    .dataframe tbody tr th {\n",
       "        vertical-align: top;\n",
       "    }\n",
       "\n",
       "    .dataframe thead th {\n",
       "        text-align: right;\n",
       "    }\n",
       "</style>\n",
       "<table border=\"1\" class=\"dataframe\">\n",
       "  <thead>\n",
       "    <tr style=\"text-align: right;\">\n",
       "      <th></th>\n",
       "      <th>hardraw</th>\n",
       "      <th>clayraw</th>\n",
       "      <th>grassraw</th>\n",
       "      <th>hard-court-elo-rating</th>\n",
       "      <th>clay-court-elo-rating</th>\n",
       "      <th>grass-court-elo-rating</th>\n",
       "    </tr>\n",
       "  </thead>\n",
       "  <tbody>\n",
       "    <tr>\n",
       "      <th>0</th>\n",
       "      <td>2.419065</td>\n",
       "      <td>2.479850</td>\n",
       "      <td>1.329045</td>\n",
       "      <td>3.260739</td>\n",
       "      <td>3.244171</td>\n",
       "      <td>4.068335</td>\n",
       "    </tr>\n",
       "    <tr>\n",
       "      <th>1</th>\n",
       "      <td>2.527802</td>\n",
       "      <td>1.120551</td>\n",
       "      <td>0.955785</td>\n",
       "      <td>3.283063</td>\n",
       "      <td>2.335992</td>\n",
       "      <td>3.196789</td>\n",
       "    </tr>\n",
       "    <tr>\n",
       "      <th>2</th>\n",
       "      <td>2.374057</td>\n",
       "      <td>2.402485</td>\n",
       "      <td>0.867157</td>\n",
       "      <td>3.110459</td>\n",
       "      <td>3.071239</td>\n",
       "      <td>2.915551</td>\n",
       "    </tr>\n",
       "    <tr>\n",
       "      <th>3</th>\n",
       "      <td>1.896091</td>\n",
       "      <td>1.280231</td>\n",
       "      <td>1.109179</td>\n",
       "      <td>2.515871</td>\n",
       "      <td>2.088461</td>\n",
       "      <td>3.075212</td>\n",
       "    </tr>\n",
       "    <tr>\n",
       "      <th>4</th>\n",
       "      <td>1.775006</td>\n",
       "      <td>1.661662</td>\n",
       "      <td>0.475148</td>\n",
       "      <td>2.396627</td>\n",
       "      <td>2.290216</td>\n",
       "      <td>1.663894</td>\n",
       "    </tr>\n",
       "    <tr>\n",
       "      <th>...</th>\n",
       "      <td>...</td>\n",
       "      <td>...</td>\n",
       "      <td>...</td>\n",
       "      <td>...</td>\n",
       "      <td>...</td>\n",
       "      <td>...</td>\n",
       "    </tr>\n",
       "    <tr>\n",
       "      <th>382</th>\n",
       "      <td>-1.477153</td>\n",
       "      <td>-0.998912</td>\n",
       "      <td>-1.981552</td>\n",
       "      <td>-1.992540</td>\n",
       "      <td>-1.629592</td>\n",
       "      <td>-1.401898</td>\n",
       "    </tr>\n",
       "    <tr>\n",
       "      <th>383</th>\n",
       "      <td>-1.184001</td>\n",
       "      <td>-1.401034</td>\n",
       "      <td>0.418222</td>\n",
       "      <td>-1.845527</td>\n",
       "      <td>-1.938159</td>\n",
       "      <td>-1.444377</td>\n",
       "    </tr>\n",
       "    <tr>\n",
       "      <th>384</th>\n",
       "      <td>-0.988035</td>\n",
       "      <td>-1.740184</td>\n",
       "      <td>0.328230</td>\n",
       "      <td>-1.821025</td>\n",
       "      <td>-2.264809</td>\n",
       "      <td>-1.784939</td>\n",
       "    </tr>\n",
       "    <tr>\n",
       "      <th>385</th>\n",
       "      <td>-1.663162</td>\n",
       "      <td>-1.070430</td>\n",
       "      <td>-1.981552</td>\n",
       "      <td>-2.388388</td>\n",
       "      <td>-1.953417</td>\n",
       "      <td>-1.762967</td>\n",
       "    </tr>\n",
       "    <tr>\n",
       "      <th>386</th>\n",
       "      <td>-1.496670</td>\n",
       "      <td>-1.715895</td>\n",
       "      <td>-1.981552</td>\n",
       "      <td>-2.404722</td>\n",
       "      <td>-2.494256</td>\n",
       "      <td>-1.938741</td>\n",
       "    </tr>\n",
       "  </tbody>\n",
       "</table>\n",
       "<p>387 rows × 6 columns</p>\n",
       "</div>"
      ],
      "text/plain": [
       "      hardraw   clayraw  grassraw  hard-court-elo-rating  \\\n",
       "0    2.419065  2.479850  1.329045               3.260739   \n",
       "1    2.527802  1.120551  0.955785               3.283063   \n",
       "2    2.374057  2.402485  0.867157               3.110459   \n",
       "3    1.896091  1.280231  1.109179               2.515871   \n",
       "4    1.775006  1.661662  0.475148               2.396627   \n",
       "..        ...       ...       ...                    ...   \n",
       "382 -1.477153 -0.998912 -1.981552              -1.992540   \n",
       "383 -1.184001 -1.401034  0.418222              -1.845527   \n",
       "384 -0.988035 -1.740184  0.328230              -1.821025   \n",
       "385 -1.663162 -1.070430 -1.981552              -2.388388   \n",
       "386 -1.496670 -1.715895 -1.981552              -2.404722   \n",
       "\n",
       "     clay-court-elo-rating  grass-court-elo-rating  \n",
       "0                 3.244171                4.068335  \n",
       "1                 2.335992                3.196789  \n",
       "2                 3.071239                2.915551  \n",
       "3                 2.088461                3.075212  \n",
       "4                 2.290216                1.663894  \n",
       "..                     ...                     ...  \n",
       "382              -1.629592               -1.401898  \n",
       "383              -1.938159               -1.444377  \n",
       "384              -2.264809               -1.784939  \n",
       "385              -1.953417               -1.762967  \n",
       "386              -2.494256               -1.938741  \n",
       "\n",
       "[387 rows x 6 columns]"
      ]
     },
     "execution_count": 471,
     "metadata": {},
     "output_type": "execute_result"
    }
   ],
   "source": [
    "# Gera novo dataframe padronizado a partir do np array gerado acima\n",
    "\n",
    "dados_padronizados = pd.DataFrame(variaveis_numericas, columns=colunas_numericas)\n",
    "dados_padronizados"
   ]
  },
  {
   "cell_type": "markdown",
   "metadata": {
    "id": "AUqMhUdZMOFo"
   },
   "source": [
    "### Utilize o PCA com a mesma quantidade de dimensões do Dataset."
   ]
  },
  {
   "cell_type": "code",
   "execution_count": 472,
   "metadata": {
    "colab": {
     "base_uri": "https://localhost:8080/"
    },
    "executionInfo": {
     "elapsed": 33,
     "status": "ok",
     "timestamp": 1718108436699,
     "user": {
      "displayName": "Renato Noronha Hack",
      "userId": "16810341051324566567"
     },
     "user_tz": 180
    },
    "id": "wIPRdkBtMNe4",
    "outputId": "b4db860b-b381-4195-d3d4-afd1660e2a11"
   },
   "outputs": [
    {
     "data": {
      "text/plain": [
       "6"
      ]
     },
     "execution_count": 472,
     "metadata": {},
     "output_type": "execute_result"
    }
   ],
   "source": [
    "from sklearn.decomposition import PCA\n",
    "\n",
    "# Numero de colunas em dados_padronizados\n",
    "n_fatores = dados_padronizados.shape[1]\n",
    "n_fatores"
   ]
  },
  {
   "cell_type": "code",
   "execution_count": 473,
   "metadata": {
    "colab": {
     "base_uri": "https://localhost:8080/",
     "height": 75
    },
    "executionInfo": {
     "elapsed": 33,
     "status": "ok",
     "timestamp": 1718108436700,
     "user": {
      "displayName": "Renato Noronha Hack",
      "userId": "16810341051324566567"
     },
     "user_tz": 180
    },
    "id": "TGlAzbt3Ntb8",
    "outputId": "40d66856-c854-42d4-920c-177471eaf55e"
   },
   "outputs": [
    {
     "data": {
      "text/html": [
       "<style>#sk-container-id-13 {\n",
       "  /* Definition of color scheme common for light and dark mode */\n",
       "  --sklearn-color-text: black;\n",
       "  --sklearn-color-line: gray;\n",
       "  /* Definition of color scheme for unfitted estimators */\n",
       "  --sklearn-color-unfitted-level-0: #fff5e6;\n",
       "  --sklearn-color-unfitted-level-1: #f6e4d2;\n",
       "  --sklearn-color-unfitted-level-2: #ffe0b3;\n",
       "  --sklearn-color-unfitted-level-3: chocolate;\n",
       "  /* Definition of color scheme for fitted estimators */\n",
       "  --sklearn-color-fitted-level-0: #f0f8ff;\n",
       "  --sklearn-color-fitted-level-1: #d4ebff;\n",
       "  --sklearn-color-fitted-level-2: #b3dbfd;\n",
       "  --sklearn-color-fitted-level-3: cornflowerblue;\n",
       "\n",
       "  /* Specific color for light theme */\n",
       "  --sklearn-color-text-on-default-background: var(--sg-text-color, var(--theme-code-foreground, var(--jp-content-font-color1, black)));\n",
       "  --sklearn-color-background: var(--sg-background-color, var(--theme-background, var(--jp-layout-color0, white)));\n",
       "  --sklearn-color-border-box: var(--sg-text-color, var(--theme-code-foreground, var(--jp-content-font-color1, black)));\n",
       "  --sklearn-color-icon: #696969;\n",
       "\n",
       "  @media (prefers-color-scheme: dark) {\n",
       "    /* Redefinition of color scheme for dark theme */\n",
       "    --sklearn-color-text-on-default-background: var(--sg-text-color, var(--theme-code-foreground, var(--jp-content-font-color1, white)));\n",
       "    --sklearn-color-background: var(--sg-background-color, var(--theme-background, var(--jp-layout-color0, #111)));\n",
       "    --sklearn-color-border-box: var(--sg-text-color, var(--theme-code-foreground, var(--jp-content-font-color1, white)));\n",
       "    --sklearn-color-icon: #878787;\n",
       "  }\n",
       "}\n",
       "\n",
       "#sk-container-id-13 {\n",
       "  color: var(--sklearn-color-text);\n",
       "}\n",
       "\n",
       "#sk-container-id-13 pre {\n",
       "  padding: 0;\n",
       "}\n",
       "\n",
       "#sk-container-id-13 input.sk-hidden--visually {\n",
       "  border: 0;\n",
       "  clip: rect(1px 1px 1px 1px);\n",
       "  clip: rect(1px, 1px, 1px, 1px);\n",
       "  height: 1px;\n",
       "  margin: -1px;\n",
       "  overflow: hidden;\n",
       "  padding: 0;\n",
       "  position: absolute;\n",
       "  width: 1px;\n",
       "}\n",
       "\n",
       "#sk-container-id-13 div.sk-dashed-wrapped {\n",
       "  border: 1px dashed var(--sklearn-color-line);\n",
       "  margin: 0 0.4em 0.5em 0.4em;\n",
       "  box-sizing: border-box;\n",
       "  padding-bottom: 0.4em;\n",
       "  background-color: var(--sklearn-color-background);\n",
       "}\n",
       "\n",
       "#sk-container-id-13 div.sk-container {\n",
       "  /* jupyter's `normalize.less` sets `[hidden] { display: none; }`\n",
       "     but bootstrap.min.css set `[hidden] { display: none !important; }`\n",
       "     so we also need the `!important` here to be able to override the\n",
       "     default hidden behavior on the sphinx rendered scikit-learn.org.\n",
       "     See: https://github.com/scikit-learn/scikit-learn/issues/21755 */\n",
       "  display: inline-block !important;\n",
       "  position: relative;\n",
       "}\n",
       "\n",
       "#sk-container-id-13 div.sk-text-repr-fallback {\n",
       "  display: none;\n",
       "}\n",
       "\n",
       "div.sk-parallel-item,\n",
       "div.sk-serial,\n",
       "div.sk-item {\n",
       "  /* draw centered vertical line to link estimators */\n",
       "  background-image: linear-gradient(var(--sklearn-color-text-on-default-background), var(--sklearn-color-text-on-default-background));\n",
       "  background-size: 2px 100%;\n",
       "  background-repeat: no-repeat;\n",
       "  background-position: center center;\n",
       "}\n",
       "\n",
       "/* Parallel-specific style estimator block */\n",
       "\n",
       "#sk-container-id-13 div.sk-parallel-item::after {\n",
       "  content: \"\";\n",
       "  width: 100%;\n",
       "  border-bottom: 2px solid var(--sklearn-color-text-on-default-background);\n",
       "  flex-grow: 1;\n",
       "}\n",
       "\n",
       "#sk-container-id-13 div.sk-parallel {\n",
       "  display: flex;\n",
       "  align-items: stretch;\n",
       "  justify-content: center;\n",
       "  background-color: var(--sklearn-color-background);\n",
       "  position: relative;\n",
       "}\n",
       "\n",
       "#sk-container-id-13 div.sk-parallel-item {\n",
       "  display: flex;\n",
       "  flex-direction: column;\n",
       "}\n",
       "\n",
       "#sk-container-id-13 div.sk-parallel-item:first-child::after {\n",
       "  align-self: flex-end;\n",
       "  width: 50%;\n",
       "}\n",
       "\n",
       "#sk-container-id-13 div.sk-parallel-item:last-child::after {\n",
       "  align-self: flex-start;\n",
       "  width: 50%;\n",
       "}\n",
       "\n",
       "#sk-container-id-13 div.sk-parallel-item:only-child::after {\n",
       "  width: 0;\n",
       "}\n",
       "\n",
       "/* Serial-specific style estimator block */\n",
       "\n",
       "#sk-container-id-13 div.sk-serial {\n",
       "  display: flex;\n",
       "  flex-direction: column;\n",
       "  align-items: center;\n",
       "  background-color: var(--sklearn-color-background);\n",
       "  padding-right: 1em;\n",
       "  padding-left: 1em;\n",
       "}\n",
       "\n",
       "\n",
       "/* Toggleable style: style used for estimator/Pipeline/ColumnTransformer box that is\n",
       "clickable and can be expanded/collapsed.\n",
       "- Pipeline and ColumnTransformer use this feature and define the default style\n",
       "- Estimators will overwrite some part of the style using the `sk-estimator` class\n",
       "*/\n",
       "\n",
       "/* Pipeline and ColumnTransformer style (default) */\n",
       "\n",
       "#sk-container-id-13 div.sk-toggleable {\n",
       "  /* Default theme specific background. It is overwritten whether we have a\n",
       "  specific estimator or a Pipeline/ColumnTransformer */\n",
       "  background-color: var(--sklearn-color-background);\n",
       "}\n",
       "\n",
       "/* Toggleable label */\n",
       "#sk-container-id-13 label.sk-toggleable__label {\n",
       "  cursor: pointer;\n",
       "  display: block;\n",
       "  width: 100%;\n",
       "  margin-bottom: 0;\n",
       "  padding: 0.5em;\n",
       "  box-sizing: border-box;\n",
       "  text-align: center;\n",
       "}\n",
       "\n",
       "#sk-container-id-13 label.sk-toggleable__label-arrow:before {\n",
       "  /* Arrow on the left of the label */\n",
       "  content: \"▸\";\n",
       "  float: left;\n",
       "  margin-right: 0.25em;\n",
       "  color: var(--sklearn-color-icon);\n",
       "}\n",
       "\n",
       "#sk-container-id-13 label.sk-toggleable__label-arrow:hover:before {\n",
       "  color: var(--sklearn-color-text);\n",
       "}\n",
       "\n",
       "/* Toggleable content - dropdown */\n",
       "\n",
       "#sk-container-id-13 div.sk-toggleable__content {\n",
       "  max-height: 0;\n",
       "  max-width: 0;\n",
       "  overflow: hidden;\n",
       "  text-align: left;\n",
       "  /* unfitted */\n",
       "  background-color: var(--sklearn-color-unfitted-level-0);\n",
       "}\n",
       "\n",
       "#sk-container-id-13 div.sk-toggleable__content.fitted {\n",
       "  /* fitted */\n",
       "  background-color: var(--sklearn-color-fitted-level-0);\n",
       "}\n",
       "\n",
       "#sk-container-id-13 div.sk-toggleable__content pre {\n",
       "  margin: 0.2em;\n",
       "  border-radius: 0.25em;\n",
       "  color: var(--sklearn-color-text);\n",
       "  /* unfitted */\n",
       "  background-color: var(--sklearn-color-unfitted-level-0);\n",
       "}\n",
       "\n",
       "#sk-container-id-13 div.sk-toggleable__content.fitted pre {\n",
       "  /* unfitted */\n",
       "  background-color: var(--sklearn-color-fitted-level-0);\n",
       "}\n",
       "\n",
       "#sk-container-id-13 input.sk-toggleable__control:checked~div.sk-toggleable__content {\n",
       "  /* Expand drop-down */\n",
       "  max-height: 200px;\n",
       "  max-width: 100%;\n",
       "  overflow: auto;\n",
       "}\n",
       "\n",
       "#sk-container-id-13 input.sk-toggleable__control:checked~label.sk-toggleable__label-arrow:before {\n",
       "  content: \"▾\";\n",
       "}\n",
       "\n",
       "/* Pipeline/ColumnTransformer-specific style */\n",
       "\n",
       "#sk-container-id-13 div.sk-label input.sk-toggleable__control:checked~label.sk-toggleable__label {\n",
       "  color: var(--sklearn-color-text);\n",
       "  background-color: var(--sklearn-color-unfitted-level-2);\n",
       "}\n",
       "\n",
       "#sk-container-id-13 div.sk-label.fitted input.sk-toggleable__control:checked~label.sk-toggleable__label {\n",
       "  background-color: var(--sklearn-color-fitted-level-2);\n",
       "}\n",
       "\n",
       "/* Estimator-specific style */\n",
       "\n",
       "/* Colorize estimator box */\n",
       "#sk-container-id-13 div.sk-estimator input.sk-toggleable__control:checked~label.sk-toggleable__label {\n",
       "  /* unfitted */\n",
       "  background-color: var(--sklearn-color-unfitted-level-2);\n",
       "}\n",
       "\n",
       "#sk-container-id-13 div.sk-estimator.fitted input.sk-toggleable__control:checked~label.sk-toggleable__label {\n",
       "  /* fitted */\n",
       "  background-color: var(--sklearn-color-fitted-level-2);\n",
       "}\n",
       "\n",
       "#sk-container-id-13 div.sk-label label.sk-toggleable__label,\n",
       "#sk-container-id-13 div.sk-label label {\n",
       "  /* The background is the default theme color */\n",
       "  color: var(--sklearn-color-text-on-default-background);\n",
       "}\n",
       "\n",
       "/* On hover, darken the color of the background */\n",
       "#sk-container-id-13 div.sk-label:hover label.sk-toggleable__label {\n",
       "  color: var(--sklearn-color-text);\n",
       "  background-color: var(--sklearn-color-unfitted-level-2);\n",
       "}\n",
       "\n",
       "/* Label box, darken color on hover, fitted */\n",
       "#sk-container-id-13 div.sk-label.fitted:hover label.sk-toggleable__label.fitted {\n",
       "  color: var(--sklearn-color-text);\n",
       "  background-color: var(--sklearn-color-fitted-level-2);\n",
       "}\n",
       "\n",
       "/* Estimator label */\n",
       "\n",
       "#sk-container-id-13 div.sk-label label {\n",
       "  font-family: monospace;\n",
       "  font-weight: bold;\n",
       "  display: inline-block;\n",
       "  line-height: 1.2em;\n",
       "}\n",
       "\n",
       "#sk-container-id-13 div.sk-label-container {\n",
       "  text-align: center;\n",
       "}\n",
       "\n",
       "/* Estimator-specific */\n",
       "#sk-container-id-13 div.sk-estimator {\n",
       "  font-family: monospace;\n",
       "  border: 1px dotted var(--sklearn-color-border-box);\n",
       "  border-radius: 0.25em;\n",
       "  box-sizing: border-box;\n",
       "  margin-bottom: 0.5em;\n",
       "  /* unfitted */\n",
       "  background-color: var(--sklearn-color-unfitted-level-0);\n",
       "}\n",
       "\n",
       "#sk-container-id-13 div.sk-estimator.fitted {\n",
       "  /* fitted */\n",
       "  background-color: var(--sklearn-color-fitted-level-0);\n",
       "}\n",
       "\n",
       "/* on hover */\n",
       "#sk-container-id-13 div.sk-estimator:hover {\n",
       "  /* unfitted */\n",
       "  background-color: var(--sklearn-color-unfitted-level-2);\n",
       "}\n",
       "\n",
       "#sk-container-id-13 div.sk-estimator.fitted:hover {\n",
       "  /* fitted */\n",
       "  background-color: var(--sklearn-color-fitted-level-2);\n",
       "}\n",
       "\n",
       "/* Specification for estimator info (e.g. \"i\" and \"?\") */\n",
       "\n",
       "/* Common style for \"i\" and \"?\" */\n",
       "\n",
       ".sk-estimator-doc-link,\n",
       "a:link.sk-estimator-doc-link,\n",
       "a:visited.sk-estimator-doc-link {\n",
       "  float: right;\n",
       "  font-size: smaller;\n",
       "  line-height: 1em;\n",
       "  font-family: monospace;\n",
       "  background-color: var(--sklearn-color-background);\n",
       "  border-radius: 1em;\n",
       "  height: 1em;\n",
       "  width: 1em;\n",
       "  text-decoration: none !important;\n",
       "  margin-left: 1ex;\n",
       "  /* unfitted */\n",
       "  border: var(--sklearn-color-unfitted-level-1) 1pt solid;\n",
       "  color: var(--sklearn-color-unfitted-level-1);\n",
       "}\n",
       "\n",
       ".sk-estimator-doc-link.fitted,\n",
       "a:link.sk-estimator-doc-link.fitted,\n",
       "a:visited.sk-estimator-doc-link.fitted {\n",
       "  /* fitted */\n",
       "  border: var(--sklearn-color-fitted-level-1) 1pt solid;\n",
       "  color: var(--sklearn-color-fitted-level-1);\n",
       "}\n",
       "\n",
       "/* On hover */\n",
       "div.sk-estimator:hover .sk-estimator-doc-link:hover,\n",
       ".sk-estimator-doc-link:hover,\n",
       "div.sk-label-container:hover .sk-estimator-doc-link:hover,\n",
       ".sk-estimator-doc-link:hover {\n",
       "  /* unfitted */\n",
       "  background-color: var(--sklearn-color-unfitted-level-3);\n",
       "  color: var(--sklearn-color-background);\n",
       "  text-decoration: none;\n",
       "}\n",
       "\n",
       "div.sk-estimator.fitted:hover .sk-estimator-doc-link.fitted:hover,\n",
       ".sk-estimator-doc-link.fitted:hover,\n",
       "div.sk-label-container:hover .sk-estimator-doc-link.fitted:hover,\n",
       ".sk-estimator-doc-link.fitted:hover {\n",
       "  /* fitted */\n",
       "  background-color: var(--sklearn-color-fitted-level-3);\n",
       "  color: var(--sklearn-color-background);\n",
       "  text-decoration: none;\n",
       "}\n",
       "\n",
       "/* Span, style for the box shown on hovering the info icon */\n",
       ".sk-estimator-doc-link span {\n",
       "  display: none;\n",
       "  z-index: 9999;\n",
       "  position: relative;\n",
       "  font-weight: normal;\n",
       "  right: .2ex;\n",
       "  padding: .5ex;\n",
       "  margin: .5ex;\n",
       "  width: min-content;\n",
       "  min-width: 20ex;\n",
       "  max-width: 50ex;\n",
       "  color: var(--sklearn-color-text);\n",
       "  box-shadow: 2pt 2pt 4pt #999;\n",
       "  /* unfitted */\n",
       "  background: var(--sklearn-color-unfitted-level-0);\n",
       "  border: .5pt solid var(--sklearn-color-unfitted-level-3);\n",
       "}\n",
       "\n",
       ".sk-estimator-doc-link.fitted span {\n",
       "  /* fitted */\n",
       "  background: var(--sklearn-color-fitted-level-0);\n",
       "  border: var(--sklearn-color-fitted-level-3);\n",
       "}\n",
       "\n",
       ".sk-estimator-doc-link:hover span {\n",
       "  display: block;\n",
       "}\n",
       "\n",
       "/* \"?\"-specific style due to the `<a>` HTML tag */\n",
       "\n",
       "#sk-container-id-13 a.estimator_doc_link {\n",
       "  float: right;\n",
       "  font-size: 1rem;\n",
       "  line-height: 1em;\n",
       "  font-family: monospace;\n",
       "  background-color: var(--sklearn-color-background);\n",
       "  border-radius: 1rem;\n",
       "  height: 1rem;\n",
       "  width: 1rem;\n",
       "  text-decoration: none;\n",
       "  /* unfitted */\n",
       "  color: var(--sklearn-color-unfitted-level-1);\n",
       "  border: var(--sklearn-color-unfitted-level-1) 1pt solid;\n",
       "}\n",
       "\n",
       "#sk-container-id-13 a.estimator_doc_link.fitted {\n",
       "  /* fitted */\n",
       "  border: var(--sklearn-color-fitted-level-1) 1pt solid;\n",
       "  color: var(--sklearn-color-fitted-level-1);\n",
       "}\n",
       "\n",
       "/* On hover */\n",
       "#sk-container-id-13 a.estimator_doc_link:hover {\n",
       "  /* unfitted */\n",
       "  background-color: var(--sklearn-color-unfitted-level-3);\n",
       "  color: var(--sklearn-color-background);\n",
       "  text-decoration: none;\n",
       "}\n",
       "\n",
       "#sk-container-id-13 a.estimator_doc_link.fitted:hover {\n",
       "  /* fitted */\n",
       "  background-color: var(--sklearn-color-fitted-level-3);\n",
       "}\n",
       "</style><div id=\"sk-container-id-13\" class=\"sk-top-container\"><div class=\"sk-text-repr-fallback\"><pre>PCA(n_components=6)</pre><b>In a Jupyter environment, please rerun this cell to show the HTML representation or trust the notebook. <br />On GitHub, the HTML representation is unable to render, please try loading this page with nbviewer.org.</b></div><div class=\"sk-container\" hidden><div class=\"sk-item\"><div class=\"sk-estimator fitted sk-toggleable\"><input class=\"sk-toggleable__control sk-hidden--visually\" id=\"sk-estimator-id-13\" type=\"checkbox\" checked><label for=\"sk-estimator-id-13\" class=\"sk-toggleable__label fitted sk-toggleable__label-arrow fitted\">&nbsp;&nbsp;PCA<a class=\"sk-estimator-doc-link fitted\" rel=\"noreferrer\" target=\"_blank\" href=\"https://scikit-learn.org/1.4/modules/generated/sklearn.decomposition.PCA.html\">?<span>Documentation for PCA</span></a><span class=\"sk-estimator-doc-link fitted\">i<span>Fitted</span></span></label><div class=\"sk-toggleable__content fitted\"><pre>PCA(n_components=6)</pre></div> </div></div></div></div>"
      ],
      "text/plain": [
       "PCA(n_components=6)"
      ]
     },
     "execution_count": 473,
     "metadata": {},
     "output_type": "execute_result"
    }
   ],
   "source": [
    "# implementa pca passando como parametro o numero de componentes = numero de colunas\n",
    "pca = PCA(n_components=n_fatores)\n",
    "pca.fit(dados_padronizados)"
   ]
  },
  {
   "cell_type": "code",
   "execution_count": 474,
   "metadata": {
    "colab": {
     "base_uri": "https://localhost:8080/"
    },
    "executionInfo": {
     "elapsed": 33,
     "status": "ok",
     "timestamp": 1718108437121,
     "user": {
      "displayName": "Renato Noronha Hack",
      "userId": "16810341051324566567"
     },
     "user_tz": 180
    },
    "id": "gOlCqcAQNwAb",
    "outputId": "a63d3dfa-9f17-440c-b39c-164a7c660d32"
   },
   "outputs": [
    {
     "data": {
      "text/plain": [
       "array([0.72635854, 0.12448183, 0.08923894, 0.04096533, 0.01280561,\n",
       "       0.00614974])"
      ]
     },
     "execution_count": 474,
     "metadata": {},
     "output_type": "execute_result"
    }
   ],
   "source": [
    "# ratio da variancia de cada componente\n",
    "pca.explained_variance_ratio_"
   ]
  },
  {
   "cell_type": "markdown",
   "metadata": {
    "id": "0phXEUgiOC7V"
   },
   "source": [
    "### Imprima um Screenplot com a variância de cada fator."
   ]
  },
  {
   "cell_type": "code",
   "execution_count": 475,
   "metadata": {
    "colab": {
     "base_uri": "https://localhost:8080/"
    },
    "executionInfo": {
     "elapsed": 30,
     "status": "ok",
     "timestamp": 1718108437123,
     "user": {
      "displayName": "Renato Noronha Hack",
      "userId": "16810341051324566567"
     },
     "user_tz": 180
    },
    "id": "eNZ4c4SNNya7",
    "outputId": "c8f08f6a-8a3d-48df-fc32-d0082cac4a50"
   },
   "outputs": [
    {
     "data": {
      "text/plain": [
       "['F1', 'F2', 'F3', 'F4', 'F5', 'F6']"
      ]
     },
     "execution_count": 475,
     "metadata": {},
     "output_type": "execute_result"
    }
   ],
   "source": [
    "fatores = [f'F{i+1}' for i in range(n_fatores) ]\n",
    "fatores"
   ]
  },
  {
   "cell_type": "code",
   "execution_count": 476,
   "metadata": {
    "colab": {
     "base_uri": "https://localhost:8080/",
     "height": 566
    },
    "executionInfo": {
     "elapsed": 27,
     "status": "ok",
     "timestamp": 1718108437124,
     "user": {
      "displayName": "Renato Noronha Hack",
      "userId": "16810341051324566567"
     },
     "user_tz": 180
    },
    "id": "VFSytUDSN_R6",
    "outputId": "1b9bd8ab-d549-4de2-8034-7d010284c038"
   },
   "outputs": [
    {
     "data": {
      "text/html": [
       "<iframe\n",
       "    scrolling=\"no\"\n",
       "    width=\"100%\"\n",
       "    height=\"545px\"\n",
       "    src=\"iframe_figures/figure_476.html\"\n",
       "    frameborder=\"0\"\n",
       "    allowfullscreen\n",
       "></iframe>\n"
      ]
     },
     "metadata": {},
     "output_type": "display_data"
    }
   ],
   "source": [
    "# plot da variancia por fator\n",
    "fig = px.bar(x=fatores, y=pca.explained_variance_ratio_, text=np.around(pca.explained_variance_ratio_, decimals=2),\n",
    "            title= \"Scree Plot\")\n",
    "fig.update_layout(yaxis={'title': 'Procentagem de variância explicada','tickfont':{'size':15}},\n",
    "                 xaxis={'title': 'Fatores','tickfont':{'size':15}},\n",
    "                 title={'font':{'size': 25}})\n",
    "fig.show()"
   ]
  },
  {
   "cell_type": "markdown",
   "metadata": {
    "id": "8HplfOxdOg3o"
   },
   "source": [
    "### Imprima um Screenplot com a variância acumulada."
   ]
  },
  {
   "cell_type": "code",
   "execution_count": 477,
   "metadata": {
    "colab": {
     "base_uri": "https://localhost:8080/"
    },
    "executionInfo": {
     "elapsed": 25,
     "status": "ok",
     "timestamp": 1718108437124,
     "user": {
      "displayName": "Renato Noronha Hack",
      "userId": "16810341051324566567"
     },
     "user_tz": 180
    },
    "id": "6RJ0wa-kOGhZ",
    "outputId": "00e92942-a2a4-4f4f-8e50-4182f06538c1"
   },
   "outputs": [
    {
     "data": {
      "text/plain": [
       "[0.7263585432939907,\n",
       " 0.8508403721712869,\n",
       " 0.9400793109448958,\n",
       " 0.9810446430096911,\n",
       " 0.9938502578769344,\n",
       " 1.0000000000000002]"
      ]
     },
     "execution_count": 477,
     "metadata": {},
     "output_type": "execute_result"
    }
   ],
   "source": [
    "varianca_acumulada = [sum(pca.explained_variance_ratio_[0:i+1]) for i in range(n_fatores)]\n",
    "varianca_acumulada"
   ]
  },
  {
   "cell_type": "code",
   "execution_count": 478,
   "metadata": {
    "colab": {
     "base_uri": "https://localhost:8080/",
     "height": 566
    },
    "executionInfo": {
     "elapsed": 22,
     "status": "ok",
     "timestamp": 1718108437124,
     "user": {
      "displayName": "Renato Noronha Hack",
      "userId": "16810341051324566567"
     },
     "user_tz": 180
    },
    "id": "T_dFIM92Opkx",
    "outputId": "c54aa408-e467-426d-b078-ba11548e365c"
   },
   "outputs": [
    {
     "data": {
      "text/html": [
       "<iframe\n",
       "    scrolling=\"no\"\n",
       "    width=\"100%\"\n",
       "    height=\"545px\"\n",
       "    src=\"iframe_figures/figure_478.html\"\n",
       "    frameborder=\"0\"\n",
       "    allowfullscreen\n",
       "></iframe>\n"
      ]
     },
     "metadata": {},
     "output_type": "display_data"
    }
   ],
   "source": [
    "# plot da varianca acumulada por fator\n",
    "# idealmente, a variancia acumulada deve ser igual a 1\n",
    "fig = px.bar(x=fatores, y=varianca_acumulada, text=np.around(varianca_acumulada, decimals=2),\n",
    "            title= \"Scree Plot\")\n",
    "fig.update_layout(yaxis={'title': 'Procentagem de variância explicada','tickfont':{'size':15}},\n",
    "                 xaxis={'title': 'Fatores','tickfont':{'size':15}},\n",
    "                 title={'font':{'size': 25}})\n",
    "fig.show()"
   ]
  },
  {
   "cell_type": "markdown",
   "metadata": {},
   "source": [
    "### Calcule os autovalores."
   ]
  },
  {
   "cell_type": "code",
   "execution_count": 479,
   "metadata": {
    "executionInfo": {
     "elapsed": 21,
     "status": "ok",
     "timestamp": 1718108437125,
     "user": {
      "displayName": "Renato Noronha Hack",
      "userId": "16810341051324566567"
     },
     "user_tz": 180
    },
    "id": "EzLrM45zOteH"
   },
   "outputs": [
    {
     "name": "stdout",
     "output_type": "stream",
     "text": [
      "6.015544041450778\n",
      "6.000000000000002\n"
     ]
    }
   ],
   "source": [
    "print(sum(pca.explained_variance_))\n",
    "print(sum(pca.explained_variance_ratio_ * n_fatores))"
   ]
  },
  {
   "cell_type": "code",
   "execution_count": 480,
   "metadata": {},
   "outputs": [
    {
     "data": {
      "text/plain": [
       "array([4.35815126, 0.74689097, 0.53543363, 0.24579199, 0.07683369,\n",
       "       0.03689845])"
      ]
     },
     "execution_count": 480,
     "metadata": {},
     "output_type": "execute_result"
    }
   ],
   "source": [
    "# Por motivos de precisão, usaremos o produto de ratio * n_fatores\n",
    "autovalores = pca.explained_variance_ratio_ * n_fatores\n",
    "\n",
    "autovalores"
   ]
  },
  {
   "cell_type": "markdown",
   "metadata": {},
   "source": [
    "### Com o método de raízes latentes, defina quantos fatores serão utilizados para criar o ranking e imprima o Screenplot.\n",
    "\n",
    "http://www.leg.ufpr.br/lib/exe/fetch.php/disciplinas:ppgea2012:pca_teoria.pdf\n",
    "\n",
    "Seleção do número de componentes\n",
    "\n",
    "* Kaiser ou Método da Raiz Latente: autovalores maiores que 1 (Johnson = 0,7);\n",
    "\n"
   ]
  },
  {
   "cell_type": "code",
   "execution_count": 481,
   "metadata": {},
   "outputs": [
    {
     "data": {
      "text/plain": [
       "['Fator selecionado',\n",
       " 'Fator selecionado',\n",
       " 'Fator não selecionado',\n",
       " 'Fator não selecionado',\n",
       " 'Fator não selecionado',\n",
       " 'Fator não selecionado']"
      ]
     },
     "execution_count": 481,
     "metadata": {},
     "output_type": "execute_result"
    }
   ],
   "source": [
    "# Selecionamos apenas fatores que possuem autovalor > 1\n",
    "# O primeiro fator já é responsável por explicar 4.35/6 = 72,5% das variáveis originais;\n",
    "# se utilizarmos o fator de Johnson, teremos 2 variáveis explicando 5,1/6 = 85% das variáveis originais\n",
    "# Por esse motivo, usaremos um ponto de corte de 0,7 ao invés de 1\n",
    "\n",
    "fatores_selecionados = ['Fator selecionado' if autovalor > 0.7 else 'Fator não selecionado' for autovalor in autovalores]\n",
    "fatores_selecionados"
   ]
  },
  {
   "cell_type": "code",
   "execution_count": 482,
   "metadata": {},
   "outputs": [
    {
     "data": {
      "text/html": [
       "<iframe\n",
       "    scrolling=\"no\"\n",
       "    width=\"100%\"\n",
       "    height=\"545px\"\n",
       "    src=\"iframe_figures/figure_482.html\"\n",
       "    frameborder=\"0\"\n",
       "    allowfullscreen\n",
       "></iframe>\n"
      ]
     },
     "metadata": {},
     "output_type": "display_data"
    }
   ],
   "source": [
    "fig = px.bar(x = range(1,7), y = autovalores, text = np.around(autovalores, decimals = 2),\n",
    "             title = 'Scree Plot', color = fatores_selecionados)\n",
    "fig.update_layout(yaxis = {'title': 'Quantidade de variáveis explicadas', 'tickfont':{'size':15}},\n",
    "                  xaxis = {'title': 'Autovalor', 'tickfont': {'size': 15}},\n",
    "                  title = {'font':{'size':25}})\n",
    "fig.show()"
   ]
  },
  {
   "cell_type": "code",
   "execution_count": 483,
   "metadata": {},
   "outputs": [
    {
     "data": {
      "text/html": [
       "<div>\n",
       "<style scoped>\n",
       "    .dataframe tbody tr th:only-of-type {\n",
       "        vertical-align: middle;\n",
       "    }\n",
       "\n",
       "    .dataframe tbody tr th {\n",
       "        vertical-align: top;\n",
       "    }\n",
       "\n",
       "    .dataframe thead th {\n",
       "        text-align: right;\n",
       "    }\n",
       "</style>\n",
       "<table border=\"1\" class=\"dataframe\">\n",
       "  <thead>\n",
       "    <tr style=\"text-align: right;\">\n",
       "      <th></th>\n",
       "      <th>Fator</th>\n",
       "      <th>Autovalor</th>\n",
       "      <th>Variância explicada</th>\n",
       "      <th>Variância acumulada</th>\n",
       "    </tr>\n",
       "  </thead>\n",
       "  <tbody>\n",
       "    <tr>\n",
       "      <th>0</th>\n",
       "      <td>F1</td>\n",
       "      <td>4.358151</td>\n",
       "      <td>0.726359</td>\n",
       "      <td>0.726359</td>\n",
       "    </tr>\n",
       "    <tr>\n",
       "      <th>1</th>\n",
       "      <td>F2</td>\n",
       "      <td>0.746891</td>\n",
       "      <td>0.124482</td>\n",
       "      <td>0.850840</td>\n",
       "    </tr>\n",
       "    <tr>\n",
       "      <th>2</th>\n",
       "      <td>F3</td>\n",
       "      <td>0.535434</td>\n",
       "      <td>0.089239</td>\n",
       "      <td>0.940079</td>\n",
       "    </tr>\n",
       "    <tr>\n",
       "      <th>3</th>\n",
       "      <td>F4</td>\n",
       "      <td>0.245792</td>\n",
       "      <td>0.040965</td>\n",
       "      <td>0.981045</td>\n",
       "    </tr>\n",
       "    <tr>\n",
       "      <th>4</th>\n",
       "      <td>F5</td>\n",
       "      <td>0.076834</td>\n",
       "      <td>0.012806</td>\n",
       "      <td>0.993850</td>\n",
       "    </tr>\n",
       "    <tr>\n",
       "      <th>5</th>\n",
       "      <td>F6</td>\n",
       "      <td>0.036898</td>\n",
       "      <td>0.006150</td>\n",
       "      <td>1.000000</td>\n",
       "    </tr>\n",
       "  </tbody>\n",
       "</table>\n",
       "</div>"
      ],
      "text/plain": [
       "  Fator  Autovalor  Variância explicada  Variância acumulada\n",
       "0    F1   4.358151             0.726359             0.726359\n",
       "1    F2   0.746891             0.124482             0.850840\n",
       "2    F3   0.535434             0.089239             0.940079\n",
       "3    F4   0.245792             0.040965             0.981045\n",
       "4    F5   0.076834             0.012806             0.993850\n",
       "5    F6   0.036898             0.006150             1.000000"
      ]
     },
     "execution_count": 483,
     "metadata": {},
     "output_type": "execute_result"
    }
   ],
   "source": [
    "resumo = pd.DataFrame({'Fator': fatores, 'Autovalor': autovalores, 'Variância explicada': pca.explained_variance_ratio_, 'Variância acumulada': varianca_acumulada})\n",
    "resumo"
   ]
  },
  {
   "cell_type": "markdown",
   "metadata": {},
   "source": [
    "### Calcule a carga fatorial dos fatores."
   ]
  },
  {
   "cell_type": "code",
   "execution_count": 484,
   "metadata": {},
   "outputs": [
    {
     "data": {
      "text/html": [
       "<div>\n",
       "<style scoped>\n",
       "    .dataframe tbody tr th:only-of-type {\n",
       "        vertical-align: middle;\n",
       "    }\n",
       "\n",
       "    .dataframe tbody tr th {\n",
       "        vertical-align: top;\n",
       "    }\n",
       "\n",
       "    .dataframe thead th {\n",
       "        text-align: right;\n",
       "    }\n",
       "</style>\n",
       "<table border=\"1\" class=\"dataframe\">\n",
       "  <thead>\n",
       "    <tr style=\"text-align: right;\">\n",
       "      <th></th>\n",
       "      <th>hardraw</th>\n",
       "      <th>clayraw</th>\n",
       "      <th>grassraw</th>\n",
       "      <th>hard-court-elo-rating</th>\n",
       "      <th>clay-court-elo-rating</th>\n",
       "      <th>grass-court-elo-rating</th>\n",
       "    </tr>\n",
       "  </thead>\n",
       "  <tbody>\n",
       "    <tr>\n",
       "      <th>Autovetor 1</th>\n",
       "      <td>0.393272</td>\n",
       "      <td>0.373482</td>\n",
       "      <td>0.303314</td>\n",
       "      <td>0.459790</td>\n",
       "      <td>0.452304</td>\n",
       "      <td>0.444817</td>\n",
       "    </tr>\n",
       "    <tr>\n",
       "      <th>Autovetor 2</th>\n",
       "      <td>0.335684</td>\n",
       "      <td>-0.482423</td>\n",
       "      <td>0.748543</td>\n",
       "      <td>-0.010767</td>\n",
       "      <td>-0.292080</td>\n",
       "      <td>-0.094023</td>\n",
       "    </tr>\n",
       "    <tr>\n",
       "      <th>Autovetor 3</th>\n",
       "      <td>0.492803</td>\n",
       "      <td>-0.553360</td>\n",
       "      <td>-0.573641</td>\n",
       "      <td>0.265367</td>\n",
       "      <td>-0.069110</td>\n",
       "      <td>0.216052</td>\n",
       "    </tr>\n",
       "    <tr>\n",
       "      <th>Autovetor 4</th>\n",
       "      <td>-0.667360</td>\n",
       "      <td>-0.432762</td>\n",
       "      <td>0.132195</td>\n",
       "      <td>0.206303</td>\n",
       "      <td>0.103678</td>\n",
       "      <td>0.544575</td>\n",
       "    </tr>\n",
       "    <tr>\n",
       "      <th>Autovetor 5</th>\n",
       "      <td>-0.127865</td>\n",
       "      <td>-0.288281</td>\n",
       "      <td>0.025839</td>\n",
       "      <td>0.370405</td>\n",
       "      <td>0.589250</td>\n",
       "      <td>-0.644563</td>\n",
       "    </tr>\n",
       "    <tr>\n",
       "      <th>Autovetor 6</th>\n",
       "      <td>0.167567</td>\n",
       "      <td>-0.226236</td>\n",
       "      <td>0.021834</td>\n",
       "      <td>-0.733687</td>\n",
       "      <td>0.589380</td>\n",
       "      <td>0.186000</td>\n",
       "    </tr>\n",
       "  </tbody>\n",
       "</table>\n",
       "</div>"
      ],
      "text/plain": [
       "              hardraw   clayraw  grassraw  hard-court-elo-rating  \\\n",
       "Autovetor 1  0.393272  0.373482  0.303314               0.459790   \n",
       "Autovetor 2  0.335684 -0.482423  0.748543              -0.010767   \n",
       "Autovetor 3  0.492803 -0.553360 -0.573641               0.265367   \n",
       "Autovetor 4 -0.667360 -0.432762  0.132195               0.206303   \n",
       "Autovetor 5 -0.127865 -0.288281  0.025839               0.370405   \n",
       "Autovetor 6  0.167567 -0.226236  0.021834              -0.733687   \n",
       "\n",
       "             clay-court-elo-rating  grass-court-elo-rating  \n",
       "Autovetor 1               0.452304                0.444817  \n",
       "Autovetor 2              -0.292080               -0.094023  \n",
       "Autovetor 3              -0.069110                0.216052  \n",
       "Autovetor 4               0.103678                0.544575  \n",
       "Autovetor 5               0.589250               -0.644563  \n",
       "Autovetor 6               0.589380                0.186000  "
      ]
     },
     "execution_count": 484,
     "metadata": {},
     "output_type": "execute_result"
    }
   ],
   "source": [
    "pd.DataFrame(pca.components_, columns = colunas_numericas, index = [f'Autovetor {i+1}' for i in range(n_fatores)])"
   ]
  },
  {
   "cell_type": "code",
   "execution_count": 485,
   "metadata": {},
   "outputs": [
    {
     "data": {
      "text/plain": [
       "array([2.08761856, 0.86422854, 0.73173331, 0.49577413, 0.27718891,\n",
       "       0.1920897 ])"
      ]
     },
     "execution_count": 485,
     "metadata": {},
     "output_type": "execute_result"
    }
   ],
   "source": [
    "raiz_autovalores = np.sqrt(autovalores)\n",
    "raiz_autovalores"
   ]
  },
  {
   "cell_type": "code",
   "execution_count": 486,
   "metadata": {},
   "outputs": [
    {
     "data": {
      "text/html": [
       "<div>\n",
       "<style scoped>\n",
       "    .dataframe tbody tr th:only-of-type {\n",
       "        vertical-align: middle;\n",
       "    }\n",
       "\n",
       "    .dataframe tbody tr th {\n",
       "        vertical-align: top;\n",
       "    }\n",
       "\n",
       "    .dataframe thead th {\n",
       "        text-align: right;\n",
       "    }\n",
       "</style>\n",
       "<table border=\"1\" class=\"dataframe\">\n",
       "  <thead>\n",
       "    <tr style=\"text-align: right;\">\n",
       "      <th></th>\n",
       "      <th>F1</th>\n",
       "      <th>F2</th>\n",
       "      <th>F3</th>\n",
       "      <th>F4</th>\n",
       "      <th>F5</th>\n",
       "      <th>F6</th>\n",
       "    </tr>\n",
       "  </thead>\n",
       "  <tbody>\n",
       "    <tr>\n",
       "      <th>hardraw</th>\n",
       "      <td>0.821002</td>\n",
       "      <td>0.290108</td>\n",
       "      <td>0.360601</td>\n",
       "      <td>-0.330860</td>\n",
       "      <td>-0.035443</td>\n",
       "      <td>0.032188</td>\n",
       "    </tr>\n",
       "    <tr>\n",
       "      <th>clayraw</th>\n",
       "      <td>0.779689</td>\n",
       "      <td>-0.416924</td>\n",
       "      <td>-0.404912</td>\n",
       "      <td>-0.214552</td>\n",
       "      <td>-0.079908</td>\n",
       "      <td>-0.043458</td>\n",
       "    </tr>\n",
       "    <tr>\n",
       "      <th>grassraw</th>\n",
       "      <td>0.633205</td>\n",
       "      <td>0.646912</td>\n",
       "      <td>-0.419752</td>\n",
       "      <td>0.065539</td>\n",
       "      <td>0.007162</td>\n",
       "      <td>0.004194</td>\n",
       "    </tr>\n",
       "    <tr>\n",
       "      <th>hard-court-elo-rating</th>\n",
       "      <td>0.959866</td>\n",
       "      <td>-0.009305</td>\n",
       "      <td>0.194178</td>\n",
       "      <td>0.102279</td>\n",
       "      <td>0.102672</td>\n",
       "      <td>-0.140934</td>\n",
       "    </tr>\n",
       "    <tr>\n",
       "      <th>clay-court-elo-rating</th>\n",
       "      <td>0.944239</td>\n",
       "      <td>-0.252424</td>\n",
       "      <td>-0.050570</td>\n",
       "      <td>0.051401</td>\n",
       "      <td>0.163334</td>\n",
       "      <td>0.113214</td>\n",
       "    </tr>\n",
       "    <tr>\n",
       "      <th>grass-court-elo-rating</th>\n",
       "      <td>0.928608</td>\n",
       "      <td>-0.081257</td>\n",
       "      <td>0.158092</td>\n",
       "      <td>0.269986</td>\n",
       "      <td>-0.178666</td>\n",
       "      <td>0.035729</td>\n",
       "    </tr>\n",
       "  </tbody>\n",
       "</table>\n",
       "</div>"
      ],
      "text/plain": [
       "                              F1        F2        F3        F4        F5  \\\n",
       "hardraw                 0.821002  0.290108  0.360601 -0.330860 -0.035443   \n",
       "clayraw                 0.779689 -0.416924 -0.404912 -0.214552 -0.079908   \n",
       "grassraw                0.633205  0.646912 -0.419752  0.065539  0.007162   \n",
       "hard-court-elo-rating   0.959866 -0.009305  0.194178  0.102279  0.102672   \n",
       "clay-court-elo-rating   0.944239 -0.252424 -0.050570  0.051401  0.163334   \n",
       "grass-court-elo-rating  0.928608 -0.081257  0.158092  0.269986 -0.178666   \n",
       "\n",
       "                              F6  \n",
       "hardraw                 0.032188  \n",
       "clayraw                -0.043458  \n",
       "grassraw                0.004194  \n",
       "hard-court-elo-rating  -0.140934  \n",
       "clay-court-elo-rating   0.113214  \n",
       "grass-court-elo-rating  0.035729  "
      ]
     },
     "execution_count": 486,
     "metadata": {},
     "output_type": "execute_result"
    }
   ],
   "source": [
    "# As cargas fatoriais se dão pelo produto matricial da matriz transposta dos autovetores com a raiz dos autovalores\n",
    "\n",
    "cargas_fatorias = pd.DataFrame(pca.components_.T * raiz_autovalores, columns=fatores, index=colunas_numericas)\n",
    "cargas_fatorias"
   ]
  },
  {
   "cell_type": "code",
   "execution_count": 487,
   "metadata": {},
   "outputs": [
    {
     "data": {
      "text/html": [
       "<div>\n",
       "<style scoped>\n",
       "    .dataframe tbody tr th:only-of-type {\n",
       "        vertical-align: middle;\n",
       "    }\n",
       "\n",
       "    .dataframe tbody tr th {\n",
       "        vertical-align: top;\n",
       "    }\n",
       "\n",
       "    .dataframe thead th {\n",
       "        text-align: right;\n",
       "    }\n",
       "</style>\n",
       "<table border=\"1\" class=\"dataframe\">\n",
       "  <thead>\n",
       "    <tr style=\"text-align: right;\">\n",
       "      <th></th>\n",
       "      <th>F1</th>\n",
       "      <th>F2</th>\n",
       "    </tr>\n",
       "  </thead>\n",
       "  <tbody>\n",
       "    <tr>\n",
       "      <th>hardraw</th>\n",
       "      <td>0.821002</td>\n",
       "      <td>0.290108</td>\n",
       "    </tr>\n",
       "    <tr>\n",
       "      <th>clayraw</th>\n",
       "      <td>0.779689</td>\n",
       "      <td>-0.416924</td>\n",
       "    </tr>\n",
       "    <tr>\n",
       "      <th>grassraw</th>\n",
       "      <td>0.633205</td>\n",
       "      <td>0.646912</td>\n",
       "    </tr>\n",
       "    <tr>\n",
       "      <th>hard-court-elo-rating</th>\n",
       "      <td>0.959866</td>\n",
       "      <td>-0.009305</td>\n",
       "    </tr>\n",
       "    <tr>\n",
       "      <th>clay-court-elo-rating</th>\n",
       "      <td>0.944239</td>\n",
       "      <td>-0.252424</td>\n",
       "    </tr>\n",
       "    <tr>\n",
       "      <th>grass-court-elo-rating</th>\n",
       "      <td>0.928608</td>\n",
       "      <td>-0.081257</td>\n",
       "    </tr>\n",
       "  </tbody>\n",
       "</table>\n",
       "</div>"
      ],
      "text/plain": [
       "                              F1        F2\n",
       "hardraw                 0.821002  0.290108\n",
       "clayraw                 0.779689 -0.416924\n",
       "grassraw                0.633205  0.646912\n",
       "hard-court-elo-rating   0.959866 -0.009305\n",
       "clay-court-elo-rating   0.944239 -0.252424\n",
       "grass-court-elo-rating  0.928608 -0.081257"
      ]
     },
     "execution_count": 487,
     "metadata": {},
     "output_type": "execute_result"
    }
   ],
   "source": [
    "# Como usaremos apenas os dois primeiros fatores, temos\n",
    "\n",
    "resumo_cargas_fatorias = cargas_fatorias[['F1','F2']].copy()\n",
    "resumo_cargas_fatorias"
   ]
  },
  {
   "cell_type": "code",
   "execution_count": 488,
   "metadata": {},
   "outputs": [
    {
     "data": {
      "text/html": [
       "<iframe\n",
       "    scrolling=\"no\"\n",
       "    width=\"100%\"\n",
       "    height=\"545px\"\n",
       "    src=\"iframe_figures/figure_488.html\"\n",
       "    frameborder=\"0\"\n",
       "    allowfullscreen\n",
       "></iframe>\n"
      ]
     },
     "metadata": {},
     "output_type": "display_data"
    }
   ],
   "source": [
    "fig = px.scatter(cargas_fatorias,x = 'F1', y='F2', text=cargas_fatorias.index )\n",
    "fig.update_traces(textposition='top center')\n",
    "fig.show()"
   ]
  },
  {
   "cell_type": "markdown",
   "metadata": {},
   "source": [
    "### Calcule os scores fatoriais."
   ]
  },
  {
   "cell_type": "code",
   "execution_count": 489,
   "metadata": {},
   "outputs": [
    {
     "data": {
      "text/html": [
       "<div>\n",
       "<style scoped>\n",
       "    .dataframe tbody tr th:only-of-type {\n",
       "        vertical-align: middle;\n",
       "    }\n",
       "\n",
       "    .dataframe tbody tr th {\n",
       "        vertical-align: top;\n",
       "    }\n",
       "\n",
       "    .dataframe thead th {\n",
       "        text-align: right;\n",
       "    }\n",
       "</style>\n",
       "<table border=\"1\" class=\"dataframe\">\n",
       "  <thead>\n",
       "    <tr style=\"text-align: right;\">\n",
       "      <th></th>\n",
       "      <th>F1</th>\n",
       "      <th>F2</th>\n",
       "      <th>Comunalidade</th>\n",
       "    </tr>\n",
       "  </thead>\n",
       "  <tbody>\n",
       "    <tr>\n",
       "      <th>hardraw</th>\n",
       "      <td>0.821002</td>\n",
       "      <td>0.290108</td>\n",
       "      <td>0.758207</td>\n",
       "    </tr>\n",
       "    <tr>\n",
       "      <th>clayraw</th>\n",
       "      <td>0.779689</td>\n",
       "      <td>-0.416924</td>\n",
       "      <td>0.781740</td>\n",
       "    </tr>\n",
       "    <tr>\n",
       "      <th>grassraw</th>\n",
       "      <td>0.633205</td>\n",
       "      <td>0.646912</td>\n",
       "      <td>0.819444</td>\n",
       "    </tr>\n",
       "    <tr>\n",
       "      <th>hard-court-elo-rating</th>\n",
       "      <td>0.959866</td>\n",
       "      <td>-0.009305</td>\n",
       "      <td>0.921430</td>\n",
       "    </tr>\n",
       "    <tr>\n",
       "      <th>clay-court-elo-rating</th>\n",
       "      <td>0.944239</td>\n",
       "      <td>-0.252424</td>\n",
       "      <td>0.955305</td>\n",
       "    </tr>\n",
       "    <tr>\n",
       "      <th>grass-court-elo-rating</th>\n",
       "      <td>0.928608</td>\n",
       "      <td>-0.081257</td>\n",
       "      <td>0.868916</td>\n",
       "    </tr>\n",
       "  </tbody>\n",
       "</table>\n",
       "</div>"
      ],
      "text/plain": [
       "                              F1        F2  Comunalidade\n",
       "hardraw                 0.821002  0.290108      0.758207\n",
       "clayraw                 0.779689 -0.416924      0.781740\n",
       "grassraw                0.633205  0.646912      0.819444\n",
       "hard-court-elo-rating   0.959866 -0.009305      0.921430\n",
       "clay-court-elo-rating   0.944239 -0.252424      0.955305\n",
       "grass-court-elo-rating  0.928608 -0.081257      0.868916"
      ]
     },
     "execution_count": 489,
     "metadata": {},
     "output_type": "execute_result"
    }
   ],
   "source": [
    "resumo_cargas_fatorias['Comunalidade'] = (resumo_cargas_fatorias ** 2).sum(axis = 1)\n",
    "resumo_cargas_fatorias"
   ]
  },
  {
   "cell_type": "code",
   "execution_count": 490,
   "metadata": {},
   "outputs": [
    {
     "data": {
      "text/plain": [
       "array([[ 0.18838306,  0.17890352,  0.1452921 ,  0.22024621,  0.21666047,\n",
       "         0.21307393],\n",
       "       [ 0.38842059, -0.5582127 ,  0.86614026, -0.01245822, -0.33796631,\n",
       "        -0.10879398],\n",
       "       [ 0.67347385, -0.75623157, -0.7839476 ,  0.36265567, -0.09444725,\n",
       "         0.29526026],\n",
       "       [-1.34609763, -0.87290059,  0.26664447,  0.4161221 ,  0.20912299,\n",
       "         1.09843399],\n",
       "       [-0.46129324, -1.04001763,  0.09321709,  1.33629142,  2.12580702,\n",
       "        -2.32535509],\n",
       "       [ 0.87233913, -1.17776419,  0.11366521, -3.81950221,  3.06825455,\n",
       "         0.96829769]])"
      ]
     },
     "execution_count": 490,
     "metadata": {},
     "output_type": "execute_result"
    }
   ],
   "source": [
    "scores_fatoriais = np.zeros(pca.components_.shape)\n",
    "for i in range (len(pca.components_)):\n",
    "    scores_fatoriais[i] = pca.components_[i] / raiz_autovalores[i]\n",
    "scores_fatoriais"
   ]
  },
  {
   "cell_type": "markdown",
   "metadata": {},
   "source": [
    "### Imprima o ranking"
   ]
  },
  {
   "cell_type": "code",
   "execution_count": 491,
   "metadata": {},
   "outputs": [],
   "source": [
    "F1 = np.zeros(dados_padronizados.shape[0])\n",
    "for indice, variavel in enumerate(pca.feature_names_in_):\n",
    "    F1 += scores_fatoriais[0][indice] * dados_padronizados[variavel]"
   ]
  },
  {
   "cell_type": "code",
   "execution_count": 492,
   "metadata": {},
   "outputs": [],
   "source": [
    "F2 = np.zeros(dados_padronizados.shape[0])\n",
    "for indice, variavel in enumerate(pca.feature_names_in_):\n",
    "    F2 += scores_fatoriais[1][indice] * dados_padronizados[variavel]"
   ]
  },
  {
   "cell_type": "code",
   "execution_count": 493,
   "metadata": {},
   "outputs": [
    {
     "data": {
      "text/html": [
       "<div>\n",
       "<style scoped>\n",
       "    .dataframe tbody tr th:only-of-type {\n",
       "        vertical-align: middle;\n",
       "    }\n",
       "\n",
       "    .dataframe tbody tr th {\n",
       "        vertical-align: top;\n",
       "    }\n",
       "\n",
       "    .dataframe thead th {\n",
       "        text-align: right;\n",
       "    }\n",
       "</style>\n",
       "<table border=\"1\" class=\"dataframe\">\n",
       "  <thead>\n",
       "    <tr style=\"text-align: right;\">\n",
       "      <th></th>\n",
       "      <th>player</th>\n",
       "      <th>F1</th>\n",
       "      <th>F2</th>\n",
       "    </tr>\n",
       "  </thead>\n",
       "  <tbody>\n",
       "    <tr>\n",
       "      <th>0</th>\n",
       "      <td>Novak Djokovic</td>\n",
       "      <td>3.380370</td>\n",
       "      <td>-0.873184</td>\n",
       "    </tr>\n",
       "    <tr>\n",
       "      <th>1</th>\n",
       "      <td>Daniil Medvedev</td>\n",
       "      <td>2.725885</td>\n",
       "      <td>0.006009</td>\n",
       "    </tr>\n",
       "    <tr>\n",
       "      <th>2</th>\n",
       "      <td>Alexander Zverev</td>\n",
       "      <td>2.974747</td>\n",
       "      <td>-1.061806</td>\n",
       "    </tr>\n",
       "    <tr>\n",
       "      <th>3</th>\n",
       "      <td>Roger Federer</td>\n",
       "      <td>2.409230</td>\n",
       "      <td>-0.089193</td>\n",
       "    </tr>\n",
       "    <tr>\n",
       "      <th>4</th>\n",
       "      <td>Carlos Alcaraz</td>\n",
       "      <td>2.079273</td>\n",
       "      <td>-0.811462</td>\n",
       "    </tr>\n",
       "    <tr>\n",
       "      <th>...</th>\n",
       "      <td>...</td>\n",
       "      <td>...</td>\n",
       "      <td>...</td>\n",
       "    </tr>\n",
       "    <tr>\n",
       "      <th>382</th>\n",
       "      <td>Daniel Dutra Da Silva</td>\n",
       "      <td>-1.835509</td>\n",
       "      <td>-1.004365</td>\n",
       "    </tr>\n",
       "    <tr>\n",
       "      <th>383</th>\n",
       "      <td>Shintaro Mochizuki</td>\n",
       "      <td>-1.547083</td>\n",
       "      <td>1.519587</td>\n",
       "    </tr>\n",
       "    <tr>\n",
       "      <th>384</th>\n",
       "      <td>Nick Chappell</td>\n",
       "      <td>-1.721857</td>\n",
       "      <td>1.854220</td>\n",
       "    </tr>\n",
       "    <tr>\n",
       "      <th>385</th>\n",
       "      <td>Vladyslav Orlov</td>\n",
       "      <td>-2.117623</td>\n",
       "      <td>-0.883036</td>\n",
       "    </tr>\n",
       "    <tr>\n",
       "      <th>386</th>\n",
       "      <td>Alexander Erler</td>\n",
       "      <td>-2.359964</td>\n",
       "      <td>-0.255949</td>\n",
       "    </tr>\n",
       "  </tbody>\n",
       "</table>\n",
       "<p>387 rows × 3 columns</p>\n",
       "</div>"
      ],
      "text/plain": [
       "                    player        F1        F2\n",
       "0           Novak Djokovic  3.380370 -0.873184\n",
       "1          Daniil Medvedev  2.725885  0.006009\n",
       "2         Alexander Zverev  2.974747 -1.061806\n",
       "3            Roger Federer  2.409230 -0.089193\n",
       "4           Carlos Alcaraz  2.079273 -0.811462\n",
       "..                     ...       ...       ...\n",
       "382  Daniel Dutra Da Silva -1.835509 -1.004365\n",
       "383     Shintaro Mochizuki -1.547083  1.519587\n",
       "384          Nick Chappell -1.721857  1.854220\n",
       "385        Vladyslav Orlov -2.117623 -0.883036\n",
       "386        Alexander Erler -2.359964 -0.255949\n",
       "\n",
       "[387 rows x 3 columns]"
      ]
     },
     "execution_count": 493,
     "metadata": {},
     "output_type": "execute_result"
    }
   ],
   "source": [
    "dados_fatorias = df_male[['player']].copy()\n",
    "dados_fatorias['F1'] = F1\n",
    "dados_fatorias['F2'] = F2\n",
    "dados_fatorias"
   ]
  },
  {
   "cell_type": "code",
   "execution_count": 494,
   "metadata": {},
   "outputs": [
    {
     "data": {
      "text/html": [
       "<div>\n",
       "<style scoped>\n",
       "    .dataframe tbody tr th:only-of-type {\n",
       "        vertical-align: middle;\n",
       "    }\n",
       "\n",
       "    .dataframe tbody tr th {\n",
       "        vertical-align: top;\n",
       "    }\n",
       "\n",
       "    .dataframe thead th {\n",
       "        text-align: right;\n",
       "    }\n",
       "</style>\n",
       "<table border=\"1\" class=\"dataframe\">\n",
       "  <thead>\n",
       "    <tr style=\"text-align: right;\">\n",
       "      <th></th>\n",
       "      <th>player</th>\n",
       "      <th>F1</th>\n",
       "      <th>F2</th>\n",
       "      <th>rankings</th>\n",
       "    </tr>\n",
       "  </thead>\n",
       "  <tbody>\n",
       "    <tr>\n",
       "      <th>0</th>\n",
       "      <td>Novak Djokovic</td>\n",
       "      <td>3.380370</td>\n",
       "      <td>-0.873184</td>\n",
       "      <td>2.346665</td>\n",
       "    </tr>\n",
       "    <tr>\n",
       "      <th>1</th>\n",
       "      <td>Daniil Medvedev</td>\n",
       "      <td>2.725885</td>\n",
       "      <td>0.006009</td>\n",
       "      <td>1.980718</td>\n",
       "    </tr>\n",
       "    <tr>\n",
       "      <th>2</th>\n",
       "      <td>Alexander Zverev</td>\n",
       "      <td>2.974747</td>\n",
       "      <td>-1.061806</td>\n",
       "      <td>2.028557</td>\n",
       "    </tr>\n",
       "    <tr>\n",
       "      <th>3</th>\n",
       "      <td>Roger Federer</td>\n",
       "      <td>2.409230</td>\n",
       "      <td>-0.089193</td>\n",
       "      <td>1.738862</td>\n",
       "    </tr>\n",
       "    <tr>\n",
       "      <th>4</th>\n",
       "      <td>Carlos Alcaraz</td>\n",
       "      <td>2.079273</td>\n",
       "      <td>-0.811462</td>\n",
       "      <td>1.409285</td>\n",
       "    </tr>\n",
       "    <tr>\n",
       "      <th>...</th>\n",
       "      <td>...</td>\n",
       "      <td>...</td>\n",
       "      <td>...</td>\n",
       "      <td>...</td>\n",
       "    </tr>\n",
       "    <tr>\n",
       "      <th>382</th>\n",
       "      <td>Daniel Dutra Da Silva</td>\n",
       "      <td>-1.835509</td>\n",
       "      <td>-1.004365</td>\n",
       "      <td>-1.458263</td>\n",
       "    </tr>\n",
       "    <tr>\n",
       "      <th>383</th>\n",
       "      <td>Shintaro Mochizuki</td>\n",
       "      <td>-1.547083</td>\n",
       "      <td>1.519587</td>\n",
       "      <td>-0.934576</td>\n",
       "    </tr>\n",
       "    <tr>\n",
       "      <th>384</th>\n",
       "      <td>Nick Chappell</td>\n",
       "      <td>-1.721857</td>\n",
       "      <td>1.854220</td>\n",
       "      <td>-1.019869</td>\n",
       "    </tr>\n",
       "    <tr>\n",
       "      <th>385</th>\n",
       "      <td>Vladyslav Orlov</td>\n",
       "      <td>-2.117623</td>\n",
       "      <td>-0.883036</td>\n",
       "      <td>-1.648075</td>\n",
       "    </tr>\n",
       "    <tr>\n",
       "      <th>386</th>\n",
       "      <td>Alexander Erler</td>\n",
       "      <td>-2.359964</td>\n",
       "      <td>-0.255949</td>\n",
       "      <td>-1.746041</td>\n",
       "    </tr>\n",
       "  </tbody>\n",
       "</table>\n",
       "<p>387 rows × 4 columns</p>\n",
       "</div>"
      ],
      "text/plain": [
       "                    player        F1        F2  rankings\n",
       "0           Novak Djokovic  3.380370 -0.873184  2.346665\n",
       "1          Daniil Medvedev  2.725885  0.006009  1.980718\n",
       "2         Alexander Zverev  2.974747 -1.061806  2.028557\n",
       "3            Roger Federer  2.409230 -0.089193  1.738862\n",
       "4           Carlos Alcaraz  2.079273 -0.811462  1.409285\n",
       "..                     ...       ...       ...       ...\n",
       "382  Daniel Dutra Da Silva -1.835509 -1.004365 -1.458263\n",
       "383     Shintaro Mochizuki -1.547083  1.519587 -0.934576\n",
       "384          Nick Chappell -1.721857  1.854220 -1.019869\n",
       "385        Vladyslav Orlov -2.117623 -0.883036 -1.648075\n",
       "386        Alexander Erler -2.359964 -0.255949 -1.746041\n",
       "\n",
       "[387 rows x 4 columns]"
      ]
     },
     "execution_count": 494,
     "metadata": {},
     "output_type": "execute_result"
    }
   ],
   "source": [
    "dados_fatorias['rankings'] = dados_fatorias['F1'] *  pca.explained_variance_ratio_[0] + dados_fatorias['F2'] *  pca.explained_variance_ratio_[1]\n",
    "dados_fatorias"
   ]
  },
  {
   "cell_type": "code",
   "execution_count": 495,
   "metadata": {},
   "outputs": [
    {
     "data": {
      "text/html": [
       "<div>\n",
       "<style scoped>\n",
       "    .dataframe tbody tr th:only-of-type {\n",
       "        vertical-align: middle;\n",
       "    }\n",
       "\n",
       "    .dataframe tbody tr th {\n",
       "        vertical-align: top;\n",
       "    }\n",
       "\n",
       "    .dataframe thead th {\n",
       "        text-align: right;\n",
       "    }\n",
       "</style>\n",
       "<table border=\"1\" class=\"dataframe\">\n",
       "  <thead>\n",
       "    <tr style=\"text-align: right;\">\n",
       "      <th></th>\n",
       "      <th>player</th>\n",
       "      <th>F1</th>\n",
       "      <th>F2</th>\n",
       "      <th>rankings</th>\n",
       "    </tr>\n",
       "  </thead>\n",
       "  <tbody>\n",
       "    <tr>\n",
       "      <th>0</th>\n",
       "      <td>Novak Djokovic</td>\n",
       "      <td>3.380370</td>\n",
       "      <td>-0.873184</td>\n",
       "      <td>2.346665</td>\n",
       "    </tr>\n",
       "    <tr>\n",
       "      <th>2</th>\n",
       "      <td>Alexander Zverev</td>\n",
       "      <td>2.974747</td>\n",
       "      <td>-1.061806</td>\n",
       "      <td>2.028557</td>\n",
       "    </tr>\n",
       "    <tr>\n",
       "      <th>1</th>\n",
       "      <td>Daniil Medvedev</td>\n",
       "      <td>2.725885</td>\n",
       "      <td>0.006009</td>\n",
       "      <td>1.980718</td>\n",
       "    </tr>\n",
       "    <tr>\n",
       "      <th>3</th>\n",
       "      <td>Roger Federer</td>\n",
       "      <td>2.409230</td>\n",
       "      <td>-0.089193</td>\n",
       "      <td>1.738862</td>\n",
       "    </tr>\n",
       "    <tr>\n",
       "      <th>9</th>\n",
       "      <td>Dominic Thiem</td>\n",
       "      <td>2.388982</td>\n",
       "      <td>-0.892243</td>\n",
       "      <td>1.624189</td>\n",
       "    </tr>\n",
       "    <tr>\n",
       "      <th>...</th>\n",
       "      <td>...</td>\n",
       "      <td>...</td>\n",
       "      <td>...</td>\n",
       "      <td>...</td>\n",
       "    </tr>\n",
       "    <tr>\n",
       "      <th>248</th>\n",
       "      <td>Matheus Pucinelli De Almeida</td>\n",
       "      <td>-1.761037</td>\n",
       "      <td>-3.797443</td>\n",
       "      <td>-1.751857</td>\n",
       "    </tr>\n",
       "    <tr>\n",
       "      <th>257</th>\n",
       "      <td>Eduard Esteve Lobato</td>\n",
       "      <td>-1.824838</td>\n",
       "      <td>-3.681119</td>\n",
       "      <td>-1.783719</td>\n",
       "    </tr>\n",
       "    <tr>\n",
       "      <th>321</th>\n",
       "      <td>Alexis Gautier</td>\n",
       "      <td>-2.076386</td>\n",
       "      <td>-3.344604</td>\n",
       "      <td>-1.924543</td>\n",
       "    </tr>\n",
       "    <tr>\n",
       "      <th>370</th>\n",
       "      <td>Tiago Cacao</td>\n",
       "      <td>-2.374266</td>\n",
       "      <td>-2.901841</td>\n",
       "      <td>-2.085795</td>\n",
       "    </tr>\n",
       "    <tr>\n",
       "      <th>377</th>\n",
       "      <td>Jacopo Berrettini</td>\n",
       "      <td>-2.533520</td>\n",
       "      <td>-2.706842</td>\n",
       "      <td>-2.177197</td>\n",
       "    </tr>\n",
       "  </tbody>\n",
       "</table>\n",
       "<p>387 rows × 4 columns</p>\n",
       "</div>"
      ],
      "text/plain": [
       "                           player        F1        F2  rankings\n",
       "0                  Novak Djokovic  3.380370 -0.873184  2.346665\n",
       "2                Alexander Zverev  2.974747 -1.061806  2.028557\n",
       "1                 Daniil Medvedev  2.725885  0.006009  1.980718\n",
       "3                   Roger Federer  2.409230 -0.089193  1.738862\n",
       "9                   Dominic Thiem  2.388982 -0.892243  1.624189\n",
       "..                            ...       ...       ...       ...\n",
       "248  Matheus Pucinelli De Almeida -1.761037 -3.797443 -1.751857\n",
       "257          Eduard Esteve Lobato -1.824838 -3.681119 -1.783719\n",
       "321                Alexis Gautier -2.076386 -3.344604 -1.924543\n",
       "370                   Tiago Cacao -2.374266 -2.901841 -2.085795\n",
       "377             Jacopo Berrettini -2.533520 -2.706842 -2.177197\n",
       "\n",
       "[387 rows x 4 columns]"
      ]
     },
     "execution_count": 495,
     "metadata": {},
     "output_type": "execute_result"
    }
   ],
   "source": [
    "dados_fatorias.sort_values('rankings', ascending = False)"
   ]
  },
  {
   "cell_type": "code",
   "execution_count": 496,
   "metadata": {},
   "outputs": [
    {
     "data": {
      "text/html": [
       "<div>\n",
       "<style scoped>\n",
       "    .dataframe tbody tr th:only-of-type {\n",
       "        vertical-align: middle;\n",
       "    }\n",
       "\n",
       "    .dataframe tbody tr th {\n",
       "        vertical-align: top;\n",
       "    }\n",
       "\n",
       "    .dataframe thead th {\n",
       "        text-align: right;\n",
       "    }\n",
       "</style>\n",
       "<table border=\"1\" class=\"dataframe\">\n",
       "  <thead>\n",
       "    <tr style=\"text-align: right;\">\n",
       "      <th></th>\n",
       "      <th>player</th>\n",
       "      <th>age</th>\n",
       "      <th>elo</th>\n",
       "      <th>hardraw</th>\n",
       "      <th>clayraw</th>\n",
       "      <th>grassraw</th>\n",
       "      <th>hard-court-elo-rating</th>\n",
       "      <th>clay-court-elo-rating</th>\n",
       "      <th>grass-court-elo-rating</th>\n",
       "      <th>peak-age</th>\n",
       "      <th>peak-elo</th>\n",
       "      <th>gender</th>\n",
       "      <th>ranking-real</th>\n",
       "      <th>rankings</th>\n",
       "      <th>F1</th>\n",
       "      <th>F2</th>\n",
       "    </tr>\n",
       "  </thead>\n",
       "  <tbody>\n",
       "    <tr>\n",
       "      <th>0</th>\n",
       "      <td>Novak Djokovic</td>\n",
       "      <td>34.5</td>\n",
       "      <td>2185.2</td>\n",
       "      <td>2068.0</td>\n",
       "      <td>2016.3</td>\n",
       "      <td>1942.4</td>\n",
       "      <td>2126.6</td>\n",
       "      <td>2100.8</td>\n",
       "      <td>2063.8</td>\n",
       "      <td>28.8</td>\n",
       "      <td>2470.0</td>\n",
       "      <td>Male</td>\n",
       "      <td>1</td>\n",
       "      <td>2.346665</td>\n",
       "      <td>3.380370</td>\n",
       "      <td>-0.873184</td>\n",
       "    </tr>\n",
       "    <tr>\n",
       "      <th>1</th>\n",
       "      <td>Daniil Medvedev</td>\n",
       "      <td>25.9</td>\n",
       "      <td>2166.2</td>\n",
       "      <td>2095.3</td>\n",
       "      <td>1714.1</td>\n",
       "      <td>1723.4</td>\n",
       "      <td>2130.7</td>\n",
       "      <td>1940.1</td>\n",
       "      <td>1944.8</td>\n",
       "      <td>25.9</td>\n",
       "      <td>2175.1</td>\n",
       "      <td>Male</td>\n",
       "      <td>2</td>\n",
       "      <td>1.980718</td>\n",
       "      <td>2.725885</td>\n",
       "      <td>0.006009</td>\n",
       "    </tr>\n",
       "    <tr>\n",
       "      <th>2</th>\n",
       "      <td>Alexander Zverev</td>\n",
       "      <td>24.7</td>\n",
       "      <td>2141.3</td>\n",
       "      <td>2056.7</td>\n",
       "      <td>1999.1</td>\n",
       "      <td>1671.4</td>\n",
       "      <td>2099.0</td>\n",
       "      <td>2070.2</td>\n",
       "      <td>1906.4</td>\n",
       "      <td>24.7</td>\n",
       "      <td>2157.9</td>\n",
       "      <td>Male</td>\n",
       "      <td>3</td>\n",
       "      <td>2.028557</td>\n",
       "      <td>2.974747</td>\n",
       "      <td>-1.061806</td>\n",
       "    </tr>\n",
       "    <tr>\n",
       "      <th>3</th>\n",
       "      <td>Roger Federer</td>\n",
       "      <td>39.9</td>\n",
       "      <td>2043.0</td>\n",
       "      <td>1936.7</td>\n",
       "      <td>1749.6</td>\n",
       "      <td>1813.4</td>\n",
       "      <td>1989.8</td>\n",
       "      <td>1896.3</td>\n",
       "      <td>1928.2</td>\n",
       "      <td>25.6</td>\n",
       "      <td>2382.0</td>\n",
       "      <td>Male</td>\n",
       "      <td>4</td>\n",
       "      <td>1.738862</td>\n",
       "      <td>2.409230</td>\n",
       "      <td>-0.089193</td>\n",
       "    </tr>\n",
       "    <tr>\n",
       "      <th>4</th>\n",
       "      <td>Carlos Alcaraz</td>\n",
       "      <td>18.5</td>\n",
       "      <td>2029.5</td>\n",
       "      <td>1906.3</td>\n",
       "      <td>1834.4</td>\n",
       "      <td>1441.4</td>\n",
       "      <td>1967.9</td>\n",
       "      <td>1932.0</td>\n",
       "      <td>1735.5</td>\n",
       "      <td>18.5</td>\n",
       "      <td>2029.5</td>\n",
       "      <td>Male</td>\n",
       "      <td>5</td>\n",
       "      <td>1.409285</td>\n",
       "      <td>2.079273</td>\n",
       "      <td>-0.811462</td>\n",
       "    </tr>\n",
       "    <tr>\n",
       "      <th>...</th>\n",
       "      <td>...</td>\n",
       "      <td>...</td>\n",
       "      <td>...</td>\n",
       "      <td>...</td>\n",
       "      <td>...</td>\n",
       "      <td>...</td>\n",
       "      <td>...</td>\n",
       "      <td>...</td>\n",
       "      <td>...</td>\n",
       "      <td>...</td>\n",
       "      <td>...</td>\n",
       "      <td>...</td>\n",
       "      <td>...</td>\n",
       "      <td>...</td>\n",
       "      <td>...</td>\n",
       "      <td>...</td>\n",
       "    </tr>\n",
       "    <tr>\n",
       "      <th>382</th>\n",
       "      <td>Daniel Dutra Da Silva</td>\n",
       "      <td>33.5</td>\n",
       "      <td>1233.8</td>\n",
       "      <td>1089.8</td>\n",
       "      <td>1242.9</td>\n",
       "      <td>0.0</td>\n",
       "      <td>1161.8</td>\n",
       "      <td>1238.4</td>\n",
       "      <td>1316.9</td>\n",
       "      <td>20.2</td>\n",
       "      <td>1482.5</td>\n",
       "      <td>Male</td>\n",
       "      <td>383</td>\n",
       "      <td>-1.458263</td>\n",
       "      <td>-1.835509</td>\n",
       "      <td>-1.004365</td>\n",
       "    </tr>\n",
       "    <tr>\n",
       "      <th>383</th>\n",
       "      <td>Shintaro Mochizuki</td>\n",
       "      <td>18.5</td>\n",
       "      <td>1214.1</td>\n",
       "      <td>1163.4</td>\n",
       "      <td>1153.5</td>\n",
       "      <td>1408.0</td>\n",
       "      <td>1188.8</td>\n",
       "      <td>1183.8</td>\n",
       "      <td>1311.1</td>\n",
       "      <td>18.1</td>\n",
       "      <td>1341.6</td>\n",
       "      <td>Male</td>\n",
       "      <td>384</td>\n",
       "      <td>-0.934576</td>\n",
       "      <td>-1.547083</td>\n",
       "      <td>1.519587</td>\n",
       "    </tr>\n",
       "    <tr>\n",
       "      <th>384</th>\n",
       "      <td>Nick Chappell</td>\n",
       "      <td>29.3</td>\n",
       "      <td>1174.0</td>\n",
       "      <td>1212.6</td>\n",
       "      <td>1078.1</td>\n",
       "      <td>1355.2</td>\n",
       "      <td>1193.3</td>\n",
       "      <td>1126.0</td>\n",
       "      <td>1264.6</td>\n",
       "      <td>28.4</td>\n",
       "      <td>1444.1</td>\n",
       "      <td>Male</td>\n",
       "      <td>385</td>\n",
       "      <td>-1.019869</td>\n",
       "      <td>-1.721857</td>\n",
       "      <td>1.854220</td>\n",
       "    </tr>\n",
       "    <tr>\n",
       "      <th>385</th>\n",
       "      <td>Vladyslav Orlov</td>\n",
       "      <td>26.6</td>\n",
       "      <td>1135.1</td>\n",
       "      <td>1043.1</td>\n",
       "      <td>1227.0</td>\n",
       "      <td>0.0</td>\n",
       "      <td>1089.1</td>\n",
       "      <td>1181.1</td>\n",
       "      <td>1267.6</td>\n",
       "      <td>24.7</td>\n",
       "      <td>1233.4</td>\n",
       "      <td>Male</td>\n",
       "      <td>386</td>\n",
       "      <td>-1.648075</td>\n",
       "      <td>-2.117623</td>\n",
       "      <td>-0.883036</td>\n",
       "    </tr>\n",
       "    <tr>\n",
       "      <th>386</th>\n",
       "      <td>Alexander Erler</td>\n",
       "      <td>24.1</td>\n",
       "      <td>1087.3</td>\n",
       "      <td>1084.9</td>\n",
       "      <td>1083.5</td>\n",
       "      <td>0.0</td>\n",
       "      <td>1086.1</td>\n",
       "      <td>1085.4</td>\n",
       "      <td>1243.6</td>\n",
       "      <td>16.8</td>\n",
       "      <td>1202.3</td>\n",
       "      <td>Male</td>\n",
       "      <td>387</td>\n",
       "      <td>-1.746041</td>\n",
       "      <td>-2.359964</td>\n",
       "      <td>-0.255949</td>\n",
       "    </tr>\n",
       "  </tbody>\n",
       "</table>\n",
       "<p>387 rows × 16 columns</p>\n",
       "</div>"
      ],
      "text/plain": [
       "                    player   age     elo  hardraw  clayraw  grassraw  \\\n",
       "0           Novak Djokovic  34.5  2185.2   2068.0   2016.3    1942.4   \n",
       "1          Daniil Medvedev  25.9  2166.2   2095.3   1714.1    1723.4   \n",
       "2         Alexander Zverev  24.7  2141.3   2056.7   1999.1    1671.4   \n",
       "3            Roger Federer  39.9  2043.0   1936.7   1749.6    1813.4   \n",
       "4           Carlos Alcaraz  18.5  2029.5   1906.3   1834.4    1441.4   \n",
       "..                     ...   ...     ...      ...      ...       ...   \n",
       "382  Daniel Dutra Da Silva  33.5  1233.8   1089.8   1242.9       0.0   \n",
       "383     Shintaro Mochizuki  18.5  1214.1   1163.4   1153.5    1408.0   \n",
       "384          Nick Chappell  29.3  1174.0   1212.6   1078.1    1355.2   \n",
       "385        Vladyslav Orlov  26.6  1135.1   1043.1   1227.0       0.0   \n",
       "386        Alexander Erler  24.1  1087.3   1084.9   1083.5       0.0   \n",
       "\n",
       "     hard-court-elo-rating  clay-court-elo-rating  grass-court-elo-rating  \\\n",
       "0                   2126.6                 2100.8                  2063.8   \n",
       "1                   2130.7                 1940.1                  1944.8   \n",
       "2                   2099.0                 2070.2                  1906.4   \n",
       "3                   1989.8                 1896.3                  1928.2   \n",
       "4                   1967.9                 1932.0                  1735.5   \n",
       "..                     ...                    ...                     ...   \n",
       "382                 1161.8                 1238.4                  1316.9   \n",
       "383                 1188.8                 1183.8                  1311.1   \n",
       "384                 1193.3                 1126.0                  1264.6   \n",
       "385                 1089.1                 1181.1                  1267.6   \n",
       "386                 1086.1                 1085.4                  1243.6   \n",
       "\n",
       "     peak-age  peak-elo gender  ranking-real  rankings        F1        F2  \n",
       "0        28.8    2470.0   Male             1  2.346665  3.380370 -0.873184  \n",
       "1        25.9    2175.1   Male             2  1.980718  2.725885  0.006009  \n",
       "2        24.7    2157.9   Male             3  2.028557  2.974747 -1.061806  \n",
       "3        25.6    2382.0   Male             4  1.738862  2.409230 -0.089193  \n",
       "4        18.5    2029.5   Male             5  1.409285  2.079273 -0.811462  \n",
       "..        ...       ...    ...           ...       ...       ...       ...  \n",
       "382      20.2    1482.5   Male           383 -1.458263 -1.835509 -1.004365  \n",
       "383      18.1    1341.6   Male           384 -0.934576 -1.547083  1.519587  \n",
       "384      28.4    1444.1   Male           385 -1.019869 -1.721857  1.854220  \n",
       "385      24.7    1233.4   Male           386 -1.648075 -2.117623 -0.883036  \n",
       "386      16.8    1202.3   Male           387 -1.746041 -2.359964 -0.255949  \n",
       "\n",
       "[387 rows x 16 columns]"
      ]
     },
     "execution_count": 496,
     "metadata": {},
     "output_type": "execute_result"
    }
   ],
   "source": [
    "df_male['rankings'] = dados_fatorias['rankings'] \n",
    "df_male['F1'] = F1\n",
    "df_male['F2'] = F2\n",
    "df_male"
   ]
  },
  {
   "cell_type": "code",
   "execution_count": 497,
   "metadata": {},
   "outputs": [
    {
     "data": {
      "text/html": [
       "<div>\n",
       "<style scoped>\n",
       "    .dataframe tbody tr th:only-of-type {\n",
       "        vertical-align: middle;\n",
       "    }\n",
       "\n",
       "    .dataframe tbody tr th {\n",
       "        vertical-align: top;\n",
       "    }\n",
       "\n",
       "    .dataframe thead th {\n",
       "        text-align: right;\n",
       "    }\n",
       "</style>\n",
       "<table border=\"1\" class=\"dataframe\">\n",
       "  <thead>\n",
       "    <tr style=\"text-align: right;\">\n",
       "      <th></th>\n",
       "      <th>player</th>\n",
       "      <th>age</th>\n",
       "      <th>elo</th>\n",
       "      <th>hardraw</th>\n",
       "      <th>clayraw</th>\n",
       "      <th>grassraw</th>\n",
       "      <th>hard-court-elo-rating</th>\n",
       "      <th>clay-court-elo-rating</th>\n",
       "      <th>grass-court-elo-rating</th>\n",
       "      <th>peak-age</th>\n",
       "      <th>peak-elo</th>\n",
       "      <th>gender</th>\n",
       "      <th>ranking-real</th>\n",
       "      <th>rankings</th>\n",
       "      <th>F1</th>\n",
       "      <th>F2</th>\n",
       "    </tr>\n",
       "  </thead>\n",
       "  <tbody>\n",
       "    <tr>\n",
       "      <th>0</th>\n",
       "      <td>Novak Djokovic</td>\n",
       "      <td>34.5</td>\n",
       "      <td>2185.2</td>\n",
       "      <td>2068.0</td>\n",
       "      <td>2016.3</td>\n",
       "      <td>1942.4</td>\n",
       "      <td>2126.6</td>\n",
       "      <td>2100.8</td>\n",
       "      <td>2063.8</td>\n",
       "      <td>28.8</td>\n",
       "      <td>2470.0</td>\n",
       "      <td>Male</td>\n",
       "      <td>1</td>\n",
       "      <td>2.346665</td>\n",
       "      <td>3.380370</td>\n",
       "      <td>-0.873184</td>\n",
       "    </tr>\n",
       "    <tr>\n",
       "      <th>2</th>\n",
       "      <td>Alexander Zverev</td>\n",
       "      <td>24.7</td>\n",
       "      <td>2141.3</td>\n",
       "      <td>2056.7</td>\n",
       "      <td>1999.1</td>\n",
       "      <td>1671.4</td>\n",
       "      <td>2099.0</td>\n",
       "      <td>2070.2</td>\n",
       "      <td>1906.4</td>\n",
       "      <td>24.7</td>\n",
       "      <td>2157.9</td>\n",
       "      <td>Male</td>\n",
       "      <td>3</td>\n",
       "      <td>2.028557</td>\n",
       "      <td>2.974747</td>\n",
       "      <td>-1.061806</td>\n",
       "    </tr>\n",
       "    <tr>\n",
       "      <th>1</th>\n",
       "      <td>Daniil Medvedev</td>\n",
       "      <td>25.9</td>\n",
       "      <td>2166.2</td>\n",
       "      <td>2095.3</td>\n",
       "      <td>1714.1</td>\n",
       "      <td>1723.4</td>\n",
       "      <td>2130.7</td>\n",
       "      <td>1940.1</td>\n",
       "      <td>1944.8</td>\n",
       "      <td>25.9</td>\n",
       "      <td>2175.1</td>\n",
       "      <td>Male</td>\n",
       "      <td>2</td>\n",
       "      <td>1.980718</td>\n",
       "      <td>2.725885</td>\n",
       "      <td>0.006009</td>\n",
       "    </tr>\n",
       "    <tr>\n",
       "      <th>3</th>\n",
       "      <td>Roger Federer</td>\n",
       "      <td>39.9</td>\n",
       "      <td>2043.0</td>\n",
       "      <td>1936.7</td>\n",
       "      <td>1749.6</td>\n",
       "      <td>1813.4</td>\n",
       "      <td>1989.8</td>\n",
       "      <td>1896.3</td>\n",
       "      <td>1928.2</td>\n",
       "      <td>25.6</td>\n",
       "      <td>2382.0</td>\n",
       "      <td>Male</td>\n",
       "      <td>4</td>\n",
       "      <td>1.738862</td>\n",
       "      <td>2.409230</td>\n",
       "      <td>-0.089193</td>\n",
       "    </tr>\n",
       "    <tr>\n",
       "      <th>9</th>\n",
       "      <td>Dominic Thiem</td>\n",
       "      <td>27.7</td>\n",
       "      <td>2002.1</td>\n",
       "      <td>1934.8</td>\n",
       "      <td>1936.2</td>\n",
       "      <td>1618.3</td>\n",
       "      <td>1968.4</td>\n",
       "      <td>1969.1</td>\n",
       "      <td>1810.2</td>\n",
       "      <td>22.8</td>\n",
       "      <td>2123.2</td>\n",
       "      <td>Male</td>\n",
       "      <td>10</td>\n",
       "      <td>1.624189</td>\n",
       "      <td>2.388982</td>\n",
       "      <td>-0.892243</td>\n",
       "    </tr>\n",
       "  </tbody>\n",
       "</table>\n",
       "</div>"
      ],
      "text/plain": [
       "             player   age     elo  hardraw  clayraw  grassraw  \\\n",
       "0    Novak Djokovic  34.5  2185.2   2068.0   2016.3    1942.4   \n",
       "2  Alexander Zverev  24.7  2141.3   2056.7   1999.1    1671.4   \n",
       "1   Daniil Medvedev  25.9  2166.2   2095.3   1714.1    1723.4   \n",
       "3     Roger Federer  39.9  2043.0   1936.7   1749.6    1813.4   \n",
       "9     Dominic Thiem  27.7  2002.1   1934.8   1936.2    1618.3   \n",
       "\n",
       "   hard-court-elo-rating  clay-court-elo-rating  grass-court-elo-rating  \\\n",
       "0                 2126.6                 2100.8                  2063.8   \n",
       "2                 2099.0                 2070.2                  1906.4   \n",
       "1                 2130.7                 1940.1                  1944.8   \n",
       "3                 1989.8                 1896.3                  1928.2   \n",
       "9                 1968.4                 1969.1                  1810.2   \n",
       "\n",
       "   peak-age  peak-elo gender  ranking-real  rankings        F1        F2  \n",
       "0      28.8    2470.0   Male             1  2.346665  3.380370 -0.873184  \n",
       "2      24.7    2157.9   Male             3  2.028557  2.974747 -1.061806  \n",
       "1      25.9    2175.1   Male             2  1.980718  2.725885  0.006009  \n",
       "3      25.6    2382.0   Male             4  1.738862  2.409230 -0.089193  \n",
       "9      22.8    2123.2   Male            10  1.624189  2.388982 -0.892243  "
      ]
     },
     "execution_count": 497,
     "metadata": {},
     "output_type": "execute_result"
    }
   ],
   "source": [
    "df_male.sort_values('rankings', ascending = False).head(5)"
   ]
  }
 ],
 "metadata": {
  "colab": {
   "authorship_tag": "ABX9TyOLL/Llrm8lRnV+wt6KzudJ",
   "provenance": []
  },
  "kernelspec": {
   "display_name": "Python 3 (ipykernel)",
   "language": "python",
   "name": "python3"
  },
  "language_info": {
   "codemirror_mode": {
    "name": "ipython",
    "version": 3
   },
   "file_extension": ".py",
   "mimetype": "text/x-python",
   "name": "python",
   "nbconvert_exporter": "python",
   "pygments_lexer": "ipython3",
   "version": "3.11.9"
  }
 },
 "nbformat": 4,
 "nbformat_minor": 4
}
