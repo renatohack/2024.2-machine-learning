{
 "cells": [
  {
   "cell_type": "code",
   "execution_count": 7,
   "id": "5bc409dd-fa81-408e-911b-ef5d9ddf8746",
   "metadata": {},
   "outputs": [],
   "source": [
    "import pandas as pd"
   ]
  },
  {
   "cell_type": "code",
   "execution_count": 8,
   "id": "8734c1df-e4eb-4183-bf9c-83ebecb56a08",
   "metadata": {},
   "outputs": [
    {
     "data": {
      "text/plain": [
       "(167053, 6)"
      ]
     },
     "execution_count": 8,
     "metadata": {},
     "output_type": "execute_result"
    }
   ],
   "source": [
    "df = pd.read_csv('articles.csv')\n",
    "df.shape"
   ]
  },
  {
   "cell_type": "code",
   "execution_count": 9,
   "id": "04cbfc6d-2902-40a0-8239-b684300f6420",
   "metadata": {},
   "outputs": [
    {
     "data": {
      "text/plain": [
       "(10097, 7)"
      ]
     },
     "execution_count": 9,
     "metadata": {},
     "output_type": "execute_result"
    }
   ],
   "source": [
    "df = df.loc[(df['date'].str.contains('2016-08')) | (df['date'].str.contains('2016-09'))].reset_index()\n",
    "df.shape"
   ]
  },
  {
   "cell_type": "code",
   "execution_count": 10,
   "id": "b21e0904-e4a2-4a68-9a06-2cf010c01de7",
   "metadata": {},
   "outputs": [
    {
     "data": {
      "text/html": [
       "<div>\n",
       "<style scoped>\n",
       "    .dataframe tbody tr th:only-of-type {\n",
       "        vertical-align: middle;\n",
       "    }\n",
       "\n",
       "    .dataframe tbody tr th {\n",
       "        vertical-align: top;\n",
       "    }\n",
       "\n",
       "    .dataframe thead th {\n",
       "        text-align: right;\n",
       "    }\n",
       "</style>\n",
       "<table border=\"1\" class=\"dataframe\">\n",
       "  <thead>\n",
       "    <tr style=\"text-align: right;\">\n",
       "      <th></th>\n",
       "      <th>index</th>\n",
       "      <th>title</th>\n",
       "      <th>text</th>\n",
       "      <th>date</th>\n",
       "      <th>category</th>\n",
       "      <th>subcategory</th>\n",
       "      <th>link</th>\n",
       "    </tr>\n",
       "  </thead>\n",
       "  <tbody>\n",
       "    <tr>\n",
       "      <th>0</th>\n",
       "      <td>25105</td>\n",
       "      <td>Como é o programa de treinamento?</td>\n",
       "      <td>O 1º Programa de Treinamento em Jornalismo de ...</td>\n",
       "      <td>2016-08-11</td>\n",
       "      <td>treinamento</td>\n",
       "      <td>NaN</td>\n",
       "      <td>http://www1.folha.uol.com.br/treinamento/2016/...</td>\n",
       "    </tr>\n",
       "    <tr>\n",
       "      <th>1</th>\n",
       "      <td>36866</td>\n",
       "      <td>Temer se esquiva de perguntas de Cunha em proc...</td>\n",
       "      <td>Em ofício enviado ao juiz Sergio Moro nesta se...</td>\n",
       "      <td>2016-09-12</td>\n",
       "      <td>poder</td>\n",
       "      <td>NaN</td>\n",
       "      <td>http://www1.folha.uol.com.br/poder/2016/12/184...</td>\n",
       "    </tr>\n",
       "    <tr>\n",
       "      <th>2</th>\n",
       "      <td>36868</td>\n",
       "      <td>Sérgio Cabral chega à carceragem da Polícia Fe...</td>\n",
       "      <td>O ex-governador do Rio Sérgio Cabral foi trans...</td>\n",
       "      <td>2016-09-12</td>\n",
       "      <td>poder</td>\n",
       "      <td>NaN</td>\n",
       "      <td>http://www1.folha.uol.com.br/poder/2016/12/184...</td>\n",
       "    </tr>\n",
       "    <tr>\n",
       "      <th>3</th>\n",
       "      <td>36869</td>\n",
       "      <td>Moro diz que foto com Aécio foi 'infeliz', mas...</td>\n",
       "      <td>Entre aplausos e vaias, o juiz federal Sergio ...</td>\n",
       "      <td>2016-09-12</td>\n",
       "      <td>poder</td>\n",
       "      <td>NaN</td>\n",
       "      <td>http://www1.folha.uol.com.br/poder/2016/12/184...</td>\n",
       "    </tr>\n",
       "    <tr>\n",
       "      <th>4</th>\n",
       "      <td>36870</td>\n",
       "      <td>Delator da Odebrecht cita Temer, Renan, Maia e...</td>\n",
       "      <td>Um ex-executivo da empreiteira Odebrecht afirm...</td>\n",
       "      <td>2016-09-12</td>\n",
       "      <td>poder</td>\n",
       "      <td>NaN</td>\n",
       "      <td>http://www1.folha.uol.com.br/poder/2016/12/184...</td>\n",
       "    </tr>\n",
       "  </tbody>\n",
       "</table>\n",
       "</div>"
      ],
      "text/plain": [
       "   index                                              title  \\\n",
       "0  25105                  Como é o programa de treinamento?   \n",
       "1  36866  Temer se esquiva de perguntas de Cunha em proc...   \n",
       "2  36868  Sérgio Cabral chega à carceragem da Polícia Fe...   \n",
       "3  36869  Moro diz que foto com Aécio foi 'infeliz', mas...   \n",
       "4  36870  Delator da Odebrecht cita Temer, Renan, Maia e...   \n",
       "\n",
       "                                                text        date     category  \\\n",
       "0  O 1º Programa de Treinamento em Jornalismo de ...  2016-08-11  treinamento   \n",
       "1  Em ofício enviado ao juiz Sergio Moro nesta se...  2016-09-12        poder   \n",
       "2  O ex-governador do Rio Sérgio Cabral foi trans...  2016-09-12        poder   \n",
       "3  Entre aplausos e vaias, o juiz federal Sergio ...  2016-09-12        poder   \n",
       "4  Um ex-executivo da empreiteira Odebrecht afirm...  2016-09-12        poder   \n",
       "\n",
       "  subcategory                                               link  \n",
       "0         NaN  http://www1.folha.uol.com.br/treinamento/2016/...  \n",
       "1         NaN  http://www1.folha.uol.com.br/poder/2016/12/184...  \n",
       "2         NaN  http://www1.folha.uol.com.br/poder/2016/12/184...  \n",
       "3         NaN  http://www1.folha.uol.com.br/poder/2016/12/184...  \n",
       "4         NaN  http://www1.folha.uol.com.br/poder/2016/12/184...  "
      ]
     },
     "execution_count": 10,
     "metadata": {},
     "output_type": "execute_result"
    }
   ],
   "source": [
    "df.head()"
   ]
  },
  {
   "cell_type": "code",
   "execution_count": 11,
   "id": "c7ff589d-227f-4b58-b3e9-6018f78dc5d6",
   "metadata": {},
   "outputs": [
    {
     "data": {
      "text/html": [
       "<div>\n",
       "<style scoped>\n",
       "    .dataframe tbody tr th:only-of-type {\n",
       "        vertical-align: middle;\n",
       "    }\n",
       "\n",
       "    .dataframe tbody tr th {\n",
       "        vertical-align: top;\n",
       "    }\n",
       "\n",
       "    .dataframe thead th {\n",
       "        text-align: right;\n",
       "    }\n",
       "</style>\n",
       "<table border=\"1\" class=\"dataframe\">\n",
       "  <thead>\n",
       "    <tr style=\"text-align: right;\">\n",
       "      <th></th>\n",
       "      <th>text</th>\n",
       "    </tr>\n",
       "  </thead>\n",
       "  <tbody>\n",
       "    <tr>\n",
       "      <th>0</th>\n",
       "      <td>O 1º Programa de Treinamento em Jornalismo de ...</td>\n",
       "    </tr>\n",
       "    <tr>\n",
       "      <th>1</th>\n",
       "      <td>Em ofício enviado ao juiz Sergio Moro nesta se...</td>\n",
       "    </tr>\n",
       "    <tr>\n",
       "      <th>2</th>\n",
       "      <td>O ex-governador do Rio Sérgio Cabral foi trans...</td>\n",
       "    </tr>\n",
       "    <tr>\n",
       "      <th>3</th>\n",
       "      <td>Entre aplausos e vaias, o juiz federal Sergio ...</td>\n",
       "    </tr>\n",
       "    <tr>\n",
       "      <th>4</th>\n",
       "      <td>Um ex-executivo da empreiteira Odebrecht afirm...</td>\n",
       "    </tr>\n",
       "  </tbody>\n",
       "</table>\n",
       "</div>"
      ],
      "text/plain": [
       "                                                text\n",
       "0  O 1º Programa de Treinamento em Jornalismo de ...\n",
       "1  Em ofício enviado ao juiz Sergio Moro nesta se...\n",
       "2  O ex-governador do Rio Sérgio Cabral foi trans...\n",
       "3  Entre aplausos e vaias, o juiz federal Sergio ...\n",
       "4  Um ex-executivo da empreiteira Odebrecht afirm..."
      ]
     },
     "execution_count": 11,
     "metadata": {},
     "output_type": "execute_result"
    }
   ],
   "source": [
    "df = df[['text']]\n",
    "df.head()"
   ]
  },
  {
   "cell_type": "code",
   "execution_count": 12,
   "id": "23b31dd2-adff-400e-bbde-75f319bfa238",
   "metadata": {},
   "outputs": [],
   "source": [
    "df.to_csv('articles_text.csv', index = False)"
   ]
  }
 ],
 "metadata": {
  "kernelspec": {
   "display_name": "Python 3 (ipykernel)",
   "language": "python",
   "name": "python3"
  },
  "language_info": {
   "codemirror_mode": {
    "name": "ipython",
    "version": 3
   },
   "file_extension": ".py",
   "mimetype": "text/x-python",
   "name": "python",
   "nbconvert_exporter": "python",
   "pygments_lexer": "ipython3",
   "version": "3.11.9"
  }
 },
 "nbformat": 4,
 "nbformat_minor": 5
}
