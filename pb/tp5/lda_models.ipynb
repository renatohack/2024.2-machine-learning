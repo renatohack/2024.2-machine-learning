{
 "cells": [
  {
   "cell_type": "code",
   "execution_count": 22,
   "id": "de5689f0-e11a-4583-9fb0-fbb8d022b602",
   "metadata": {},
   "outputs": [
    {
     "name": "stdout",
     "output_type": "stream",
     "text": [
      "Requirement already satisfied: gensim in /opt/conda/lib/python3.11/site-packages (4.3.3)\n",
      "Requirement already satisfied: numpy<2.0,>=1.18.5 in /opt/conda/lib/python3.11/site-packages (from gensim) (1.26.4)\n",
      "Requirement already satisfied: scipy<1.14.0,>=1.7.0 in /opt/conda/lib/python3.11/site-packages (from gensim) (1.13.0)\n",
      "Requirement already satisfied: smart-open>=1.8.1 in /opt/conda/lib/python3.11/site-packages (from gensim) (7.0.4)\n",
      "Requirement already satisfied: wrapt in /opt/conda/lib/python3.11/site-packages (from smart-open>=1.8.1->gensim) (1.16.0)\n",
      "Requirement already satisfied: tqdm in /opt/conda/lib/python3.11/site-packages (4.66.2)\n"
     ]
    }
   ],
   "source": [
    "!pip install --upgrade gensim\n",
    "!pip install tqdm"
   ]
  },
  {
   "cell_type": "code",
   "execution_count": 23,
   "id": "a12c70c7-6824-4748-92ed-a06c589d87d0",
   "metadata": {},
   "outputs": [],
   "source": [
    "import pickle\n",
    "import gensim.corpora as corpora\n",
    "from gensim.models import CoherenceModel\n",
    "from gensim.models.ldamulticore import LdaMulticore\n",
    "from tqdm import tqdm"
   ]
  },
  {
   "cell_type": "code",
   "execution_count": 24,
   "id": "cc2e7423-f1c7-40cc-bb6b-9d8fc23e4e06",
   "metadata": {},
   "outputs": [
    {
     "data": {
      "text/html": [
       "<div>\n",
       "<style scoped>\n",
       "    .dataframe tbody tr th:only-of-type {\n",
       "        vertical-align: middle;\n",
       "    }\n",
       "\n",
       "    .dataframe tbody tr th {\n",
       "        vertical-align: top;\n",
       "    }\n",
       "\n",
       "    .dataframe thead th {\n",
       "        text-align: right;\n",
       "    }\n",
       "</style>\n",
       "<table border=\"1\" class=\"dataframe\">\n",
       "  <thead>\n",
       "    <tr style=\"text-align: right;\">\n",
       "      <th></th>\n",
       "      <th>text</th>\n",
       "    </tr>\n",
       "  </thead>\n",
       "  <tbody>\n",
       "    <tr>\n",
       "      <th>0</th>\n",
       "      <td>programa treinamento jornalismo agroindústria ...</td>\n",
       "    </tr>\n",
       "    <tr>\n",
       "      <th>1</th>\n",
       "      <td>ofício enviado juiz sergio moro feira presiden...</td>\n",
       "    </tr>\n",
       "    <tr>\n",
       "      <th>2</th>\n",
       "      <td>ex governador rio sérgio cabral transferido co...</td>\n",
       "    </tr>\n",
       "    <tr>\n",
       "      <th>3</th>\n",
       "      <td>aplausos vaias juiz federal sergio moro respon...</td>\n",
       "    </tr>\n",
       "    <tr>\n",
       "      <th>4</th>\n",
       "      <td>ex executivo empreiteira odebrecht afirmou aco...</td>\n",
       "    </tr>\n",
       "  </tbody>\n",
       "</table>\n",
       "</div>"
      ],
      "text/plain": [
       "                                                text\n",
       "0  programa treinamento jornalismo agroindústria ...\n",
       "1  ofício enviado juiz sergio moro feira presiden...\n",
       "2  ex governador rio sérgio cabral transferido co...\n",
       "3  aplausos vaias juiz federal sergio moro respon...\n",
       "4  ex executivo empreiteira odebrecht afirmou aco..."
      ]
     },
     "execution_count": 24,
     "metadata": {},
     "output_type": "execute_result"
    }
   ],
   "source": [
    "with open('pickle/df_proc.p', 'rb') as file:\n",
    "    df = pickle.load(file)\n",
    "df.head()"
   ]
  },
  {
   "cell_type": "code",
   "execution_count": 25,
   "id": "36a492e7-2a3b-459b-a1bc-2b190de98b3f",
   "metadata": {},
   "outputs": [],
   "source": [
    "tokenized_docs = [doc.lower().split() for doc in df['text']]"
   ]
  },
  {
   "cell_type": "code",
   "execution_count": 26,
   "id": "0e3c18fd-6d4f-41b3-a715-ad1674cdc916",
   "metadata": {},
   "outputs": [],
   "source": [
    "id2word = corpora.Dictionary(tokenized_docs)\n",
    "corpus = [id2word.doc2bow(text) for text in tokenized_docs]"
   ]
  },
  {
   "cell_type": "code",
   "execution_count": 27,
   "id": "44242d91-4864-4e63-b74f-f30f3e17d045",
   "metadata": {},
   "outputs": [],
   "source": [
    "def compute_coherence_values(corpus, dictionary, texts, range_lda): # meu\n",
    "    coherence_values = []\n",
    "    model_list = []\n",
    "    for num_topics in tqdm(range_lda):\n",
    "        model = LdaMulticore(corpus=corpus, num_topics=num_topics, id2word=dictionary, random_state=42)\n",
    "        model_list.append(model)\n",
    "        coherencemodel = CoherenceModel(model=model, texts=texts, dictionary=dictionary, coherence='c_v')\n",
    "        coherence_values.append(coherencemodel.get_coherence())\n",
    "    return model_list, coherence_values"
   ]
  },
  {
   "cell_type": "code",
   "execution_count": null,
   "id": "7ecd16dc-dae0-4072-8a58-aa0c0f638b20",
   "metadata": {},
   "outputs": [
    {
     "name": "stderr",
     "output_type": "stream",
     "text": [
      " 42%|████▏     | 62/149 [11:05<21:07, 14.57s/it]"
     ]
    }
   ],
   "source": [
    "limit=151; start=2; step=1;\n",
    "range_lda = range(start, limit, step)\n",
    "model_list, coherence_values = compute_coherence_values(corpus=corpus, dictionary=id2word, texts=tokenized_docs, range_lda=range_lda)"
   ]
  },
  {
   "cell_type": "code",
   "execution_count": null,
   "id": "8c31ae79-b414-469e-a3a7-c3df3fd10e6c",
   "metadata": {},
   "outputs": [],
   "source": [
    "with open('model_list.p', 'wb') as file:\n",
    "    pickle.dump(model_list, file)\n",
    "\n",
    "with open('coherence_values.p', 'wb') as file:\n",
    "    pickle.dump(coherence_values, file)"
   ]
  },
  {
   "cell_type": "code",
   "execution_count": null,
   "id": "a9f5aed9-03b5-4618-ace3-1687bff2caa5",
   "metadata": {},
   "outputs": [],
   "source": []
  }
 ],
 "metadata": {
  "kernelspec": {
   "display_name": "Python 3 (ipykernel)",
   "language": "python",
   "name": "python3"
  },
  "language_info": {
   "codemirror_mode": {
    "name": "ipython",
    "version": 3
   },
   "file_extension": ".py",
   "mimetype": "text/x-python",
   "name": "python",
   "nbconvert_exporter": "python",
   "pygments_lexer": "ipython3",
   "version": "3.11.9"
  }
 },
 "nbformat": 4,
 "nbformat_minor": 5
}
