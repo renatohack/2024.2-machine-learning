{
 "cells": [
  {
   "cell_type": "markdown",
   "id": "8afb0ce0-0c87-4f4e-b742-47d344f1b416",
   "metadata": {},
   "source": [
    "### Imports"
   ]
  },
  {
   "cell_type": "code",
   "execution_count": 210,
   "id": "21dbac50-21c4-4b08-b4e1-7f23babb5964",
   "metadata": {},
   "outputs": [],
   "source": [
    "import pandas as pd\n",
    "\n",
    "from sklearn.feature_extraction.text import TfidfVectorizer\n",
    "from sklearn.model_selection import train_test_split, KFold\n",
    "from sklearn.neighbors import KNeighborsClassifier\n",
    "from sklearn.metrics import (accuracy_score, recall_score, precision_score, f1_score,\n",
    "                             confusion_matrix, roc_auc_score, roc_curve, RocCurveDisplay)\n",
    "\n",
    "from tqdm.auto import tqdm\n",
    "\n",
    "import matplotlib.pyplot as plt\n",
    "import seaborn as sns\n",
    "\n",
    "import copy as copy\n",
    "import unidecode\n",
    "\n",
    "import nltk\n",
    "from nltk import tokenize\n",
    "from string import punctuation"
   ]
  },
  {
   "cell_type": "markdown",
   "id": "9d25a63b-a29f-4a43-b09f-75bfa0774b7b",
   "metadata": {},
   "source": [
    "### 1. Carregar os dados"
   ]
  },
  {
   "cell_type": "code",
   "execution_count": 211,
   "id": "1d6fe0b0-874a-43c1-bdfa-91beb1fc4606",
   "metadata": {
    "scrolled": true
   },
   "outputs": [
    {
     "data": {
      "text/html": [
       "<div>\n",
       "<style scoped>\n",
       "    .dataframe tbody tr th:only-of-type {\n",
       "        vertical-align: middle;\n",
       "    }\n",
       "\n",
       "    .dataframe tbody tr th {\n",
       "        vertical-align: top;\n",
       "    }\n",
       "\n",
       "    .dataframe thead th {\n",
       "        text-align: right;\n",
       "    }\n",
       "</style>\n",
       "<table border=\"1\" class=\"dataframe\">\n",
       "  <thead>\n",
       "    <tr style=\"text-align: right;\">\n",
       "      <th></th>\n",
       "      <th>text</th>\n",
       "      <th>label</th>\n",
       "    </tr>\n",
       "  </thead>\n",
       "  <tbody>\n",
       "    <tr>\n",
       "      <th>0</th>\n",
       "      <td>ive enjoyed being able to slouch about relax a...</td>\n",
       "      <td>0.0</td>\n",
       "    </tr>\n",
       "    <tr>\n",
       "      <th>1</th>\n",
       "      <td>i dont know i feel so lost</td>\n",
       "      <td>0.0</td>\n",
       "    </tr>\n",
       "    <tr>\n",
       "      <th>2</th>\n",
       "      <td>i was beginning to feel quite disheartened</td>\n",
       "      <td>0.0</td>\n",
       "    </tr>\n",
       "    <tr>\n",
       "      <th>3</th>\n",
       "      <td>i fear that they won t ever feel that deliciou...</td>\n",
       "      <td>1.0</td>\n",
       "    </tr>\n",
       "    <tr>\n",
       "      <th>4</th>\n",
       "      <td>i can still lose the weight without feeling de...</td>\n",
       "      <td>0.0</td>\n",
       "    </tr>\n",
       "  </tbody>\n",
       "</table>\n",
       "</div>"
      ],
      "text/plain": [
       "                                                text  label\n",
       "0  ive enjoyed being able to slouch about relax a...    0.0\n",
       "1                         i dont know i feel so lost    0.0\n",
       "2         i was beginning to feel quite disheartened    0.0\n",
       "3  i fear that they won t ever feel that deliciou...    1.0\n",
       "4  i can still lose the weight without feeling de...    0.0"
      ]
     },
     "execution_count": 211,
     "metadata": {},
     "output_type": "execute_result"
    }
   ],
   "source": [
    "df = pd.read_csv('text.csv')\n",
    "\n",
    "df = df[(df['label'] == 0) | (df['label'] == 1)].copy().reset_index(drop=True)\n",
    "df = df.drop(columns=df.columns[0], axis=1)\n",
    "\n",
    "df.head()"
   ]
  },
  {
   "cell_type": "markdown",
   "id": "6847920e-0ba1-4af4-bc44-2264677722e3",
   "metadata": {},
   "source": [
    "### Pré-Processamento"
   ]
  },
  {
   "cell_type": "code",
   "execution_count": 212,
   "id": "4d92e028-e6cf-4615-91c8-f7d36f070f1a",
   "metadata": {},
   "outputs": [
    {
     "data": {
      "text/html": [
       "<div>\n",
       "<style scoped>\n",
       "    .dataframe tbody tr th:only-of-type {\n",
       "        vertical-align: middle;\n",
       "    }\n",
       "\n",
       "    .dataframe tbody tr th {\n",
       "        vertical-align: top;\n",
       "    }\n",
       "\n",
       "    .dataframe thead th {\n",
       "        text-align: right;\n",
       "    }\n",
       "</style>\n",
       "<table border=\"1\" class=\"dataframe\">\n",
       "  <thead>\n",
       "    <tr style=\"text-align: right;\">\n",
       "      <th></th>\n",
       "      <th>text</th>\n",
       "      <th>label</th>\n",
       "    </tr>\n",
       "  </thead>\n",
       "  <tbody>\n",
       "    <tr>\n",
       "      <th>0</th>\n",
       "      <td>ive enjoyed able slouch relax unwind frankly n...</td>\n",
       "      <td>0.0</td>\n",
       "    </tr>\n",
       "    <tr>\n",
       "      <th>1</th>\n",
       "      <td>dont know feel lost</td>\n",
       "      <td>0.0</td>\n",
       "    </tr>\n",
       "    <tr>\n",
       "      <th>2</th>\n",
       "      <td>beginning feel quite disheartened</td>\n",
       "      <td>0.0</td>\n",
       "    </tr>\n",
       "    <tr>\n",
       "      <th>3</th>\n",
       "      <td>fear ever feel delicious excitement christmas ...</td>\n",
       "      <td>1.0</td>\n",
       "    </tr>\n",
       "    <tr>\n",
       "      <th>4</th>\n",
       "      <td>still lose weight without feeling deprived</td>\n",
       "      <td>0.0</td>\n",
       "    </tr>\n",
       "  </tbody>\n",
       "</table>\n",
       "</div>"
      ],
      "text/plain": [
       "                                                text  label\n",
       "0  ive enjoyed able slouch relax unwind frankly n...    0.0\n",
       "1                                dont know feel lost    0.0\n",
       "2                  beginning feel quite disheartened    0.0\n",
       "3  fear ever feel delicious excitement christmas ...    1.0\n",
       "4         still lose weight without feeling deprived    0.0"
      ]
     },
     "execution_count": 212,
     "metadata": {},
     "output_type": "execute_result"
    }
   ],
   "source": [
    "def df_lower(df_column):\n",
    "    return df_column.apply(lambda x : x.lower())\n",
    "\n",
    "def remove_accents(df_column):\n",
    "    return [unidecode.unidecode(text) for text in df_column]\n",
    "\n",
    "def remove_stopword(df, column_name):\n",
    "    stopwords = nltk.corpus.stopwords.words(\"english\")\n",
    "    tokenizer = tokenize.WordPunctTokenizer()\n",
    "    \n",
    "    for ponto in punctuation:\n",
    "        stopwords.append(ponto)\n",
    "    \n",
    "    frase_processada = list()\n",
    "    for review in df[column_name]:\n",
    "      nova_frase = list()\n",
    "      palavras_texto = tokenizer.tokenize(review)\n",
    "      for palavra in palavras_texto:\n",
    "          if palavra not in stopwords:\n",
    "              nova_frase.append(palavra)\n",
    "      frase_processada.append(' '.join(nova_frase))\n",
    "\n",
    "    return frase_processada\n",
    "\n",
    "df.text = df_lower(df.text)\n",
    "df.text = remove_accents(df.text)\n",
    "df.text = remove_stopword(df, 'text')\n",
    "df.head()"
   ]
  },
  {
   "cell_type": "markdown",
   "id": "d16f29a9-ca4f-4b48-8e49-8da11ef660bb",
   "metadata": {},
   "source": [
    "### 2. Separar entre treino e teste"
   ]
  },
  {
   "cell_type": "code",
   "execution_count": 213,
   "id": "4379bd5c-fe40-404b-8e9c-56bd59d54225",
   "metadata": {},
   "outputs": [],
   "source": [
    "x = df['text']\n",
    "y = df['label']\n",
    "\n",
    "x_train, x_test, y_train, y_test = train_test_split(x, y, random_state = 1, test_size=0.2, stratify=y)"
   ]
  },
  {
   "cell_type": "markdown",
   "id": "ec086a83-9bc8-42a1-8c9e-1a6c3bfe071f",
   "metadata": {},
   "source": [
    "### 3. Criar validação cruzada com o conjunto de treino + Criar as features com TD-IDF"
   ]
  },
  {
   "cell_type": "code",
   "execution_count": 214,
   "id": "f80064cf-bdcb-4e0e-82e0-6c248f13305b",
   "metadata": {},
   "outputs": [],
   "source": [
    "n_splits = 5\n",
    "kfolds = KFold(n_splits = n_splits)\n",
    "n_neighbors = list(range(5, 51, 5))"
   ]
  },
  {
   "cell_type": "code",
   "execution_count": 215,
   "id": "0790b604-5a62-4709-9618-e04c2e2e513f",
   "metadata": {},
   "outputs": [],
   "source": [
    "# Functions\n",
    "\n",
    "def define_kfold_subsets(x_train, y_train, train_idx, val_idx):\n",
    "    # Train subset\n",
    "    x_train_kfold = x_train.iloc[train_idx]\n",
    "    x_val_kfold = x_train.iloc[val_idx]\n",
    "    \n",
    "    # Validation subset\n",
    "    y_train_kfold = y_train.iloc[train_idx]\n",
    "    y_val_kfold = y_train.iloc[val_idx]\n",
    "\n",
    "    return x_train_kfold, x_val_kfold, y_train_kfold, y_val_kfold\n",
    "    \n",
    "\n",
    "def vectorizer(x_train_kfold, x_val_kfold):\n",
    "    tfidf = TfidfVectorizer(min_df = 10, max_features = 5000)\n",
    "    bow_train = tfidf.fit_transform(x_train_kfold)\n",
    "    bow_val = tfidf.transform(x_val_kfold)\n",
    "\n",
    "    return tfidf, bow_train, bow_val\n",
    "    \n",
    "\n",
    "def score(y_true, y_pred):\n",
    "    return {\n",
    "        \"accuracy\": accuracy_score(y_true, y_pred),\n",
    "        \"recall\": recall_score(y_true, y_pred),\n",
    "        \"precision\": precision_score(y_true, y_pred),\n",
    "        \"f1\": f1_score(y_true, y_pred),\n",
    "        \"cm\": confusion_matrix(y_true, y_pred),\n",
    "    }"
   ]
  },
  {
   "cell_type": "code",
   "execution_count": 216,
   "id": "760ec765-3c71-45dc-8456-77e03b77d831",
   "metadata": {},
   "outputs": [
    {
     "data": {
      "application/vnd.jupyter.widget-view+json": {
       "model_id": "80042be0dacd4ce8a79305ff95b16044",
       "version_major": 2,
       "version_minor": 0
      },
      "text/plain": [
       "  0%|          | 0/10 [00:00<?, ?it/s]"
      ]
     },
     "metadata": {},
     "output_type": "display_data"
    },
    {
     "data": {
      "application/vnd.jupyter.widget-view+json": {
       "model_id": "2b1f36f8e89b4a7f8ec7d39b7f132c54",
       "version_major": 2,
       "version_minor": 0
      },
      "text/plain": [
       "  0%|          | 0/5 [00:00<?, ?it/s]"
      ]
     },
     "metadata": {},
     "output_type": "display_data"
    },
    {
     "data": {
      "application/vnd.jupyter.widget-view+json": {
       "model_id": "ddfce64daad64180a4fed7a605dda352",
       "version_major": 2,
       "version_minor": 0
      },
      "text/plain": [
       "  0%|          | 0/5 [00:00<?, ?it/s]"
      ]
     },
     "metadata": {},
     "output_type": "display_data"
    },
    {
     "data": {
      "application/vnd.jupyter.widget-view+json": {
       "model_id": "e0fd49899867436e9cf49a7e48adf787",
       "version_major": 2,
       "version_minor": 0
      },
      "text/plain": [
       "  0%|          | 0/5 [00:00<?, ?it/s]"
      ]
     },
     "metadata": {},
     "output_type": "display_data"
    },
    {
     "data": {
      "application/vnd.jupyter.widget-view+json": {
       "model_id": "1af3250c39c84ca88385e906b31939da",
       "version_major": 2,
       "version_minor": 0
      },
      "text/plain": [
       "  0%|          | 0/5 [00:00<?, ?it/s]"
      ]
     },
     "metadata": {},
     "output_type": "display_data"
    },
    {
     "data": {
      "application/vnd.jupyter.widget-view+json": {
       "model_id": "4dcfc09435574e298809f38efdfc17e3",
       "version_major": 2,
       "version_minor": 0
      },
      "text/plain": [
       "  0%|          | 0/5 [00:00<?, ?it/s]"
      ]
     },
     "metadata": {},
     "output_type": "display_data"
    },
    {
     "data": {
      "application/vnd.jupyter.widget-view+json": {
       "model_id": "8439dbb5b5ec43fd86c9614c042ec8d8",
       "version_major": 2,
       "version_minor": 0
      },
      "text/plain": [
       "  0%|          | 0/5 [00:00<?, ?it/s]"
      ]
     },
     "metadata": {},
     "output_type": "display_data"
    },
    {
     "data": {
      "application/vnd.jupyter.widget-view+json": {
       "model_id": "1df3a5291a044753ba69b44447b3bebd",
       "version_major": 2,
       "version_minor": 0
      },
      "text/plain": [
       "  0%|          | 0/5 [00:00<?, ?it/s]"
      ]
     },
     "metadata": {},
     "output_type": "display_data"
    },
    {
     "data": {
      "application/vnd.jupyter.widget-view+json": {
       "model_id": "cf3c939ca81d430894417c1461c3affb",
       "version_major": 2,
       "version_minor": 0
      },
      "text/plain": [
       "  0%|          | 0/5 [00:00<?, ?it/s]"
      ]
     },
     "metadata": {},
     "output_type": "display_data"
    },
    {
     "data": {
      "application/vnd.jupyter.widget-view+json": {
       "model_id": "26c3b593982c41df882f3c6d4411f344",
       "version_major": 2,
       "version_minor": 0
      },
      "text/plain": [
       "  0%|          | 0/5 [00:00<?, ?it/s]"
      ]
     },
     "metadata": {},
     "output_type": "display_data"
    },
    {
     "data": {
      "application/vnd.jupyter.widget-view+json": {
       "model_id": "fd440be6f2d14c6bb56470453f8adbf6",
       "version_major": 2,
       "version_minor": 0
      },
      "text/plain": [
       "  0%|          | 0/5 [00:00<?, ?it/s]"
      ]
     },
     "metadata": {},
     "output_type": "display_data"
    }
   ],
   "source": [
    "results = []\n",
    "\n",
    "for nn in tqdm(n_neighbors):\n",
    "\n",
    "    results_fold = []\n",
    "    \n",
    "    for fold, (train_idx, val_idx) in tqdm(enumerate(kfolds.split(y_train)), total = n_splits):\n",
    "        # CREATE KNN\n",
    "        model = KNeighborsClassifier(n_neighbors = nn)\n",
    "        \n",
    "        # Define subsets\n",
    "        x_train_kfold, x_val_kfold, y_train_kfold, y_val_kfold = define_kfold_subsets(x_train, y_train, train_idx, val_idx)\n",
    "        \n",
    "        # Vectorizer subsets\n",
    "        tfidf, bow_train, bow_val = vectorizer(x_train_kfold, x_val_kfold)\n",
    "        \n",
    "        # Train\n",
    "        model.fit(bow_train, y_train_kfold)\n",
    "\n",
    "        # Assess Performance\n",
    "        y_train_kfold_pred = model.predict(bow_train)\n",
    "        y_val_kfold_pred = model.predict(bow_val)\n",
    "\n",
    "        results_fold.append({\n",
    "            \"tfidf\": copy.deepcopy(tfidf),\n",
    "            \"fold\": fold,\n",
    "            \"train\": score(y_train_kfold, y_train_kfold_pred),\n",
    "            \"val\": score(y_val_kfold, y_val_kfold_pred),\n",
    "            \"model\": copy.deepcopy(model),\n",
    "        })\n",
    "    results.append({\n",
    "        \"n_neighbors\": nn,\n",
    "        \"results\": results_fold\n",
    "    })"
   ]
  },
  {
   "cell_type": "markdown",
   "id": "47e6affb-d6bc-4d1e-a18d-77c23a14bc73",
   "metadata": {},
   "source": [
    "### 4. Avaliar resultados de treino"
   ]
  },
  {
   "cell_type": "code",
   "execution_count": 217,
   "id": "e6e03794-59b6-453b-97b6-a6a792cb52e4",
   "metadata": {},
   "outputs": [
    {
     "name": "stdout",
     "output_type": "stream",
     "text": [
      "VAL Model: k =  5\n",
      "accuracy 0.74 ± 0.11\n",
      "recall 0.54 ± 0.24\n",
      "precision 0.94 ± 0.03\n",
      "f1 0.66 ± 0.18\n",
      "\n",
      "TRAIN Model: k =  5\n",
      "accuracy 0.86 ± 0.11\n",
      "recall 0.74 ± 0.21\n",
      "precision 0.99 ± 0.00\n",
      "f1 0.83 ± 0.15\n",
      "\n",
      "---\n",
      "VAL Model: k =  10\n",
      "accuracy 0.89 ± 0.02\n",
      "recall 0.83 ± 0.04\n",
      "precision 0.97 ± 0.01\n",
      "f1 0.89 ± 0.02\n",
      "\n",
      "TRAIN Model: k =  10\n",
      "accuracy 0.92 ± 0.02\n",
      "recall 0.87 ± 0.04\n",
      "precision 0.98 ± 0.01\n",
      "f1 0.92 ± 0.02\n",
      "\n",
      "---\n",
      "VAL Model: k =  15\n",
      "accuracy 0.93 ± 0.00\n",
      "recall 0.92 ± 0.02\n",
      "precision 0.95 ± 0.01\n",
      "f1 0.94 ± 0.01\n",
      "\n",
      "TRAIN Model: k =  15\n",
      "accuracy 0.95 ± 0.00\n",
      "recall 0.94 ± 0.01\n",
      "precision 0.97 ± 0.01\n",
      "f1 0.95 ± 0.00\n",
      "\n",
      "---\n",
      "VAL Model: k =  20\n",
      "accuracy 0.93 ± 0.01\n",
      "recall 0.91 ± 0.02\n",
      "precision 0.96 ± 0.01\n",
      "f1 0.94 ± 0.01\n",
      "\n",
      "TRAIN Model: k =  20\n",
      "accuracy 0.95 ± 0.00\n",
      "recall 0.93 ± 0.01\n",
      "precision 0.97 ± 0.00\n",
      "f1 0.95 ± 0.00\n",
      "\n",
      "---\n",
      "VAL Model: k =  25\n",
      "accuracy 0.95 ± 0.00\n",
      "recall 0.94 ± 0.01\n",
      "precision 0.96 ± 0.00\n",
      "f1 0.95 ± 0.00\n",
      "\n",
      "TRAIN Model: k =  25\n",
      "accuracy 0.96 ± 0.00\n",
      "recall 0.95 ± 0.01\n",
      "precision 0.96 ± 0.00\n",
      "f1 0.96 ± 0.00\n",
      "\n",
      "---\n",
      "VAL Model: k =  30\n",
      "accuracy 0.95 ± 0.00\n",
      "recall 0.94 ± 0.01\n",
      "precision 0.96 ± 0.01\n",
      "f1 0.95 ± 0.00\n",
      "\n",
      "TRAIN Model: k =  30\n",
      "accuracy 0.96 ± 0.00\n",
      "recall 0.95 ± 0.01\n",
      "precision 0.97 ± 0.00\n",
      "f1 0.96 ± 0.00\n",
      "\n",
      "---\n",
      "VAL Model: k =  35\n",
      "accuracy 0.95 ± 0.00\n",
      "recall 0.95 ± 0.01\n",
      "precision 0.96 ± 0.00\n",
      "f1 0.95 ± 0.00\n",
      "\n",
      "TRAIN Model: k =  35\n",
      "accuracy 0.96 ± 0.00\n",
      "recall 0.96 ± 0.00\n",
      "precision 0.96 ± 0.00\n",
      "f1 0.96 ± 0.00\n",
      "\n",
      "---\n",
      "VAL Model: k =  40\n",
      "accuracy 0.95 ± 0.00\n",
      "recall 0.95 ± 0.01\n",
      "precision 0.96 ± 0.00\n",
      "f1 0.95 ± 0.00\n",
      "\n",
      "TRAIN Model: k =  40\n",
      "accuracy 0.96 ± 0.00\n",
      "recall 0.95 ± 0.01\n",
      "precision 0.97 ± 0.00\n",
      "f1 0.96 ± 0.00\n",
      "\n",
      "---\n",
      "VAL Model: k =  45\n",
      "accuracy 0.95 ± 0.00\n",
      "recall 0.96 ± 0.01\n",
      "precision 0.96 ± 0.00\n",
      "f1 0.96 ± 0.00\n",
      "\n",
      "TRAIN Model: k =  45\n",
      "accuracy 0.96 ± 0.00\n",
      "recall 0.96 ± 0.00\n",
      "precision 0.96 ± 0.00\n",
      "f1 0.96 ± 0.00\n",
      "\n",
      "---\n",
      "VAL Model: k =  50\n",
      "accuracy 0.95 ± 0.00\n",
      "recall 0.95 ± 0.01\n",
      "precision 0.96 ± 0.00\n",
      "f1 0.96 ± 0.00\n",
      "\n",
      "TRAIN Model: k =  50\n",
      "accuracy 0.96 ± 0.00\n",
      "recall 0.96 ± 0.00\n",
      "precision 0.97 ± 0.00\n",
      "f1 0.96 ± 0.00\n",
      "\n",
      "---\n"
     ]
    }
   ],
   "source": [
    "for item in results:\n",
    "    fold_result = [i[\"val\"] for i in item[\"results\"]]\n",
    "    \n",
    "    keys = list(fold_result[0].keys())\n",
    "    keys = [k for k in keys if k != \"cm\"]\n",
    "    \n",
    "    fold_result_df = pd.DataFrame(fold_result)\n",
    "    fold_result_df_mean = fold_result_df[keys].mean()\n",
    "    fold_result_df_std = fold_result_df[keys].std()\n",
    "\n",
    "    print(\"VAL Model: k = \", item['n_neighbors'])\n",
    "    for k in keys:\n",
    "        print(k, \"%.2f\"%fold_result_df_mean[k], \"± %0.2f\"%fold_result_df_std[k])\n",
    "    print()\n",
    "\n",
    "    fold_result = [i[\"train\"] for i in item[\"results\"]]\n",
    "    \n",
    "    keys = list(fold_result[0].keys())\n",
    "    keys = [k for k in keys if k != \"cm\"]\n",
    "    \n",
    "    fold_result_df = pd.DataFrame(fold_result)\n",
    "    fold_result_df_mean = fold_result_df[keys].mean()\n",
    "    fold_result_df_std = fold_result_df[keys].std()\n",
    "\n",
    "    print(\"TRAIN Model: k = \", item['n_neighbors'])\n",
    "    for k in keys:\n",
    "        print(k, \"%.2f\"%fold_result_df_mean[k], \"± %0.2f\"%fold_result_df_std[k])\n",
    "    print(\"\")\n",
    "    print(\"---\")"
   ]
  },
  {
   "cell_type": "markdown",
   "id": "e3208c22-fed0-4a2e-be54-75c0a68a0500",
   "metadata": {},
   "source": [
    "### 5. Avaliar resultados de teste"
   ]
  },
  {
   "cell_type": "code",
   "execution_count": 218,
   "id": "bf4cca70-3b10-449d-a2c2-a9a5932174ba",
   "metadata": {},
   "outputs": [
    {
     "data": {
      "application/vnd.jupyter.widget-view+json": {
       "model_id": "3b68cd19d2ad4524842e3ae0050fa316",
       "version_major": 2,
       "version_minor": 0
      },
      "text/plain": [
       "  0%|          | 0/10 [00:00<?, ?it/s]"
      ]
     },
     "metadata": {},
     "output_type": "display_data"
    },
    {
     "data": {
      "application/vnd.jupyter.widget-view+json": {
       "model_id": "ba8abd8bfb874384915b6013d87b717e",
       "version_major": 2,
       "version_minor": 0
      },
      "text/plain": [
       "  0%|          | 0/5 [00:00<?, ?it/s]"
      ]
     },
     "metadata": {},
     "output_type": "display_data"
    },
    {
     "data": {
      "application/vnd.jupyter.widget-view+json": {
       "model_id": "bcde3d75f9ec4f69ab2720c1a81f23ad",
       "version_major": 2,
       "version_minor": 0
      },
      "text/plain": [
       "  0%|          | 0/5 [00:00<?, ?it/s]"
      ]
     },
     "metadata": {},
     "output_type": "display_data"
    },
    {
     "data": {
      "application/vnd.jupyter.widget-view+json": {
       "model_id": "13da0a01b469442284550ea5085140cb",
       "version_major": 2,
       "version_minor": 0
      },
      "text/plain": [
       "  0%|          | 0/5 [00:00<?, ?it/s]"
      ]
     },
     "metadata": {},
     "output_type": "display_data"
    },
    {
     "data": {
      "application/vnd.jupyter.widget-view+json": {
       "model_id": "71999ad73e7343379d0aef1091e1f7a3",
       "version_major": 2,
       "version_minor": 0
      },
      "text/plain": [
       "  0%|          | 0/5 [00:00<?, ?it/s]"
      ]
     },
     "metadata": {},
     "output_type": "display_data"
    },
    {
     "data": {
      "application/vnd.jupyter.widget-view+json": {
       "model_id": "99cf362ffa254b66b6e0e47a4f1ee37d",
       "version_major": 2,
       "version_minor": 0
      },
      "text/plain": [
       "  0%|          | 0/5 [00:00<?, ?it/s]"
      ]
     },
     "metadata": {},
     "output_type": "display_data"
    },
    {
     "data": {
      "application/vnd.jupyter.widget-view+json": {
       "model_id": "30ff7b4ecb4741f8937a699e79180652",
       "version_major": 2,
       "version_minor": 0
      },
      "text/plain": [
       "  0%|          | 0/5 [00:00<?, ?it/s]"
      ]
     },
     "metadata": {},
     "output_type": "display_data"
    },
    {
     "data": {
      "application/vnd.jupyter.widget-view+json": {
       "model_id": "8c0f9dbd34604f2d8dd49f79fc6f337b",
       "version_major": 2,
       "version_minor": 0
      },
      "text/plain": [
       "  0%|          | 0/5 [00:00<?, ?it/s]"
      ]
     },
     "metadata": {},
     "output_type": "display_data"
    },
    {
     "data": {
      "application/vnd.jupyter.widget-view+json": {
       "model_id": "93e3bbbcc97c4ac19a6fd7ecabd0042d",
       "version_major": 2,
       "version_minor": 0
      },
      "text/plain": [
       "  0%|          | 0/5 [00:00<?, ?it/s]"
      ]
     },
     "metadata": {},
     "output_type": "display_data"
    },
    {
     "data": {
      "application/vnd.jupyter.widget-view+json": {
       "model_id": "643627442bc14684a8658faaa63a8369",
       "version_major": 2,
       "version_minor": 0
      },
      "text/plain": [
       "  0%|          | 0/5 [00:00<?, ?it/s]"
      ]
     },
     "metadata": {},
     "output_type": "display_data"
    },
    {
     "data": {
      "application/vnd.jupyter.widget-view+json": {
       "model_id": "de5f95a2143746ce9ace2eecbd321e54",
       "version_major": 2,
       "version_minor": 0
      },
      "text/plain": [
       "  0%|          | 0/5 [00:00<?, ?it/s]"
      ]
     },
     "metadata": {},
     "output_type": "display_data"
    }
   ],
   "source": [
    "results_test = []\n",
    "\n",
    "for n_knn in tqdm(results):\n",
    "    results_fold = []\n",
    "    for kfold in tqdm(n_knn['results']):\n",
    "        bow_test = kfold['tfidf'].transform(x_test)\n",
    "        y_test_pred = kfold['model'].predict(bow_test)\n",
    "        results_fold.append({\n",
    "            \"fold\": kfold['fold'],\n",
    "            \"test\": score(y_test, y_test_pred),\n",
    "        })\n",
    "    results_test.append({\n",
    "        \"n_neighbors\": n_knn['n_neighbors'],\n",
    "        \"results\": results_fold\n",
    "    })"
   ]
  },
  {
   "cell_type": "code",
   "execution_count": 221,
   "id": "53a6ec32-c2c3-4008-a367-d31a68dc5046",
   "metadata": {},
   "outputs": [
    {
     "data": {
      "text/plain": [
       "{'n_neighbors': 5,\n",
       " 'results': [{'fold': 0,\n",
       "   'test': {'accuracy': 0.6614618387400727,\n",
       "    'recall': 0.38907076303198185,\n",
       "    'precision': 0.945532435740514,\n",
       "    'f1': 0.5512934879571811,\n",
       "    'cm': array([[3369,   89],\n",
       "           [2426, 1545]])}},\n",
       "  {'fold': 1,\n",
       "   'test': {'accuracy': 0.6341364921254543,\n",
       "    'recall': 0.3268698060941828,\n",
       "    'precision': 0.9664929262844378,\n",
       "    'f1': 0.4885208882197968,\n",
       "    'cm': array([[3413,   45],\n",
       "           [2673, 1298]])}},\n",
       "  {'fold': 2,\n",
       "   'test': {'accuracy': 0.8347018441243774,\n",
       "    'recall': 0.716192394862755,\n",
       "    'precision': 0.965704584040747,\n",
       "    'f1': 0.8224407171775593,\n",
       "    'cm': array([[3357,  101],\n",
       "           [1127, 2844]])}},\n",
       "  {'fold': 3,\n",
       "   'test': {'accuracy': 0.8664692421591063,\n",
       "    'recall': 0.8728280030219089,\n",
       "    'precision': 0.8768024285352897,\n",
       "    'f1': 0.8748107016658253,\n",
       "    'cm': array([[2971,  487],\n",
       "           [ 505, 3466]])}},\n",
       "  {'fold': 4,\n",
       "   'test': {'accuracy': 0.6594427244582043,\n",
       "    'recall': 0.3870561571392596,\n",
       "    'precision': 0.9412124923453766,\n",
       "    'f1': 0.5485367594575303,\n",
       "    'cm': array([[3362,   96],\n",
       "           [2434, 1537]])}}]}"
      ]
     },
     "execution_count": 221,
     "metadata": {},
     "output_type": "execute_result"
    }
   ],
   "source": [
    "results_test[0]"
   ]
  },
  {
   "cell_type": "code",
   "execution_count": 224,
   "id": "2c28e768-efd6-4c0a-ba73-8a2815a2b729",
   "metadata": {},
   "outputs": [
    {
     "name": "stdout",
     "output_type": "stream",
     "text": [
      "VAL Model: k =  5\n",
      "accuracy 0.73 ± 0.11\n",
      "recall 0.54 ± 0.24\n",
      "precision 0.94 ± 0.04\n",
      "f1 0.66 ± 0.18\n",
      "\n",
      "VAL Model: k =  10\n",
      "accuracy 0.89 ± 0.02\n",
      "recall 0.83 ± 0.04\n",
      "precision 0.97 ± 0.01\n",
      "f1 0.89 ± 0.02\n",
      "\n",
      "VAL Model: k =  15\n",
      "accuracy 0.94 ± 0.01\n",
      "recall 0.92 ± 0.02\n",
      "precision 0.95 ± 0.01\n",
      "f1 0.94 ± 0.01\n",
      "\n",
      "VAL Model: k =  20\n",
      "accuracy 0.94 ± 0.00\n",
      "recall 0.92 ± 0.01\n",
      "precision 0.96 ± 0.01\n",
      "f1 0.94 ± 0.00\n",
      "\n",
      "VAL Model: k =  25\n",
      "accuracy 0.95 ± 0.00\n",
      "recall 0.94 ± 0.01\n",
      "precision 0.96 ± 0.01\n",
      "f1 0.95 ± 0.00\n",
      "\n",
      "VAL Model: k =  30\n",
      "accuracy 0.95 ± 0.00\n",
      "recall 0.94 ± 0.01\n",
      "precision 0.96 ± 0.01\n",
      "f1 0.95 ± 0.00\n",
      "\n",
      "VAL Model: k =  35\n",
      "accuracy 0.95 ± 0.00\n",
      "recall 0.95 ± 0.01\n",
      "precision 0.96 ± 0.00\n",
      "f1 0.95 ± 0.00\n",
      "\n",
      "VAL Model: k =  40\n",
      "accuracy 0.95 ± 0.00\n",
      "recall 0.95 ± 0.00\n",
      "precision 0.96 ± 0.00\n",
      "f1 0.96 ± 0.00\n",
      "\n",
      "VAL Model: k =  45\n",
      "accuracy 0.95 ± 0.00\n",
      "recall 0.96 ± 0.00\n",
      "precision 0.96 ± 0.01\n",
      "f1 0.96 ± 0.00\n",
      "\n",
      "VAL Model: k =  50\n",
      "accuracy 0.96 ± 0.00\n",
      "recall 0.95 ± 0.00\n",
      "precision 0.96 ± 0.00\n",
      "f1 0.96 ± 0.00\n",
      "\n"
     ]
    }
   ],
   "source": [
    "for item in results_test:\n",
    "    fold_result = [i[\"test\"] for i in item[\"results\"]]\n",
    "    \n",
    "    keys = list(fold_result[0].keys())\n",
    "    keys = [k for k in keys if k != \"cm\"]\n",
    "    \n",
    "    fold_result_df = pd.DataFrame(fold_result)\n",
    "    fold_result_df_mean = fold_result_df[keys].mean()\n",
    "    fold_result_df_std = fold_result_df[keys].std()\n",
    "\n",
    "    print(\"VAL Model: k = \", item['n_neighbors'])\n",
    "    for k in keys:\n",
    "        print(k, \"%.2f\"%fold_result_df_mean[k], \"± %0.2f\"%fold_result_df_std[k])\n",
    "    print()"
   ]
  },
  {
   "cell_type": "code",
   "execution_count": null,
   "id": "4ec795a8-2151-476d-8f96-f76f6a32915b",
   "metadata": {},
   "outputs": [],
   "source": []
  }
 ],
 "metadata": {
  "kernelspec": {
   "display_name": "Python 3 (ipykernel)",
   "language": "python",
   "name": "python3"
  },
  "language_info": {
   "codemirror_mode": {
    "name": "ipython",
    "version": 3
   },
   "file_extension": ".py",
   "mimetype": "text/x-python",
   "name": "python",
   "nbconvert_exporter": "python",
   "pygments_lexer": "ipython3",
   "version": "3.11.9"
  }
 },
 "nbformat": 4,
 "nbformat_minor": 5
}
