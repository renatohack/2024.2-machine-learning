{
 "cells": [
  {
   "cell_type": "markdown",
   "id": "8afb0ce0-0c87-4f4e-b742-47d344f1b416",
   "metadata": {},
   "source": [
    "### Imports"
   ]
  },
  {
   "cell_type": "code",
   "execution_count": 83,
   "id": "80084dd7-12ef-49ec-8fd7-cad3452729c9",
   "metadata": {
    "scrolled": true
   },
   "outputs": [
    {
     "name": "stdout",
     "output_type": "stream",
     "text": [
      "Requirement already satisfied: Unidecode in /opt/conda/lib/python3.11/site-packages (1.3.8)\n",
      "Requirement already satisfied: nltk in /opt/conda/lib/python3.11/site-packages (3.8.1)\n",
      "Requirement already satisfied: click in /opt/conda/lib/python3.11/site-packages (from nltk) (8.1.7)\n",
      "Requirement already satisfied: joblib in /opt/conda/lib/python3.11/site-packages (from nltk) (1.4.0)\n",
      "Requirement already satisfied: regex>=2021.8.3 in /opt/conda/lib/python3.11/site-packages (from nltk) (2024.5.15)\n",
      "Requirement already satisfied: tqdm in /opt/conda/lib/python3.11/site-packages (from nltk) (4.66.2)\n"
     ]
    },
    {
     "name": "stderr",
     "output_type": "stream",
     "text": [
      "[nltk_data] Downloading collection 'popular'\n",
      "[nltk_data]    | \n",
      "[nltk_data]    | Downloading package cmudict to\n",
      "[nltk_data]    |     /home/jovyan/nltk_data...\n",
      "[nltk_data]    |   Package cmudict is already up-to-date!\n",
      "[nltk_data]    | Downloading package gazetteers to\n",
      "[nltk_data]    |     /home/jovyan/nltk_data...\n",
      "[nltk_data]    |   Package gazetteers is already up-to-date!\n",
      "[nltk_data]    | Downloading package genesis to\n",
      "[nltk_data]    |     /home/jovyan/nltk_data...\n",
      "[nltk_data]    |   Package genesis is already up-to-date!\n",
      "[nltk_data]    | Downloading package gutenberg to\n",
      "[nltk_data]    |     /home/jovyan/nltk_data...\n",
      "[nltk_data]    |   Package gutenberg is already up-to-date!\n",
      "[nltk_data]    | Downloading package inaugural to\n",
      "[nltk_data]    |     /home/jovyan/nltk_data...\n",
      "[nltk_data]    |   Package inaugural is already up-to-date!\n",
      "[nltk_data]    | Downloading package movie_reviews to\n",
      "[nltk_data]    |     /home/jovyan/nltk_data...\n",
      "[nltk_data]    |   Package movie_reviews is already up-to-date!\n",
      "[nltk_data]    | Downloading package names to\n",
      "[nltk_data]    |     /home/jovyan/nltk_data...\n",
      "[nltk_data]    |   Package names is already up-to-date!\n",
      "[nltk_data]    | Downloading package shakespeare to\n",
      "[nltk_data]    |     /home/jovyan/nltk_data...\n",
      "[nltk_data]    |   Package shakespeare is already up-to-date!\n",
      "[nltk_data]    | Downloading package stopwords to\n",
      "[nltk_data]    |     /home/jovyan/nltk_data...\n",
      "[nltk_data]    |   Package stopwords is already up-to-date!\n",
      "[nltk_data]    | Downloading package treebank to\n",
      "[nltk_data]    |     /home/jovyan/nltk_data...\n",
      "[nltk_data]    |   Package treebank is already up-to-date!\n",
      "[nltk_data]    | Downloading package twitter_samples to\n",
      "[nltk_data]    |     /home/jovyan/nltk_data...\n",
      "[nltk_data]    |   Package twitter_samples is already up-to-date!\n",
      "[nltk_data]    | Downloading package omw to /home/jovyan/nltk_data...\n",
      "[nltk_data]    |   Package omw is already up-to-date!\n",
      "[nltk_data]    | Downloading package omw-1.4 to\n",
      "[nltk_data]    |     /home/jovyan/nltk_data...\n",
      "[nltk_data]    |   Package omw-1.4 is already up-to-date!\n",
      "[nltk_data]    | Downloading package wordnet to\n",
      "[nltk_data]    |     /home/jovyan/nltk_data...\n",
      "[nltk_data]    |   Package wordnet is already up-to-date!\n",
      "[nltk_data]    | Downloading package wordnet2021 to\n",
      "[nltk_data]    |     /home/jovyan/nltk_data...\n",
      "[nltk_data]    |   Package wordnet2021 is already up-to-date!\n",
      "[nltk_data]    | Downloading package wordnet31 to\n",
      "[nltk_data]    |     /home/jovyan/nltk_data...\n",
      "[nltk_data]    |   Package wordnet31 is already up-to-date!\n",
      "[nltk_data]    | Downloading package wordnet_ic to\n",
      "[nltk_data]    |     /home/jovyan/nltk_data...\n",
      "[nltk_data]    |   Package wordnet_ic is already up-to-date!\n",
      "[nltk_data]    | Downloading package words to\n",
      "[nltk_data]    |     /home/jovyan/nltk_data...\n",
      "[nltk_data]    |   Package words is already up-to-date!\n",
      "[nltk_data]    | Downloading package maxent_ne_chunker to\n",
      "[nltk_data]    |     /home/jovyan/nltk_data...\n",
      "[nltk_data]    |   Package maxent_ne_chunker is already up-to-date!\n",
      "[nltk_data]    | Downloading package punkt to\n",
      "[nltk_data]    |     /home/jovyan/nltk_data...\n",
      "[nltk_data]    |   Package punkt is already up-to-date!\n",
      "[nltk_data]    | Downloading package snowball_data to\n",
      "[nltk_data]    |     /home/jovyan/nltk_data...\n",
      "[nltk_data]    |   Package snowball_data is already up-to-date!\n",
      "[nltk_data]    | Downloading package averaged_perceptron_tagger to\n",
      "[nltk_data]    |     /home/jovyan/nltk_data...\n",
      "[nltk_data]    |   Package averaged_perceptron_tagger is already up-\n",
      "[nltk_data]    |       to-date!\n",
      "[nltk_data]    | \n",
      "[nltk_data]  Done downloading collection popular\n",
      "[nltk_data] Downloading package rslp to /home/jovyan/nltk_data...\n",
      "[nltk_data]   Package rslp is already up-to-date!\n"
     ]
    },
    {
     "data": {
      "text/plain": [
       "True"
      ]
     },
     "execution_count": 83,
     "metadata": {},
     "output_type": "execute_result"
    }
   ],
   "source": [
    "!pip install Unidecode\n",
    "!pip install nltk\n",
    "nltk.download(\"popular\")\n",
    "nltk.download('rslp')"
   ]
  },
  {
   "cell_type": "code",
   "execution_count": 84,
   "id": "21dbac50-21c4-4b08-b4e1-7f23babb5964",
   "metadata": {
    "scrolled": true
   },
   "outputs": [],
   "source": [
    "import pandas as pd\n",
    "\n",
    "from sklearn.feature_extraction.text import TfidfVectorizer\n",
    "from sklearn.model_selection import train_test_split, KFold\n",
    "from sklearn.neighbors import KNeighborsClassifier\n",
    "from sklearn.metrics import (accuracy_score, recall_score, precision_score, f1_score,\n",
    "                             confusion_matrix, roc_auc_score, roc_curve, RocCurveDisplay, auc)\n",
    "\n",
    "from tqdm.auto import tqdm\n",
    "\n",
    "import matplotlib.pyplot as plt\n",
    "import seaborn as sns\n",
    "\n",
    "import copy as copy\n",
    "import unidecode\n",
    "\n",
    "import nltk\n",
    "from nltk import tokenize\n",
    "from string import punctuation\n",
    "import numpy as np"
   ]
  },
  {
   "cell_type": "markdown",
   "id": "9d25a63b-a29f-4a43-b09f-75bfa0774b7b",
   "metadata": {},
   "source": [
    "### 1. Carregar os dados"
   ]
  },
  {
   "cell_type": "code",
   "execution_count": 85,
   "id": "1d6fe0b0-874a-43c1-bdfa-91beb1fc4606",
   "metadata": {
    "scrolled": true
   },
   "outputs": [
    {
     "data": {
      "text/html": [
       "<div>\n",
       "<style scoped>\n",
       "    .dataframe tbody tr th:only-of-type {\n",
       "        vertical-align: middle;\n",
       "    }\n",
       "\n",
       "    .dataframe tbody tr th {\n",
       "        vertical-align: top;\n",
       "    }\n",
       "\n",
       "    .dataframe thead th {\n",
       "        text-align: right;\n",
       "    }\n",
       "</style>\n",
       "<table border=\"1\" class=\"dataframe\">\n",
       "  <thead>\n",
       "    <tr style=\"text-align: right;\">\n",
       "      <th></th>\n",
       "      <th>text</th>\n",
       "      <th>label</th>\n",
       "    </tr>\n",
       "  </thead>\n",
       "  <tbody>\n",
       "    <tr>\n",
       "      <th>0</th>\n",
       "      <td>ive enjoyed being able to slouch about relax a...</td>\n",
       "      <td>0.0</td>\n",
       "    </tr>\n",
       "    <tr>\n",
       "      <th>1</th>\n",
       "      <td>i dont know i feel so lost</td>\n",
       "      <td>0.0</td>\n",
       "    </tr>\n",
       "    <tr>\n",
       "      <th>2</th>\n",
       "      <td>i was beginning to feel quite disheartened</td>\n",
       "      <td>0.0</td>\n",
       "    </tr>\n",
       "    <tr>\n",
       "      <th>3</th>\n",
       "      <td>i fear that they won t ever feel that deliciou...</td>\n",
       "      <td>1.0</td>\n",
       "    </tr>\n",
       "    <tr>\n",
       "      <th>4</th>\n",
       "      <td>i can still lose the weight without feeling de...</td>\n",
       "      <td>0.0</td>\n",
       "    </tr>\n",
       "  </tbody>\n",
       "</table>\n",
       "</div>"
      ],
      "text/plain": [
       "                                                text  label\n",
       "0  ive enjoyed being able to slouch about relax a...    0.0\n",
       "1                         i dont know i feel so lost    0.0\n",
       "2         i was beginning to feel quite disheartened    0.0\n",
       "3  i fear that they won t ever feel that deliciou...    1.0\n",
       "4  i can still lose the weight without feeling de...    0.0"
      ]
     },
     "execution_count": 85,
     "metadata": {},
     "output_type": "execute_result"
    }
   ],
   "source": [
    "df = pd.read_csv('text.csv')\n",
    "\n",
    "df = df[(df['label'] == 0) | (df['label'] == 1)].copy().reset_index(drop=True)\n",
    "df = df.drop(columns=df.columns[0], axis=1)\n",
    "\n",
    "df.head()"
   ]
  },
  {
   "cell_type": "markdown",
   "id": "6847920e-0ba1-4af4-bc44-2264677722e3",
   "metadata": {},
   "source": [
    "### Pré-Processamento"
   ]
  },
  {
   "cell_type": "code",
   "execution_count": 86,
   "id": "4d92e028-e6cf-4615-91c8-f7d36f070f1a",
   "metadata": {},
   "outputs": [
    {
     "data": {
      "text/html": [
       "<div>\n",
       "<style scoped>\n",
       "    .dataframe tbody tr th:only-of-type {\n",
       "        vertical-align: middle;\n",
       "    }\n",
       "\n",
       "    .dataframe tbody tr th {\n",
       "        vertical-align: top;\n",
       "    }\n",
       "\n",
       "    .dataframe thead th {\n",
       "        text-align: right;\n",
       "    }\n",
       "</style>\n",
       "<table border=\"1\" class=\"dataframe\">\n",
       "  <thead>\n",
       "    <tr style=\"text-align: right;\">\n",
       "      <th></th>\n",
       "      <th>text</th>\n",
       "      <th>label</th>\n",
       "    </tr>\n",
       "  </thead>\n",
       "  <tbody>\n",
       "    <tr>\n",
       "      <th>0</th>\n",
       "      <td>ive enjoyed able slouch relax unwind frankly n...</td>\n",
       "      <td>0.0</td>\n",
       "    </tr>\n",
       "    <tr>\n",
       "      <th>1</th>\n",
       "      <td>dont know feel lost</td>\n",
       "      <td>0.0</td>\n",
       "    </tr>\n",
       "    <tr>\n",
       "      <th>2</th>\n",
       "      <td>beginning feel quite disheartened</td>\n",
       "      <td>0.0</td>\n",
       "    </tr>\n",
       "    <tr>\n",
       "      <th>3</th>\n",
       "      <td>fear ever feel delicious excitement christmas ...</td>\n",
       "      <td>1.0</td>\n",
       "    </tr>\n",
       "    <tr>\n",
       "      <th>4</th>\n",
       "      <td>still lose weight without feeling deprived</td>\n",
       "      <td>0.0</td>\n",
       "    </tr>\n",
       "  </tbody>\n",
       "</table>\n",
       "</div>"
      ],
      "text/plain": [
       "                                                text  label\n",
       "0  ive enjoyed able slouch relax unwind frankly n...    0.0\n",
       "1                                dont know feel lost    0.0\n",
       "2                  beginning feel quite disheartened    0.0\n",
       "3  fear ever feel delicious excitement christmas ...    1.0\n",
       "4         still lose weight without feeling deprived    0.0"
      ]
     },
     "execution_count": 86,
     "metadata": {},
     "output_type": "execute_result"
    }
   ],
   "source": [
    "def df_lower(df_column):\n",
    "    return df_column.apply(lambda x : x.lower())\n",
    "\n",
    "def remove_accents(df_column):\n",
    "    return [unidecode.unidecode(text) for text in df_column]\n",
    "\n",
    "def remove_stopword(df, column_name):\n",
    "    stopwords = nltk.corpus.stopwords.words(\"english\")\n",
    "    tokenizer = tokenize.WordPunctTokenizer()\n",
    "    \n",
    "    for ponto in punctuation:\n",
    "        stopwords.append(ponto)\n",
    "    \n",
    "    frase_processada = list()\n",
    "    for review in df[column_name]:\n",
    "      nova_frase = list()\n",
    "      palavras_texto = tokenizer.tokenize(review)\n",
    "      for palavra in palavras_texto:\n",
    "          if palavra not in stopwords:\n",
    "              nova_frase.append(palavra)\n",
    "      frase_processada.append(' '.join(nova_frase))\n",
    "\n",
    "    return frase_processada\n",
    "\n",
    "df.text = df_lower(df.text)\n",
    "df.text = remove_accents(df.text)\n",
    "df.text = remove_stopword(df, 'text')\n",
    "df.head()"
   ]
  },
  {
   "cell_type": "markdown",
   "id": "d16f29a9-ca4f-4b48-8e49-8da11ef660bb",
   "metadata": {},
   "source": [
    "### 2. Separar entre treino e teste"
   ]
  },
  {
   "cell_type": "code",
   "execution_count": 87,
   "id": "4379bd5c-fe40-404b-8e9c-56bd59d54225",
   "metadata": {},
   "outputs": [],
   "source": [
    "x = df['text']\n",
    "y = df['label']\n",
    "\n",
    "x_train, x_test, y_train, y_test = train_test_split(x, y, random_state = 1, test_size=0.2, stratify=y)"
   ]
  },
  {
   "cell_type": "markdown",
   "id": "ec086a83-9bc8-42a1-8c9e-1a6c3bfe071f",
   "metadata": {},
   "source": [
    "### 3. Criar validação cruzada com o conjunto de treino + Criar as features com TD-IDF"
   ]
  },
  {
   "cell_type": "code",
   "execution_count": 88,
   "id": "f80064cf-bdcb-4e0e-82e0-6c248f13305b",
   "metadata": {},
   "outputs": [],
   "source": [
    "n_splits = 5\n",
    "kfolds = KFold(n_splits = n_splits)\n",
    "n_neighbors = list(range(5, 51, 5))"
   ]
  },
  {
   "cell_type": "code",
   "execution_count": 89,
   "id": "0790b604-5a62-4709-9618-e04c2e2e513f",
   "metadata": {},
   "outputs": [],
   "source": [
    "# Functions\n",
    "\n",
    "def define_kfold_subsets(x_train, y_train, train_idx, val_idx):\n",
    "    # Train subset\n",
    "    x_train_kfold = x_train.iloc[train_idx]\n",
    "    x_val_kfold = x_train.iloc[val_idx]\n",
    "    \n",
    "    # Validation subset\n",
    "    y_train_kfold = y_train.iloc[train_idx]\n",
    "    y_val_kfold = y_train.iloc[val_idx]\n",
    "\n",
    "    return x_train_kfold, x_val_kfold, y_train_kfold, y_val_kfold\n",
    "    \n",
    "\n",
    "def vectorizer(x_train_kfold, x_val_kfold):\n",
    "    tfidf = TfidfVectorizer(min_df = 10, max_features = 5000)\n",
    "    bow_train = tfidf.fit_transform(x_train_kfold)\n",
    "    bow_val = tfidf.transform(x_val_kfold)\n",
    "\n",
    "    return tfidf, bow_train, bow_val\n",
    "    \n",
    "\n",
    "def score(y_true, y_pred):\n",
    "    return {\n",
    "        \"accuracy\": accuracy_score(y_true, y_pred),\n",
    "        \"recall\": recall_score(y_true, y_pred),\n",
    "        \"precision\": precision_score(y_true, y_pred),\n",
    "        \"f1\": f1_score(y_true, y_pred),\n",
    "        \"cm\": confusion_matrix(y_true, y_pred),\n",
    "    }"
   ]
  },
  {
   "cell_type": "code",
   "execution_count": 90,
   "id": "760ec765-3c71-45dc-8456-77e03b77d831",
   "metadata": {},
   "outputs": [
    {
     "data": {
      "application/vnd.jupyter.widget-view+json": {
       "model_id": "6731332b947244328184d3db4c4e6c17",
       "version_major": 2,
       "version_minor": 0
      },
      "text/plain": [
       "  0%|          | 0/10 [00:00<?, ?it/s]"
      ]
     },
     "metadata": {},
     "output_type": "display_data"
    },
    {
     "data": {
      "application/vnd.jupyter.widget-view+json": {
       "model_id": "428005ba0a9d4b6eb1bff95fdf9ff2f3",
       "version_major": 2,
       "version_minor": 0
      },
      "text/plain": [
       "  0%|          | 0/5 [00:00<?, ?it/s]"
      ]
     },
     "metadata": {},
     "output_type": "display_data"
    },
    {
     "data": {
      "application/vnd.jupyter.widget-view+json": {
       "model_id": "c16f2f99726748b7b87c2fe9236d6d3e",
       "version_major": 2,
       "version_minor": 0
      },
      "text/plain": [
       "  0%|          | 0/5 [00:00<?, ?it/s]"
      ]
     },
     "metadata": {},
     "output_type": "display_data"
    },
    {
     "data": {
      "application/vnd.jupyter.widget-view+json": {
       "model_id": "cc23e1847fec40c3a52bd39e294b619e",
       "version_major": 2,
       "version_minor": 0
      },
      "text/plain": [
       "  0%|          | 0/5 [00:00<?, ?it/s]"
      ]
     },
     "metadata": {},
     "output_type": "display_data"
    },
    {
     "data": {
      "application/vnd.jupyter.widget-view+json": {
       "model_id": "a56cd3478e5248e5b496d9c6557be0ec",
       "version_major": 2,
       "version_minor": 0
      },
      "text/plain": [
       "  0%|          | 0/5 [00:00<?, ?it/s]"
      ]
     },
     "metadata": {},
     "output_type": "display_data"
    },
    {
     "data": {
      "application/vnd.jupyter.widget-view+json": {
       "model_id": "55bb3029d9a34ad4b823f99b0f489665",
       "version_major": 2,
       "version_minor": 0
      },
      "text/plain": [
       "  0%|          | 0/5 [00:00<?, ?it/s]"
      ]
     },
     "metadata": {},
     "output_type": "display_data"
    },
    {
     "data": {
      "application/vnd.jupyter.widget-view+json": {
       "model_id": "78dbdd093cd14b9ca77dfaf125b0b3b2",
       "version_major": 2,
       "version_minor": 0
      },
      "text/plain": [
       "  0%|          | 0/5 [00:00<?, ?it/s]"
      ]
     },
     "metadata": {},
     "output_type": "display_data"
    },
    {
     "data": {
      "application/vnd.jupyter.widget-view+json": {
       "model_id": "68258accf0c646c891067ce3cd04df28",
       "version_major": 2,
       "version_minor": 0
      },
      "text/plain": [
       "  0%|          | 0/5 [00:00<?, ?it/s]"
      ]
     },
     "metadata": {},
     "output_type": "display_data"
    },
    {
     "data": {
      "application/vnd.jupyter.widget-view+json": {
       "model_id": "d91e0e50d8304c4790f04d5a6880fc36",
       "version_major": 2,
       "version_minor": 0
      },
      "text/plain": [
       "  0%|          | 0/5 [00:00<?, ?it/s]"
      ]
     },
     "metadata": {},
     "output_type": "display_data"
    },
    {
     "data": {
      "application/vnd.jupyter.widget-view+json": {
       "model_id": "9255811312ec411c98cd2ec84335d31c",
       "version_major": 2,
       "version_minor": 0
      },
      "text/plain": [
       "  0%|          | 0/5 [00:00<?, ?it/s]"
      ]
     },
     "metadata": {},
     "output_type": "display_data"
    },
    {
     "data": {
      "application/vnd.jupyter.widget-view+json": {
       "model_id": "160cdad4be564c22a885a56ce86bb101",
       "version_major": 2,
       "version_minor": 0
      },
      "text/plain": [
       "  0%|          | 0/5 [00:00<?, ?it/s]"
      ]
     },
     "metadata": {},
     "output_type": "display_data"
    }
   ],
   "source": [
    "results = []\n",
    "\n",
    "for nn in tqdm(n_neighbors):\n",
    "\n",
    "    results_fold = []\n",
    "    \n",
    "    for fold, (train_idx, val_idx) in tqdm(enumerate(kfolds.split(y_train)), total = n_splits):\n",
    "        # CREATE KNN\n",
    "        model = KNeighborsClassifier(n_neighbors = nn)\n",
    "        \n",
    "        # Define subsets\n",
    "        x_train_kfold, x_val_kfold, y_train_kfold, y_val_kfold = define_kfold_subsets(x_train, y_train, train_idx, val_idx)\n",
    "        \n",
    "        # Vectorizer subsets\n",
    "        tfidf, bow_train, bow_val = vectorizer(x_train_kfold, x_val_kfold)\n",
    "        \n",
    "        # Train\n",
    "        model.fit(bow_train, y_train_kfold)\n",
    "\n",
    "        # Assess Performance\n",
    "        y_train_kfold_pred = model.predict(bow_train)\n",
    "        y_val_kfold_pred = model.predict(bow_val)\n",
    "\n",
    "        results_fold.append({\n",
    "            \"tfidf\": copy.deepcopy(tfidf),\n",
    "            \"fold\": fold,\n",
    "            \"train\": score(y_train_kfold, y_train_kfold_pred),\n",
    "            \"val\": score(y_val_kfold, y_val_kfold_pred),\n",
    "            \"model\": copy.deepcopy(model),\n",
    "        })\n",
    "    results.append({\n",
    "        \"n_neighbors\": nn,\n",
    "        \"results\": results_fold\n",
    "    })"
   ]
  },
  {
   "cell_type": "markdown",
   "id": "47e6affb-d6bc-4d1e-a18d-77c23a14bc73",
   "metadata": {},
   "source": [
    "### 4. Avaliar resultados de treino"
   ]
  },
  {
   "cell_type": "code",
   "execution_count": 91,
   "id": "e1ceeaaa-8e63-4b6a-b6cd-8e1e3f29561b",
   "metadata": {
    "jupyter": {
     "source_hidden": true
    },
    "scrolled": true
   },
   "outputs": [
    {
     "data": {
      "text/plain": [
       "'\\nfor item in results:\\n    fold_result = [i[\"val\"] for i in item[\"results\"]] # 5 dicionarios de acc, recall, etc\\n    \\n    keys = list(fold_result[0].keys())\\n    keys = [k for k in keys if k != \"cm\"]\\n    \\n    fold_result_df = pd.DataFrame(fold_result)\\n    fold_result_df_mean = fold_result_df[keys].mean()\\n    fold_result_df_std = fold_result_df[keys].std()\\n\\n    print(\"VAL Model: k = \", item[\\'n_neighbors\\'])\\n    for k in keys:\\n        print(k, \"%.2f\"%fold_result_df_mean[k], \"± %0.2f\"%fold_result_df_std[k])\\n    print()\\n\\n    fold_result = [i[\"train\"] for i in item[\"results\"]]\\n    \\n    keys = list(fold_result[0].keys())\\n    keys = [k for k in keys if k != \"cm\"]\\n    \\n    fold_result_df = pd.DataFrame(fold_result)\\n    fold_result_df_mean = fold_result_df[keys].mean()\\n    fold_result_df_std = fold_result_df[keys].std()\\n\\n    print(fold_result_df_mean[\\'accuracy\\'])\\n\\n    print(\"TRAIN Model: k = \", item[\\'n_neighbors\\'])\\n    for k in keys:\\n        print(k, \"%.2f\"%fold_result_df_mean[k], \"± %0.2f\"%fold_result_df_std[k])\\n    print(\"\")\\n    print(\"---\")\\n'"
      ]
     },
     "execution_count": 91,
     "metadata": {},
     "output_type": "execute_result"
    }
   ],
   "source": [
    "'''\n",
    "for item in results:\n",
    "    fold_result = [i[\"val\"] for i in item[\"results\"]] # 5 dicionarios de acc, recall, etc\n",
    "    \n",
    "    keys = list(fold_result[0].keys())\n",
    "    keys = [k for k in keys if k != \"cm\"]\n",
    "    \n",
    "    fold_result_df = pd.DataFrame(fold_result)\n",
    "    fold_result_df_mean = fold_result_df[keys].mean()\n",
    "    fold_result_df_std = fold_result_df[keys].std()\n",
    "\n",
    "    print(\"VAL Model: k = \", item['n_neighbors'])\n",
    "    for k in keys:\n",
    "        print(k, \"%.2f\"%fold_result_df_mean[k], \"± %0.2f\"%fold_result_df_std[k])\n",
    "    print()\n",
    "\n",
    "    fold_result = [i[\"train\"] for i in item[\"results\"]]\n",
    "    \n",
    "    keys = list(fold_result[0].keys())\n",
    "    keys = [k for k in keys if k != \"cm\"]\n",
    "    \n",
    "    fold_result_df = pd.DataFrame(fold_result)\n",
    "    fold_result_df_mean = fold_result_df[keys].mean()\n",
    "    fold_result_df_std = fold_result_df[keys].std()\n",
    "\n",
    "    print(fold_result_df_mean['accuracy'])\n",
    "\n",
    "    print(\"TRAIN Model: k = \", item['n_neighbors'])\n",
    "    for k in keys:\n",
    "        print(k, \"%.2f\"%fold_result_df_mean[k], \"± %0.2f\"%fold_result_df_std[k])\n",
    "    print(\"\")\n",
    "    print(\"---\")\n",
    "'''"
   ]
  },
  {
   "cell_type": "code",
   "execution_count": 92,
   "id": "e6e03794-59b6-453b-97b6-a6a792cb52e4",
   "metadata": {},
   "outputs": [
    {
     "data": {
      "text/html": [
       "<div>\n",
       "<style scoped>\n",
       "    .dataframe tbody tr th:only-of-type {\n",
       "        vertical-align: middle;\n",
       "    }\n",
       "\n",
       "    .dataframe tbody tr th {\n",
       "        vertical-align: top;\n",
       "    }\n",
       "\n",
       "    .dataframe thead th {\n",
       "        text-align: right;\n",
       "    }\n",
       "</style>\n",
       "<table border=\"1\" class=\"dataframe\">\n",
       "  <thead>\n",
       "    <tr style=\"text-align: right;\">\n",
       "      <th></th>\n",
       "      <th>k</th>\n",
       "      <th>accuracy</th>\n",
       "      <th>recall</th>\n",
       "      <th>precision</th>\n",
       "      <th>f1</th>\n",
       "    </tr>\n",
       "  </thead>\n",
       "  <tbody>\n",
       "    <tr>\n",
       "      <th>0</th>\n",
       "      <td>5</td>\n",
       "      <td>0.74 ± 0.11</td>\n",
       "      <td>0.54 ± 0.24</td>\n",
       "      <td>0.94 ± 0.03</td>\n",
       "      <td>0.66 ± 0.18</td>\n",
       "    </tr>\n",
       "    <tr>\n",
       "      <th>1</th>\n",
       "      <td>10</td>\n",
       "      <td>0.89 ± 0.02</td>\n",
       "      <td>0.83 ± 0.04</td>\n",
       "      <td>0.97 ± 0.01</td>\n",
       "      <td>0.89 ± 0.02</td>\n",
       "    </tr>\n",
       "    <tr>\n",
       "      <th>2</th>\n",
       "      <td>15</td>\n",
       "      <td>0.93 ± 0.00</td>\n",
       "      <td>0.92 ± 0.02</td>\n",
       "      <td>0.95 ± 0.01</td>\n",
       "      <td>0.94 ± 0.01</td>\n",
       "    </tr>\n",
       "    <tr>\n",
       "      <th>3</th>\n",
       "      <td>20</td>\n",
       "      <td>0.93 ± 0.01</td>\n",
       "      <td>0.91 ± 0.02</td>\n",
       "      <td>0.96 ± 0.01</td>\n",
       "      <td>0.94 ± 0.01</td>\n",
       "    </tr>\n",
       "    <tr>\n",
       "      <th>4</th>\n",
       "      <td>25</td>\n",
       "      <td>0.95 ± 0.00</td>\n",
       "      <td>0.94 ± 0.01</td>\n",
       "      <td>0.96 ± 0.00</td>\n",
       "      <td>0.95 ± 0.00</td>\n",
       "    </tr>\n",
       "    <tr>\n",
       "      <th>5</th>\n",
       "      <td>30</td>\n",
       "      <td>0.95 ± 0.00</td>\n",
       "      <td>0.94 ± 0.01</td>\n",
       "      <td>0.96 ± 0.01</td>\n",
       "      <td>0.95 ± 0.00</td>\n",
       "    </tr>\n",
       "    <tr>\n",
       "      <th>6</th>\n",
       "      <td>35</td>\n",
       "      <td>0.95 ± 0.00</td>\n",
       "      <td>0.95 ± 0.01</td>\n",
       "      <td>0.96 ± 0.00</td>\n",
       "      <td>0.95 ± 0.00</td>\n",
       "    </tr>\n",
       "    <tr>\n",
       "      <th>7</th>\n",
       "      <td>40</td>\n",
       "      <td>0.95 ± 0.00</td>\n",
       "      <td>0.95 ± 0.01</td>\n",
       "      <td>0.96 ± 0.00</td>\n",
       "      <td>0.95 ± 0.00</td>\n",
       "    </tr>\n",
       "    <tr>\n",
       "      <th>8</th>\n",
       "      <td>45</td>\n",
       "      <td>0.95 ± 0.00</td>\n",
       "      <td>0.96 ± 0.01</td>\n",
       "      <td>0.96 ± 0.00</td>\n",
       "      <td>0.96 ± 0.00</td>\n",
       "    </tr>\n",
       "    <tr>\n",
       "      <th>9</th>\n",
       "      <td>50</td>\n",
       "      <td>0.95 ± 0.00</td>\n",
       "      <td>0.95 ± 0.01</td>\n",
       "      <td>0.96 ± 0.00</td>\n",
       "      <td>0.96 ± 0.00</td>\n",
       "    </tr>\n",
       "  </tbody>\n",
       "</table>\n",
       "</div>"
      ],
      "text/plain": [
       "    k     accuracy       recall    precision           f1\n",
       "0   5  0.74 ± 0.11  0.54 ± 0.24  0.94 ± 0.03  0.66 ± 0.18\n",
       "1  10  0.89 ± 0.02  0.83 ± 0.04  0.97 ± 0.01  0.89 ± 0.02\n",
       "2  15  0.93 ± 0.00  0.92 ± 0.02  0.95 ± 0.01  0.94 ± 0.01\n",
       "3  20  0.93 ± 0.01  0.91 ± 0.02  0.96 ± 0.01  0.94 ± 0.01\n",
       "4  25  0.95 ± 0.00  0.94 ± 0.01  0.96 ± 0.00  0.95 ± 0.00\n",
       "5  30  0.95 ± 0.00  0.94 ± 0.01  0.96 ± 0.01  0.95 ± 0.00\n",
       "6  35  0.95 ± 0.00  0.95 ± 0.01  0.96 ± 0.00  0.95 ± 0.00\n",
       "7  40  0.95 ± 0.00  0.95 ± 0.01  0.96 ± 0.00  0.95 ± 0.00\n",
       "8  45  0.95 ± 0.00  0.96 ± 0.01  0.96 ± 0.00  0.96 ± 0.00\n",
       "9  50  0.95 ± 0.00  0.95 ± 0.01  0.96 ± 0.00  0.96 ± 0.00"
      ]
     },
     "execution_count": 92,
     "metadata": {},
     "output_type": "execute_result"
    }
   ],
   "source": [
    "row_list = []\n",
    "for item in results:\n",
    "    fold_result = [i[\"val\"] for i in item[\"results\"]]\n",
    "    \n",
    "    keys = list(fold_result[0].keys())\n",
    "    keys = [k for k in keys if k != \"cm\"]\n",
    "    \n",
    "    fold_result_df = pd.DataFrame(fold_result)\n",
    "    fold_result_df_mean = fold_result_df[keys].mean()\n",
    "    fold_result_df_std = fold_result_df[keys].std()\n",
    "\n",
    "    list_values = [item['n_neighbors']]\n",
    "    for k in keys:\n",
    "        list_values.append(\"{:.2f} ± {:0.2f}\".format(fold_result_df_mean[k], fold_result_df_std[k]))\n",
    "    \n",
    "    row_list.append(list_values)\n",
    "\n",
    "df_results = pd.DataFrame(row_list, columns = ['k'] + keys)\n",
    "df_results"
   ]
  },
  {
   "cell_type": "markdown",
   "id": "e3208c22-fed0-4a2e-be54-75c0a68a0500",
   "metadata": {},
   "source": [
    "### 5. Avaliar resultados de teste"
   ]
  },
  {
   "cell_type": "code",
   "execution_count": 93,
   "id": "bf4cca70-3b10-449d-a2c2-a9a5932174ba",
   "metadata": {},
   "outputs": [
    {
     "data": {
      "application/vnd.jupyter.widget-view+json": {
       "model_id": "0c0849dd94d64fedbac15902b971bf47",
       "version_major": 2,
       "version_minor": 0
      },
      "text/plain": [
       "  0%|          | 0/10 [00:00<?, ?it/s]"
      ]
     },
     "metadata": {},
     "output_type": "display_data"
    },
    {
     "data": {
      "application/vnd.jupyter.widget-view+json": {
       "model_id": "713984721e6040e299b51edd19e7c20b",
       "version_major": 2,
       "version_minor": 0
      },
      "text/plain": [
       "  0%|          | 0/5 [00:00<?, ?it/s]"
      ]
     },
     "metadata": {},
     "output_type": "display_data"
    },
    {
     "data": {
      "application/vnd.jupyter.widget-view+json": {
       "model_id": "84934d05a3bf48a09ae10c5b18cc41c0",
       "version_major": 2,
       "version_minor": 0
      },
      "text/plain": [
       "  0%|          | 0/5 [00:00<?, ?it/s]"
      ]
     },
     "metadata": {},
     "output_type": "display_data"
    },
    {
     "data": {
      "application/vnd.jupyter.widget-view+json": {
       "model_id": "6ef0b8930f9f4dee9e1264f740807c3c",
       "version_major": 2,
       "version_minor": 0
      },
      "text/plain": [
       "  0%|          | 0/5 [00:00<?, ?it/s]"
      ]
     },
     "metadata": {},
     "output_type": "display_data"
    },
    {
     "data": {
      "application/vnd.jupyter.widget-view+json": {
       "model_id": "8e24f982b01d4448af786e12395d4d88",
       "version_major": 2,
       "version_minor": 0
      },
      "text/plain": [
       "  0%|          | 0/5 [00:00<?, ?it/s]"
      ]
     },
     "metadata": {},
     "output_type": "display_data"
    },
    {
     "data": {
      "application/vnd.jupyter.widget-view+json": {
       "model_id": "b72f0866b4d54172b325ccdda75c2ff2",
       "version_major": 2,
       "version_minor": 0
      },
      "text/plain": [
       "  0%|          | 0/5 [00:00<?, ?it/s]"
      ]
     },
     "metadata": {},
     "output_type": "display_data"
    },
    {
     "data": {
      "application/vnd.jupyter.widget-view+json": {
       "model_id": "06164875f51d420eb7c00e6bdf372b27",
       "version_major": 2,
       "version_minor": 0
      },
      "text/plain": [
       "  0%|          | 0/5 [00:00<?, ?it/s]"
      ]
     },
     "metadata": {},
     "output_type": "display_data"
    },
    {
     "data": {
      "application/vnd.jupyter.widget-view+json": {
       "model_id": "adaa5d5187134c79a0d24fe114c26af0",
       "version_major": 2,
       "version_minor": 0
      },
      "text/plain": [
       "  0%|          | 0/5 [00:00<?, ?it/s]"
      ]
     },
     "metadata": {},
     "output_type": "display_data"
    },
    {
     "data": {
      "application/vnd.jupyter.widget-view+json": {
       "model_id": "e6db953985ff424ea55f065967d77c09",
       "version_major": 2,
       "version_minor": 0
      },
      "text/plain": [
       "  0%|          | 0/5 [00:00<?, ?it/s]"
      ]
     },
     "metadata": {},
     "output_type": "display_data"
    },
    {
     "data": {
      "application/vnd.jupyter.widget-view+json": {
       "model_id": "00368554ded9448eaf3136f629be42a5",
       "version_major": 2,
       "version_minor": 0
      },
      "text/plain": [
       "  0%|          | 0/5 [00:00<?, ?it/s]"
      ]
     },
     "metadata": {},
     "output_type": "display_data"
    },
    {
     "data": {
      "application/vnd.jupyter.widget-view+json": {
       "model_id": "ed790b96adbd4971ae36179c4dd3b4e6",
       "version_major": 2,
       "version_minor": 0
      },
      "text/plain": [
       "  0%|          | 0/5 [00:00<?, ?it/s]"
      ]
     },
     "metadata": {},
     "output_type": "display_data"
    }
   ],
   "source": [
    "results_test = []\n",
    "\n",
    "for n_knn in tqdm(results):\n",
    "    results_fold = []\n",
    "    for kfold in tqdm(n_knn['results']):\n",
    "        bow_test = kfold['tfidf'].transform(x_test)\n",
    "        y_test_pred = kfold['model'].predict(bow_test)\n",
    "        results_fold.append({\n",
    "            \"fold\": kfold['fold'],\n",
    "            \"test\": score(y_test, y_test_pred),\n",
    "        })\n",
    "    results_test.append({\n",
    "        \"n_neighbors\": n_knn['n_neighbors'],\n",
    "        \"results\": results_fold\n",
    "    })"
   ]
  },
  {
   "cell_type": "code",
   "execution_count": 94,
   "id": "2c28e768-efd6-4c0a-ba73-8a2815a2b729",
   "metadata": {
    "jupyter": {
     "source_hidden": true
    }
   },
   "outputs": [
    {
     "data": {
      "text/plain": [
       "'\\nfor item in results_test:\\n    fold_result = [i[\"test\"] for i in item[\"results\"]]\\n    \\n    keys = list(fold_result[0].keys())\\n    keys = [k for k in keys if k != \"cm\"]\\n    \\n    fold_result_df = pd.DataFrame(fold_result)\\n    fold_result_df_mean = fold_result_df[keys].mean()\\n    fold_result_df_std = fold_result_df[keys].std()\\n\\n    print(\"VAL Model: k = \", item[\\'n_neighbors\\'])\\n    for k in keys:\\n        print(k, \"%.2f\"%fold_result_df_mean[k], \"± %0.2f\"%fold_result_df_std[k])\\n    print()\\n'"
      ]
     },
     "execution_count": 94,
     "metadata": {},
     "output_type": "execute_result"
    }
   ],
   "source": [
    "'''\n",
    "for item in results_test:\n",
    "    fold_result = [i[\"test\"] for i in item[\"results\"]]\n",
    "    \n",
    "    keys = list(fold_result[0].keys())\n",
    "    keys = [k for k in keys if k != \"cm\"]\n",
    "    \n",
    "    fold_result_df = pd.DataFrame(fold_result)\n",
    "    fold_result_df_mean = fold_result_df[keys].mean()\n",
    "    fold_result_df_std = fold_result_df[keys].std()\n",
    "\n",
    "    print(\"VAL Model: k = \", item['n_neighbors'])\n",
    "    for k in keys:\n",
    "        print(k, \"%.2f\"%fold_result_df_mean[k], \"± %0.2f\"%fold_result_df_std[k])\n",
    "    print()\n",
    "'''"
   ]
  },
  {
   "cell_type": "code",
   "execution_count": 95,
   "id": "d3bf809e-2bac-4e0d-ab07-39cf5ca354e1",
   "metadata": {},
   "outputs": [
    {
     "data": {
      "text/html": [
       "<div>\n",
       "<style scoped>\n",
       "    .dataframe tbody tr th:only-of-type {\n",
       "        vertical-align: middle;\n",
       "    }\n",
       "\n",
       "    .dataframe tbody tr th {\n",
       "        vertical-align: top;\n",
       "    }\n",
       "\n",
       "    .dataframe thead th {\n",
       "        text-align: right;\n",
       "    }\n",
       "</style>\n",
       "<table border=\"1\" class=\"dataframe\">\n",
       "  <thead>\n",
       "    <tr style=\"text-align: right;\">\n",
       "      <th></th>\n",
       "      <th>k</th>\n",
       "      <th>accuracy</th>\n",
       "      <th>recall</th>\n",
       "      <th>precision</th>\n",
       "      <th>f1</th>\n",
       "    </tr>\n",
       "  </thead>\n",
       "  <tbody>\n",
       "    <tr>\n",
       "      <th>0</th>\n",
       "      <td>5</td>\n",
       "      <td>0.73 ± 0.11</td>\n",
       "      <td>0.54 ± 0.24</td>\n",
       "      <td>0.94 ± 0.04</td>\n",
       "      <td>0.66 ± 0.18</td>\n",
       "    </tr>\n",
       "    <tr>\n",
       "      <th>1</th>\n",
       "      <td>10</td>\n",
       "      <td>0.89 ± 0.02</td>\n",
       "      <td>0.83 ± 0.04</td>\n",
       "      <td>0.97 ± 0.01</td>\n",
       "      <td>0.89 ± 0.02</td>\n",
       "    </tr>\n",
       "    <tr>\n",
       "      <th>2</th>\n",
       "      <td>15</td>\n",
       "      <td>0.94 ± 0.01</td>\n",
       "      <td>0.92 ± 0.02</td>\n",
       "      <td>0.95 ± 0.01</td>\n",
       "      <td>0.94 ± 0.01</td>\n",
       "    </tr>\n",
       "    <tr>\n",
       "      <th>3</th>\n",
       "      <td>20</td>\n",
       "      <td>0.94 ± 0.00</td>\n",
       "      <td>0.92 ± 0.01</td>\n",
       "      <td>0.96 ± 0.01</td>\n",
       "      <td>0.94 ± 0.00</td>\n",
       "    </tr>\n",
       "    <tr>\n",
       "      <th>4</th>\n",
       "      <td>25</td>\n",
       "      <td>0.95 ± 0.00</td>\n",
       "      <td>0.94 ± 0.01</td>\n",
       "      <td>0.96 ± 0.01</td>\n",
       "      <td>0.95 ± 0.00</td>\n",
       "    </tr>\n",
       "    <tr>\n",
       "      <th>5</th>\n",
       "      <td>30</td>\n",
       "      <td>0.95 ± 0.00</td>\n",
       "      <td>0.94 ± 0.01</td>\n",
       "      <td>0.96 ± 0.01</td>\n",
       "      <td>0.95 ± 0.00</td>\n",
       "    </tr>\n",
       "    <tr>\n",
       "      <th>6</th>\n",
       "      <td>35</td>\n",
       "      <td>0.95 ± 0.00</td>\n",
       "      <td>0.95 ± 0.01</td>\n",
       "      <td>0.96 ± 0.00</td>\n",
       "      <td>0.95 ± 0.00</td>\n",
       "    </tr>\n",
       "    <tr>\n",
       "      <th>7</th>\n",
       "      <td>40</td>\n",
       "      <td>0.95 ± 0.00</td>\n",
       "      <td>0.95 ± 0.00</td>\n",
       "      <td>0.96 ± 0.00</td>\n",
       "      <td>0.96 ± 0.00</td>\n",
       "    </tr>\n",
       "    <tr>\n",
       "      <th>8</th>\n",
       "      <td>45</td>\n",
       "      <td>0.95 ± 0.00</td>\n",
       "      <td>0.96 ± 0.00</td>\n",
       "      <td>0.96 ± 0.01</td>\n",
       "      <td>0.96 ± 0.00</td>\n",
       "    </tr>\n",
       "    <tr>\n",
       "      <th>9</th>\n",
       "      <td>50</td>\n",
       "      <td>0.96 ± 0.00</td>\n",
       "      <td>0.95 ± 0.00</td>\n",
       "      <td>0.96 ± 0.00</td>\n",
       "      <td>0.96 ± 0.00</td>\n",
       "    </tr>\n",
       "  </tbody>\n",
       "</table>\n",
       "</div>"
      ],
      "text/plain": [
       "    k     accuracy       recall    precision           f1\n",
       "0   5  0.73 ± 0.11  0.54 ± 0.24  0.94 ± 0.04  0.66 ± 0.18\n",
       "1  10  0.89 ± 0.02  0.83 ± 0.04  0.97 ± 0.01  0.89 ± 0.02\n",
       "2  15  0.94 ± 0.01  0.92 ± 0.02  0.95 ± 0.01  0.94 ± 0.01\n",
       "3  20  0.94 ± 0.00  0.92 ± 0.01  0.96 ± 0.01  0.94 ± 0.00\n",
       "4  25  0.95 ± 0.00  0.94 ± 0.01  0.96 ± 0.01  0.95 ± 0.00\n",
       "5  30  0.95 ± 0.00  0.94 ± 0.01  0.96 ± 0.01  0.95 ± 0.00\n",
       "6  35  0.95 ± 0.00  0.95 ± 0.01  0.96 ± 0.00  0.95 ± 0.00\n",
       "7  40  0.95 ± 0.00  0.95 ± 0.00  0.96 ± 0.00  0.96 ± 0.00\n",
       "8  45  0.95 ± 0.00  0.96 ± 0.00  0.96 ± 0.01  0.96 ± 0.00\n",
       "9  50  0.96 ± 0.00  0.95 ± 0.00  0.96 ± 0.00  0.96 ± 0.00"
      ]
     },
     "execution_count": 95,
     "metadata": {},
     "output_type": "execute_result"
    }
   ],
   "source": [
    "row_list = []\n",
    "for item in results_test:\n",
    "    fold_result = [i[\"test\"] for i in item[\"results\"]]\n",
    "    \n",
    "    keys = list(fold_result[0].keys())\n",
    "    keys = [k for k in keys if k != \"cm\"]\n",
    "    \n",
    "    fold_result_df = pd.DataFrame(fold_result)\n",
    "    fold_result_df_mean = fold_result_df[keys].mean()\n",
    "    fold_result_df_std = fold_result_df[keys].std()\n",
    "\n",
    "    list_values = [item['n_neighbors']]\n",
    "    for k in keys:\n",
    "        list_values.append(\"{:.2f} ± {:0.2f}\".format(fold_result_df_mean[k], fold_result_df_std[k]))\n",
    "    \n",
    "    row_list.append(list_values)\n",
    "\n",
    "df_results_test = pd.DataFrame(row_list, columns = ['k'] + keys)\n",
    "df_results_test"
   ]
  },
  {
   "cell_type": "markdown",
   "id": "58749894-c6e5-461e-a9b0-7b9a7cc8823c",
   "metadata": {},
   "source": [
    "### ROC CURVE"
   ]
  },
  {
   "cell_type": "code",
   "execution_count": 98,
   "id": "c96f6a9f-4c41-4be7-bc1c-fcdfd7be9de5",
   "metadata": {},
   "outputs": [
    {
     "data": {
      "image/png": "[encoded data removed]",
      "text/plain": [
       "<Figure size 600x600 with 1 Axes>"
      ]
     },
     "metadata": {},
     "output_type": "display_data"
    }
   ],
   "source": [
    "n_knn = results[0]\n",
    "\n",
    "tprs = []\n",
    "aucs = []\n",
    "mean_fpr = np.linspace(0, 1, 100)\n",
    "\n",
    "fig, ax = plt.subplots(figsize=(6, 6))\n",
    "for kfold in n_knn['results']:\n",
    "    classifier = kfold['model']\n",
    "    bow_test_roc = kfold['tfidf'].transform(x_test)\n",
    "    viz = RocCurveDisplay.from_estimator(\n",
    "        classifier,\n",
    "        bow_test_roc,\n",
    "        y_test,\n",
    "        name=f\"ROC fold {fold}\",\n",
    "        alpha=0.3,\n",
    "        lw=1,\n",
    "        ax=ax,\n",
    "        plot_chance_level=(fold == n_splits - 1),\n",
    "    )\n",
    "    interp_tpr = np.interp(mean_fpr, viz.fpr, viz.tpr)\n",
    "    interp_tpr[0] = 0.0\n",
    "    tprs.append(interp_tpr)\n",
    "    aucs.append(viz.roc_auc)\n",
    "\n",
    "mean_tpr = np.mean(tprs, axis=0)\n",
    "mean_tpr[-1] = 1.0\n",
    "mean_auc = auc(mean_fpr, mean_tpr)\n",
    "std_auc = np.std(aucs)\n",
    "ax.plot(\n",
    "    mean_fpr,\n",
    "    mean_tpr,\n",
    "    color=\"b\",\n",
    "    label=r\"Mean ROC (AUC = %0.2f $\\pm$ %0.2f)\" % (mean_auc, std_auc),\n",
    "    lw=2,\n",
    "    alpha=0.8,\n",
    ")\n",
    "\n",
    "std_tpr = np.std(tprs, axis=0)\n",
    "tprs_upper = np.minimum(mean_tpr + std_tpr, 1)\n",
    "tprs_lower = np.maximum(mean_tpr - std_tpr, 0)\n",
    "ax.fill_between(\n",
    "    mean_fpr,\n",
    "    tprs_lower,\n",
    "    tprs_upper,\n",
    "    color=\"grey\",\n",
    "    alpha=0.2,\n",
    "    label=r\"$\\pm$ 1 std. dev.\",\n",
    ")\n",
    "\n",
    "ax.set(\n",
    "    xlabel=\"False Positive Rate\",\n",
    "    ylabel=\"True Positive Rate\",\n",
    "    title=f\"Mean ROC curve with variability\",\n",
    ")\n",
    "ax.legend(loc=\"lower right\")\n",
    "plt.show()"
   ]
  },
  {
   "cell_type": "code",
   "execution_count": null,
   "id": "b689d3f1-0f35-4a77-a418-a079c16eb1dd",
   "metadata": {},
   "outputs": [],
   "source": []
  }
 ],
 "metadata": {
  "kernelspec": {
   "display_name": "Python 3 (ipykernel)",
   "language": "python",
   "name": "python3"
  },
  "language_info": {
   "codemirror_mode": {
    "name": "ipython",
    "version": 3
   },
   "file_extension": ".py",
   "mimetype": "text/x-python",
   "name": "python",
   "nbconvert_exporter": "python",
   "pygments_lexer": "ipython3",
   "version": "3.11.9"
  }
 },
 "nbformat": 4,
 "nbformat_minor": 5
}
