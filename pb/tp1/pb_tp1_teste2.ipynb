{
 "cells": [
  {
   "cell_type": "code",
   "execution_count": 16,
   "id": "f24fcfa4-590e-4b88-9292-990f8c3c6118",
   "metadata": {},
   "outputs": [],
   "source": [
    "import pandas as pd\n",
    "\n",
    "from sklearn.model_selection import train_test_split\n",
    "from sklearn.preprocessing import LabelEncoder\n",
    "from sklearn.preprocessing import PowerTransformer\n",
    "from sklearn.neighbors import KNeighborsClassifier"
   ]
  },
  {
   "cell_type": "code",
   "execution_count": 17,
   "id": "cb3c9e92-b6a7-4dde-9c51-4440cda077db",
   "metadata": {},
   "outputs": [],
   "source": [
    "df = pd.read_csv('titanic-dataset.csv')\n",
    "\n",
    "df = df.drop(['PassengerId', 'Name', 'Ticket', 'Cabin', 'Embarked'], axis=1)\n",
    "\n",
    "df = df.dropna()\n",
    "\n",
    "le = LabelEncoder()\n",
    "df.Sex = le.fit(df.Sex).transform(df.Sex)"
   ]
  },
  {
   "cell_type": "code",
   "execution_count": 18,
   "id": "43c6e289-912e-4888-b579-bf668cac3171",
   "metadata": {},
   "outputs": [],
   "source": [
    "x = df.drop(['Survived'], axis=1)\n",
    "y = df.Survived\n",
    "\n",
    "x_train, x_test, y_train, y_test = train_test_split(x, y, test_size=0.20, random_state=1)"
   ]
  },
  {
   "cell_type": "code",
   "execution_count": 19,
   "id": "6bfe5ca2-c6c4-45a7-9953-3ceabaad8641",
   "metadata": {},
   "outputs": [],
   "source": [
    "def apply_transformation(x):\n",
    "    x_transf = x.copy()\n",
    "    scaler = PowerTransformer()\n",
    "    x_transf[['Age', 'SibSp', 'Parch', 'Fare']] = scaler.fit_transform(x_transf[['Age', 'SibSp', 'Parch', 'Fare']])\n",
    "    return x_transf"
   ]
  },
  {
   "cell_type": "code",
   "execution_count": 20,
   "id": "7b92307a-10d6-4689-a3dc-86d27fa39e6a",
   "metadata": {},
   "outputs": [],
   "source": [
    "# TRANSFORMAR DADOS\n",
    "x_train_transf = apply_transformation(x_train)"
   ]
  },
  {
   "cell_type": "code",
   "execution_count": 21,
   "id": "c1a14a75-9d7e-474b-a054-aac03b0ea2fa",
   "metadata": {},
   "outputs": [
    {
     "data": {
      "text/plain": [
       "0.7902097902097902"
      ]
     },
     "execution_count": 21,
     "metadata": {},
     "output_type": "execute_result"
    }
   ],
   "source": [
    "knn = KNeighborsClassifier(n_neighbors=3)\n",
    "knn.fit(x_train_transf, y_train)\n",
    "\n",
    "x_test_transf = apply_transformation(x_test)\n",
    "knn.score(x_test_transf, y_test)"
   ]
  },
  {
   "cell_type": "code",
   "execution_count": 22,
   "id": "e3936044-008c-46ca-b7d3-49660b2db389",
   "metadata": {},
   "outputs": [],
   "source": [
    "ks = range(1, 11)\n",
    "\n",
    "list_results = list()\n",
    "\n",
    "for k in ks:\n",
    "    knn = KNeighborsClassifier(n_neighbors=k)\n",
    "    model = knn.fit(x_train_transf, y_train)\n",
    "    score = knn.score(x_test_transf, y_test)\n",
    "\n",
    "    results = {\"k\": k, \"model\": model, \"score\": score}\n",
    "    list_results.append(results)"
   ]
  },
  {
   "cell_type": "code",
   "execution_count": 23,
   "id": "38d6b478-7add-487a-b7c3-e74f1f3fd9d0",
   "metadata": {},
   "outputs": [
    {
     "name": "stdout",
     "output_type": "stream",
     "text": [
      "1 0.7342657342657343 KNeighborsClassifier(n_neighbors=1)\n",
      "2 0.8041958041958042 KNeighborsClassifier(n_neighbors=2)\n",
      "3 0.7902097902097902 KNeighborsClassifier(n_neighbors=3)\n",
      "4 0.8111888111888111 KNeighborsClassifier(n_neighbors=4)\n",
      "5 0.8111888111888111 KNeighborsClassifier()\n",
      "6 0.8321678321678322 KNeighborsClassifier(n_neighbors=6)\n",
      "7 0.8251748251748252 KNeighborsClassifier(n_neighbors=7)\n",
      "8 0.8251748251748252 KNeighborsClassifier(n_neighbors=8)\n",
      "9 0.8461538461538461 KNeighborsClassifier(n_neighbors=9)\n",
      "10 0.8461538461538461 KNeighborsClassifier(n_neighbors=10)\n"
     ]
    }
   ],
   "source": [
    "for result in list_results:\n",
    "    print(result[\"k\"], result[\"score\"], result[\"model\"])"
   ]
  },
  {
   "cell_type": "code",
   "execution_count": null,
   "id": "47e20bcc-9df1-4845-99c1-684d19f9b70b",
   "metadata": {},
   "outputs": [],
   "source": []
  }
 ],
 "metadata": {
  "kernelspec": {
   "display_name": "Python 3 (ipykernel)",
   "language": "python",
   "name": "python3"
  },
  "language_info": {
   "codemirror_mode": {
    "name": "ipython",
    "version": 3
   },
   "file_extension": ".py",
   "mimetype": "text/x-python",
   "name": "python",
   "nbconvert_exporter": "python",
   "pygments_lexer": "ipython3",
   "version": "3.11.9"
  }
 },
 "nbformat": 4,
 "nbformat_minor": 5
}
