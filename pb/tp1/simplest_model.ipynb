{
 "cells": [
  {
   "cell_type": "code",
   "execution_count": 32,
   "id": "f3b5ed12-8a8f-4552-86f4-44de3751971e",
   "metadata": {},
   "outputs": [],
   "source": [
    "import pandas as pd\n",
    "\n",
    "from sklearn.preprocessing import LabelEncoder\n",
    "from sklearn.model_selection import train_test_split\n",
    "from sklearn.neighbors import KNeighborsClassifier\n"
   ]
  },
  {
   "cell_type": "code",
   "execution_count": 33,
   "id": "3d023d51-d7e5-4269-b143-83e0107352ee",
   "metadata": {},
   "outputs": [],
   "source": [
    "# LEITURA CSV\n",
    "df = pd.read_csv('titanic-dataset.csv')"
   ]
  },
  {
   "cell_type": "code",
   "execution_count": 34,
   "id": "ab1aa43e-cc67-49ac-86cb-a1d2f7e6e340",
   "metadata": {},
   "outputs": [],
   "source": [
    "# EXCLUSÃO DE FEATURES DESNECESSÁRIAS\n",
    "df = df.drop(['PassengerId', 'Name', 'Ticket', 'Cabin', 'Embarked'], axis=1)\n",
    "\n",
    "# EXCLUSÃO DE NAN\n",
    "df = df.dropna()\n",
    "\n",
    "# LABEL ENCODER PARA SEXO\n",
    "le = LabelEncoder()\n",
    "df.Sex = le.fit(df.Sex).transform(df.Sex)"
   ]
  },
  {
   "cell_type": "code",
   "execution_count": 35,
   "id": "10b01451-68ba-4dbf-9ea0-7cd9f1564369",
   "metadata": {},
   "outputs": [],
   "source": [
    "# SEPARAÇÃO X E Y\n",
    "x = df.drop(['Survived'], axis=1)\n",
    "y = df.Survived\n",
    "\n",
    "# SPLIT TESTE E TREINO\n",
    "x_train, x_test, y_train, y_test = train_test_split(x, y, test_size=0.20, random_state=1)"
   ]
  },
  {
   "cell_type": "code",
   "execution_count": 36,
   "id": "ca4c8ec3-5026-4e86-ab63-4c69da10d60a",
   "metadata": {},
   "outputs": [],
   "source": [
    "ks = range(1, 11)\n",
    "\n",
    "list_results = list()\n",
    "\n",
    "for k in ks:\n",
    "    knn = KNeighborsClassifier(n_neighbors=k)\n",
    "    model = knn.fit(x_train, y_train)\n",
    "    score = knn.score(x_test, y_test)\n",
    "\n",
    "    results = {\"k\": k, \"model\": model, \"score\": score}\n",
    "    list_results.append(results)"
   ]
  },
  {
   "cell_type": "code",
   "execution_count": 37,
   "id": "72c332cb-7d4f-43b1-bf85-e7aaefb8ee78",
   "metadata": {},
   "outputs": [
    {
     "name": "stdout",
     "output_type": "stream",
     "text": [
      "1 0.6853146853146853 KNeighborsClassifier(n_neighbors=1)\n",
      "2 0.6993006993006993 KNeighborsClassifier(n_neighbors=2)\n",
      "3 0.6783216783216783 KNeighborsClassifier(n_neighbors=3)\n",
      "4 0.6993006993006993 KNeighborsClassifier(n_neighbors=4)\n",
      "5 0.6923076923076923 KNeighborsClassifier()\n",
      "6 0.7062937062937062 KNeighborsClassifier(n_neighbors=6)\n",
      "7 0.7062937062937062 KNeighborsClassifier(n_neighbors=7)\n",
      "8 0.6993006993006993 KNeighborsClassifier(n_neighbors=8)\n",
      "9 0.7062937062937062 KNeighborsClassifier(n_neighbors=9)\n",
      "10 0.7062937062937062 KNeighborsClassifier(n_neighbors=10)\n"
     ]
    }
   ],
   "source": [
    "for result in list_results:\n",
    "    print(result[\"k\"], result[\"score\"], result[\"model\"])"
   ]
  },
  {
   "cell_type": "code",
   "execution_count": null,
   "id": "337906a7-13d3-42f9-92a2-5cbcffb72ca4",
   "metadata": {},
   "outputs": [],
   "source": []
  }
 ],
 "metadata": {
  "kernelspec": {
   "display_name": "Python 3 (ipykernel)",
   "language": "python",
   "name": "python3"
  },
  "language_info": {
   "codemirror_mode": {
    "name": "ipython",
    "version": 3
   },
   "file_extension": ".py",
   "mimetype": "text/x-python",
   "name": "python",
   "nbconvert_exporter": "python",
   "pygments_lexer": "ipython3",
   "version": "3.11.9"
  }
 },
 "nbformat": 4,
 "nbformat_minor": 5
}
