{
 "cells": [
  {
   "cell_type": "code",
   "execution_count": 29,
   "id": "eb0537d8-f858-41e9-bc57-f894c41171be",
   "metadata": {},
   "outputs": [],
   "source": [
    "import pandas as pd\n",
    "\n",
    "from sklearn.preprocessing import LabelEncoder\n",
    "from sklearn.model_selection import train_test_split\n",
    "from sklearn.neighbors import KNeighborsClassifier\n"
   ]
  },
  {
   "cell_type": "code",
   "execution_count": 30,
   "id": "f68ef884-e3a1-4aff-aa71-71f5142ce381",
   "metadata": {},
   "outputs": [],
   "source": [
    "# LEITURA CSV\n",
    "df = pd.read_csv('titanic-dataset.csv')"
   ]
  },
  {
   "cell_type": "code",
   "execution_count": 31,
   "id": "26a00190-4daa-459c-83a7-a4f0ddea282a",
   "metadata": {},
   "outputs": [],
   "source": [
    "# EXCLUSÃO DE FEATURES DESNECESSÁRIAS\n",
    "df = df[['Sex', 'Pclass', 'Fare', 'Survived']]\n",
    "\n",
    "# EXCLUSÃO DE NAN\n",
    "df = df.dropna()\n",
    "\n",
    "# LABEL ENCODER PARA SEXO\n",
    "le = LabelEncoder()\n",
    "df.Sex = le.fit(df.Sex).transform(df.Sex)"
   ]
  },
  {
   "cell_type": "code",
   "execution_count": 32,
   "id": "27bd5374-7cca-4db8-a252-e7b957577968",
   "metadata": {},
   "outputs": [],
   "source": [
    "# SEPARAÇÃO X E Y\n",
    "x = df.drop(['Survived'], axis=1)\n",
    "y = df.Survived\n",
    "\n",
    "# SPLIT TESTE E TREINO\n",
    "x_train, x_test, y_train, y_test = train_test_split(x, y, test_size=0.20, random_state=1)"
   ]
  },
  {
   "cell_type": "code",
   "execution_count": 33,
   "id": "1eb8c41f-b8fe-46ff-a579-4066d8a20ce4",
   "metadata": {},
   "outputs": [],
   "source": [
    "ks = range(1, 11)\n",
    "\n",
    "list_results = list()\n",
    "\n",
    "for k in ks:\n",
    "    knn = KNeighborsClassifier(n_neighbors=k)\n",
    "    model = knn.fit(x_train, y_train)\n",
    "    score = knn.score(x_test, y_test)\n",
    "\n",
    "    results = {\"k\": k, \"model\": model, \"score\": score}\n",
    "    list_results.append(results)"
   ]
  },
  {
   "cell_type": "code",
   "execution_count": 34,
   "id": "fe2719fa-c846-4951-b00c-9489e68fbce4",
   "metadata": {},
   "outputs": [
    {
     "name": "stdout",
     "output_type": "stream",
     "text": [
      "1 0.8100558659217877 KNeighborsClassifier(n_neighbors=1)\n",
      "2 0.7821229050279329 KNeighborsClassifier(n_neighbors=2)\n",
      "3 0.7932960893854749 KNeighborsClassifier(n_neighbors=3)\n",
      "4 0.7932960893854749 KNeighborsClassifier(n_neighbors=4)\n",
      "5 0.8156424581005587 KNeighborsClassifier()\n",
      "6 0.7821229050279329 KNeighborsClassifier(n_neighbors=6)\n",
      "7 0.8156424581005587 KNeighborsClassifier(n_neighbors=7)\n",
      "8 0.7877094972067039 KNeighborsClassifier(n_neighbors=8)\n",
      "9 0.7932960893854749 KNeighborsClassifier(n_neighbors=9)\n",
      "10 0.7821229050279329 KNeighborsClassifier(n_neighbors=10)\n"
     ]
    }
   ],
   "source": [
    "for result in list_results:\n",
    "    print(result[\"k\"], result[\"score\"], result[\"model\"])"
   ]
  },
  {
   "cell_type": "code",
   "execution_count": null,
   "id": "64a31eee-564f-4645-bbbc-2c3929f1e722",
   "metadata": {},
   "outputs": [],
   "source": []
  }
 ],
 "metadata": {
  "kernelspec": {
   "display_name": "Python 3 (ipykernel)",
   "language": "python",
   "name": "python3"
  },
  "language_info": {
   "codemirror_mode": {
    "name": "ipython",
    "version": 3
   },
   "file_extension": ".py",
   "mimetype": "text/x-python",
   "name": "python",
   "nbconvert_exporter": "python",
   "pygments_lexer": "ipython3",
   "version": "3.11.9"
  }
 },
 "nbformat": 4,
 "nbformat_minor": 5
}
