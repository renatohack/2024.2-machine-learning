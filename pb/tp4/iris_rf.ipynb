{
 "cells": [
  {
   "cell_type": "markdown",
   "id": "5c84d6d1-5695-4c4f-a354-2d58914af777",
   "metadata": {},
   "source": [
    "### Init"
   ]
  },
  {
   "cell_type": "code",
   "execution_count": 3,
   "id": "d3f11edb-3943-431d-8477-ee03568d4e82",
   "metadata": {},
   "outputs": [],
   "source": [
    "from sklearn.datasets import load_iris\n",
    "from sklearn.model_selection import train_test_split"
   ]
  },
  {
   "cell_type": "code",
   "execution_count": 5,
   "id": "7dc439c4-f2f4-4058-bddf-da074f5325c6",
   "metadata": {},
   "outputs": [],
   "source": [
    "iris = load_iris()\n",
    "x, y = iris.data, iris.target"
   ]
  },
  {
   "cell_type": "code",
   "execution_count": 6,
   "id": "de371d3f-3c3f-41ee-be91-816647f0bea5",
   "metadata": {},
   "outputs": [],
   "source": [
    "x_train, x_test, y_train, y_test = train_test_split(x, y, test_size=0.2, random_state=0)"
   ]
  },
  {
   "cell_type": "markdown",
   "id": "57f62d74-8dc9-41af-8c3d-10519e1d9aaa",
   "metadata": {},
   "source": [
    "### Clusterização K-Médias"
   ]
  },
  {
   "cell_type": "code",
   "execution_count": null,
   "id": "49e86a9f-a96c-4e7b-9653-b5595b293c60",
   "metadata": {},
   "outputs": [],
   "source": []
  },
  {
   "cell_type": "markdown",
   "id": "4bdee1b4-eb91-4958-9216-f3f28b287359",
   "metadata": {},
   "source": [
    "### Criação de Features"
   ]
  },
  {
   "cell_type": "code",
   "execution_count": null,
   "id": "abfb2a10-56d7-446c-a053-46ce6ccca095",
   "metadata": {},
   "outputs": [],
   "source": []
  },
  {
   "cell_type": "markdown",
   "id": "b3b004f3-722a-40f9-9fd3-12855682d671",
   "metadata": {},
   "source": [
    "### Modelo de ML"
   ]
  },
  {
   "cell_type": "code",
   "execution_count": null,
   "id": "2fb8395f-ec72-4c56-83d6-eb7d4186bf88",
   "metadata": {},
   "outputs": [],
   "source": []
  },
  {
   "cell_type": "markdown",
   "id": "32a76da9-a25f-4ea2-8487-b1a918665040",
   "metadata": {},
   "source": [
    "### Avaliação de Modelos"
   ]
  },
  {
   "cell_type": "code",
   "execution_count": null,
   "id": "2b834e3d-fb42-42cb-9d02-9c4e3f344b55",
   "metadata": {},
   "outputs": [],
   "source": []
  },
  {
   "cell_type": "markdown",
   "id": "6f24be0c-87c3-482f-bdb9-8991ae3b6827",
   "metadata": {},
   "source": [
    "### Análise Comparativa"
   ]
  },
  {
   "cell_type": "code",
   "execution_count": null,
   "id": "1a2dd5f1-6c6c-41ee-86be-a833c01bcbf1",
   "metadata": {},
   "outputs": [],
   "source": []
  }
 ],
 "metadata": {
  "kernelspec": {
   "display_name": "Python 3 (ipykernel)",
   "language": "python",
   "name": "python3"
  },
  "language_info": {
   "codemirror_mode": {
    "name": "ipython",
    "version": 3
   },
   "file_extension": ".py",
   "mimetype": "text/x-python",
   "name": "python",
   "nbconvert_exporter": "python",
   "pygments_lexer": "ipython3",
   "version": "3.11.9"
  }
 },
 "nbformat": 4,
 "nbformat_minor": 5
}
