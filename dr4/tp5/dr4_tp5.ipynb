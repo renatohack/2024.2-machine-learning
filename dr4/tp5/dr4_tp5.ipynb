{
 "cells": [
  {
   "cell_type": "markdown",
   "id": "415ae2f3-7c15-4823-b8e5-73e7e851437a",
   "metadata": {
    "jp-MarkdownHeadingCollapsed": true
   },
   "source": [
    "# Init"
   ]
  },
  {
   "cell_type": "code",
   "execution_count": null,
   "id": "e35b7793-0654-4db9-90bc-1ba13bcbaa7c",
   "metadata": {
    "scrolled": true
   },
   "outputs": [],
   "source": [
    "!pip install lime\n",
    "!pip install shap"
   ]
  },
  {
   "cell_type": "code",
   "execution_count": null,
   "id": "37e71029-b69e-463b-8f0d-cf06f174e002",
   "metadata": {},
   "outputs": [],
   "source": [
    "import pandas as pd\n",
    "from sklearn.model_selection import train_test_split\n",
    "from sklearn.tree import DecisionTreeClassifier\n",
    "from sklearn.metrics import classification_report\n",
    "from sklearn.tree import plot_tree\n",
    "import matplotlib.pyplot as plt\n",
    "import lime\n",
    "import lime.lime_tabular\n",
    "import shap\n",
    "import numpy as np\n",
    "import matplotlib.pyplot as plt\n",
    "from sklearn.svm import SVC\n",
    "from sklearn.model_selection import train_test_split, cross_val_score\n",
    "from sklearn.metrics import classification_report, confusion_matrix\n",
    "from sklearn.preprocessing import StandardScaler\n",
    "import seaborn as sns"
   ]
  },
  {
   "cell_type": "code",
   "execution_count": null,
   "id": "f544f9e1-25e6-4d23-9b9c-04989a4d411c",
   "metadata": {},
   "outputs": [],
   "source": [
    "data = pd.read_csv('files/creditcard.csv')"
   ]
  },
  {
   "cell_type": "code",
   "execution_count": null,
   "id": "545854cb-64b8-421b-b285-86b5c11c1368",
   "metadata": {},
   "outputs": [],
   "source": [
    "X = data.drop('Class', axis=1)\n",
    "y = data['Class']"
   ]
  },
  {
   "cell_type": "code",
   "execution_count": null,
   "id": "ed63916f-883b-4999-8988-9adbb6522e4e",
   "metadata": {},
   "outputs": [],
   "source": [
    "X_train, X_test, y_train, y_test = train_test_split(X, y, test_size=0.2, random_state=42, stratify=y)"
   ]
  },
  {
   "cell_type": "code",
   "execution_count": null,
   "id": "b305f0cd-d0f8-4a43-8f25-0523637fc490",
   "metadata": {},
   "outputs": [],
   "source": [
    "scaler = StandardScaler()\n",
    "X_train_scaled = scaler.fit_transform(X_train)\n",
    "X_test_scaled = scaler.transform(X_test)"
   ]
  },
  {
   "cell_type": "markdown",
   "id": "553b2b28-eb02-4092-a72f-dd6e4aad12a4",
   "metadata": {
    "jp-MarkdownHeadingCollapsed": true
   },
   "source": [
    "# Decision Tree"
   ]
  },
  {
   "cell_type": "markdown",
   "id": "befe9b87-8cbe-4cd7-afcb-7b3bf2cb5302",
   "metadata": {
    "jp-MarkdownHeadingCollapsed": true
   },
   "source": [
    "## First DT model"
   ]
  },
  {
   "cell_type": "code",
   "execution_count": null,
   "id": "465f5453-19df-41fa-866b-0b71198d2d28",
   "metadata": {},
   "outputs": [],
   "source": [
    "clf = DecisionTreeClassifier(random_state=42)\n",
    "clf.fit(X_train, y_train)"
   ]
  },
  {
   "cell_type": "code",
   "execution_count": null,
   "id": "b4d76d54-0e17-4ba0-bd91-140c743b22a9",
   "metadata": {},
   "outputs": [],
   "source": [
    "y_pred = clf.predict(X_test)\n",
    "print(classification_report(y_test, y_pred))"
   ]
  },
  {
   "cell_type": "code",
   "execution_count": null,
   "id": "9d9c5364-6f2c-492e-9dd8-1c4807988f37",
   "metadata": {},
   "outputs": [],
   "source": [
    "plt.figure(figsize=(20,10))\n",
    "plot_tree(clf, filled=True, feature_names=X.columns, class_names=[\"No Fraud\", \"Fraud\"])\n",
    "plt.show()"
   ]
  },
  {
   "cell_type": "code",
   "execution_count": null,
   "id": "bd22951a-988e-46d4-9ebd-c66c06cd4082",
   "metadata": {},
   "outputs": [],
   "source": [
    "print(clf.get_depth())"
   ]
  },
  {
   "cell_type": "markdown",
   "id": "8a90c273-d5b3-4900-aa0f-27fa0c5d70db",
   "metadata": {
    "jp-MarkdownHeadingCollapsed": true
   },
   "source": [
    "## Second DT model (prunned)"
   ]
  },
  {
   "cell_type": "code",
   "execution_count": null,
   "id": "7d46ee3c-ee48-4950-98af-17869577f611",
   "metadata": {},
   "outputs": [],
   "source": [
    "max_depth = 7"
   ]
  },
  {
   "cell_type": "code",
   "execution_count": null,
   "id": "e5d4338f-f21b-42a4-b15c-e263c65c63e4",
   "metadata": {},
   "outputs": [],
   "source": [
    "pruned_clf = DecisionTreeClassifier(random_state=42, max_depth=max_depth)\n",
    "pruned_clf.fit(X_train, y_train)"
   ]
  },
  {
   "cell_type": "code",
   "execution_count": null,
   "id": "f22d61cf-6ec2-4f0b-b111-520df1df936c",
   "metadata": {},
   "outputs": [],
   "source": [
    "y_pred_pruned = pruned_clf.predict(X_test)\n",
    "print(classification_report(y_test, y_pred_pruned))"
   ]
  },
  {
   "cell_type": "code",
   "execution_count": null,
   "id": "6d4d2280-ee11-4ac8-8fcf-8f42eabfa6ed",
   "metadata": {},
   "outputs": [],
   "source": [
    "plt.figure(figsize=(20,10))\n",
    "plot_tree(pruned_clf, filled=True, feature_names=X.columns, class_names=[\"No Fraud\", \"Fraud\"])\n",
    "plt.show()"
   ]
  },
  {
   "cell_type": "markdown",
   "id": "08cd44ae-172f-4e9d-9132-a60a04219d8b",
   "metadata": {
    "jp-MarkdownHeadingCollapsed": true
   },
   "source": [
    "## Tree Features Importance"
   ]
  },
  {
   "cell_type": "code",
   "execution_count": null,
   "id": "4f0b2a78-b01e-48e4-b185-427b5c366783",
   "metadata": {},
   "outputs": [],
   "source": [
    "feature_importances = clf.feature_importances_"
   ]
  },
  {
   "cell_type": "code",
   "execution_count": null,
   "id": "0c4f5c54-eea7-4f4c-8723-36d4d22c2977",
   "metadata": {},
   "outputs": [],
   "source": [
    "indices = np.argsort(feature_importances)[::-1]  # Sort features by importance\n",
    "plt.figure(figsize=(10, 6))\n",
    "plt.title(\"Feature Importance in Decision Tree\")\n",
    "plt.bar(range(X.shape[1]), feature_importances[indices], align=\"center\")\n",
    "plt.xticks(range(X.shape[1]), X.columns[indices], rotation=90)\n",
    "plt.show()"
   ]
  },
  {
   "cell_type": "markdown",
   "id": "e196dd9d-bc14-46a2-ab69-7ce444a8d25a",
   "metadata": {
    "jp-MarkdownHeadingCollapsed": true
   },
   "source": [
    "## LIME"
   ]
  },
  {
   "cell_type": "code",
   "execution_count": null,
   "id": "8c875be6-c58e-4bdc-9fcb-bdfe8177f2d9",
   "metadata": {},
   "outputs": [],
   "source": [
    "explainer = lime.lime_tabular.LimeTabularExplainer(X_train.values, feature_names=X.columns, class_names=['No Fraud', 'Fraud'], verbose=True, mode='classification')\n",
    "\n",
    "i = 0\n",
    "exp = explainer.explain_instance(X_test.iloc[i].values, pruned_clf.predict_proba, num_features=10)\n",
    "\n",
    "exp.show_in_notebook(show_table=True)"
   ]
  },
  {
   "cell_type": "markdown",
   "id": "2aa0b6c5-f783-43e3-b50a-d10b71f818dc",
   "metadata": {
    "jp-MarkdownHeadingCollapsed": true
   },
   "source": [
    "## SHAP"
   ]
  },
  {
   "cell_type": "code",
   "execution_count": null,
   "id": "b335072a-2cd1-4c6e-b06b-7c0922573fb6",
   "metadata": {},
   "outputs": [],
   "source": [
    "explainer = shap.TreeExplainer(pruned_clf)"
   ]
  },
  {
   "cell_type": "code",
   "execution_count": null,
   "id": "6d772712-7c0f-4cb7-b570-1777d4df268a",
   "metadata": {},
   "outputs": [],
   "source": [
    "shap_values = explainer.shap_values(X_test)"
   ]
  },
  {
   "cell_type": "code",
   "execution_count": null,
   "id": "79c03432-b55d-46b5-a3f4-5c77281f5505",
   "metadata": {},
   "outputs": [],
   "source": [
    "shap_values.shape"
   ]
  },
  {
   "cell_type": "code",
   "execution_count": null,
   "id": "c294490e-92e5-406b-bf7c-88416aad401e",
   "metadata": {},
   "outputs": [],
   "source": [
    "test = shap_values[:,:,1]\n",
    "test.shape"
   ]
  },
  {
   "cell_type": "code",
   "execution_count": null,
   "id": "d9c17666-5d84-43eb-bf12-63a392a545d6",
   "metadata": {},
   "outputs": [],
   "source": [
    "shap.summary_plot(\n",
    "    shap_values[:,:, 0], \n",
    "    X_test\n",
    ")"
   ]
  },
  {
   "cell_type": "code",
   "execution_count": null,
   "id": "544475a7-3f22-421c-988e-e24daedd2e25",
   "metadata": {},
   "outputs": [],
   "source": [
    "shap_values_test = explainer(X_test)\n",
    "shap_values_test.shape"
   ]
  },
  {
   "cell_type": "code",
   "execution_count": null,
   "id": "350eca05-5eaa-4f84-8451-f6a7c3b43803",
   "metadata": {},
   "outputs": [],
   "source": [
    "shap.initjs()\n",
    "shap.force_plot(\n",
    "    explainer.expected_value[0],\n",
    "    shap_values_test.values[0, :, 0],\n",
    "    X_test.to_numpy()[0, :]\n",
    ")"
   ]
  },
  {
   "cell_type": "markdown",
   "id": "045a76c0-c859-4ea1-8d52-b22473a9f47d",
   "metadata": {},
   "source": [
    "## Retrain with Important Features"
   ]
  },
  {
   "cell_type": "code",
   "execution_count": null,
   "id": "0571084e-5072-437a-9882-68fadbbc6dad",
   "metadata": {},
   "outputs": [],
   "source": [
    "important_features = ['V17', 'V14', 'V12', 'V10']"
   ]
  },
  {
   "cell_type": "code",
   "execution_count": null,
   "id": "b1e9fcdc-10c3-4d80-9269-f8eccb3f01ef",
   "metadata": {},
   "outputs": [],
   "source": [
    "X_train_reduced = X_train[important_features]\n",
    "X_test_reduced = X_test[important_features]"
   ]
  },
  {
   "cell_type": "code",
   "execution_count": null,
   "id": "fc135342-2f66-4279-8bb5-3ff713bee2c0",
   "metadata": {},
   "outputs": [],
   "source": [
    "final_clf = DecisionTreeClassifier(random_state=42, max_depth=max_depth)\n",
    "final_clf.fit(X_train_reduced, y_train)"
   ]
  },
  {
   "cell_type": "code",
   "execution_count": null,
   "id": "a96a3848-3063-423c-91a5-5ac7396826e7",
   "metadata": {},
   "outputs": [],
   "source": [
    "y_pred_final = final_clf.predict(X_test_reduced)\n",
    "print(classification_report(y_test, y_pred_final))"
   ]
  },
  {
   "cell_type": "markdown",
   "id": "13c7f0aa-5bf6-45f7-ae0f-41878e7ba6d1",
   "metadata": {},
   "source": [
    "# SVM"
   ]
  },
  {
   "cell_type": "markdown",
   "id": "90cc66a7-924e-4692-a7c7-20ab2efe51d3",
   "metadata": {},
   "source": [
    "## SVM Linear"
   ]
  },
  {
   "cell_type": "code",
   "execution_count": null,
   "id": "b21fdf14-e1bc-48eb-ba83-c41bd102838f",
   "metadata": {},
   "outputs": [],
   "source": [
    "def plot_confusion_matrix(y_true, y_pred, title='Confusion Matrix'):\n",
    "    cm = confusion_matrix(y_true, y_pred)\n",
    "    plt.figure(figsize=(10, 7))\n",
    "    sns.heatmap(cm, annot=True, fmt='d', cmap='Blues', cbar=False,\n",
    "                xticklabels=['Not Fraud', 'Fraud'], yticklabels=['Not Fraud', 'Fraud'])\n",
    "    plt.xlabel('Predicted Labels')\n",
    "    plt.ylabel('True Labels')\n",
    "    plt.title(title)\n",
    "    plt.show()"
   ]
  },
  {
   "cell_type": "code",
   "execution_count": null,
   "id": "3cbf1f4a-f155-40dd-a73f-a956a7fc2f8e",
   "metadata": {},
   "outputs": [],
   "source": [
    "svm_linear = SVC(kernel='linear', random_state=42, max_iter=5000)\n",
    "svm_linear.fit(X_train_reduced, y_train)"
   ]
  },
  {
   "cell_type": "code",
   "execution_count": null,
   "id": "58a3af50-8e4c-4e31-85a3-e920326b5d34",
   "metadata": {},
   "outputs": [],
   "source": [
    "y_pred_linear = svm_linear.predict(X_test_reduced)"
   ]
  },
  {
   "cell_type": "code",
   "execution_count": null,
   "id": "d4cb1b66-a1e5-4249-9f70-9cdf1dc55296",
   "metadata": {},
   "outputs": [],
   "source": [
    "print(\"Classification Report:\\n\", classification_report(y_test, y_pred_linear))"
   ]
  },
  {
   "cell_type": "code",
   "execution_count": null,
   "id": "6bbfb47d-8b82-49f1-9e26-c2e7e00e8c9f",
   "metadata": {},
   "outputs": [],
   "source": [
    "plot_confusion_matrix(y_test, y_pred_linear, title='Confusion Matrix for SVM Linear')"
   ]
  },
  {
   "cell_type": "markdown",
   "id": "a0f431b7-9025-4ab8-acfc-7315f65d4f3c",
   "metadata": {},
   "source": [
    "## SVM Kernel"
   ]
  },
  {
   "cell_type": "code",
   "execution_count": null,
   "id": "99ce44e8-1e65-4ab8-bc86-609a21a3bd86",
   "metadata": {},
   "outputs": [],
   "source": [
    "svm_rbf = SVC(kernel='rbf', random_state=42, max_iter=5000)\n",
    "svm_rbf.fit(X_train_reduced, y_train)"
   ]
  },
  {
   "cell_type": "code",
   "execution_count": null,
   "id": "c43e0b47-22e5-40e0-acae-e36ad425351f",
   "metadata": {},
   "outputs": [],
   "source": [
    "y_pred_rbf = svm_rbf.predict(X_test_reduced)"
   ]
  },
  {
   "cell_type": "code",
   "execution_count": null,
   "id": "4b3cdf95-2dc7-47f2-883f-1b12c22a6205",
   "metadata": {},
   "outputs": [],
   "source": [
    "print(\"Classification Report:\\n\", classification_report(y_test, y_pred_rbf))"
   ]
  },
  {
   "cell_type": "code",
   "execution_count": null,
   "id": "dfaacba3-1fa1-4d4d-af54-4f33bc167770",
   "metadata": {},
   "outputs": [],
   "source": [
    "plot_confusion_matrix(y_test, y_pred_rbf, title='Confusion Matrix for SVM Linear')"
   ]
  },
  {
   "cell_type": "code",
   "execution_count": null,
   "id": "aeeb6915-ca69-4aab-94ff-27cb1a71e62c",
   "metadata": {},
   "outputs": [],
   "source": []
  }
 ],
 "metadata": {
  "kernelspec": {
   "display_name": "Python 3 (ipykernel)",
   "language": "python",
   "name": "python3"
  },
  "language_info": {
   "codemirror_mode": {
    "name": "ipython",
    "version": 3
   },
   "file_extension": ".py",
   "mimetype": "text/x-python",
   "name": "python",
   "nbconvert_exporter": "python",
   "pygments_lexer": "ipython3",
   "version": "3.11.9"
  }
 },
 "nbformat": 4,
 "nbformat_minor": 5
}
